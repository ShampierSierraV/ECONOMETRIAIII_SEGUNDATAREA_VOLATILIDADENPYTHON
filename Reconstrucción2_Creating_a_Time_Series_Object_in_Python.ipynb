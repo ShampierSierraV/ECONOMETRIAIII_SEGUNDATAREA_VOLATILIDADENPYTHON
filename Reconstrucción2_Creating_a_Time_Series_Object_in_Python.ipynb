{
  "cells": [
    {
      "cell_type": "markdown",
      "metadata": {
        "id": "kv2acn-_226Q"
      },
      "source": [
        "### Importing the Packages"
      ]
    },
    {
      "cell_type": "code",
      "execution_count": 1,
      "metadata": {
        "id": "xWtwi7HW226S"
      },
      "outputs": [],
      "source": [
        "import pandas as pd\n",
        "import numpy as np"
      ]
    },
    {
      "cell_type": "markdown",
      "metadata": {
        "id": "AVpb_INw226U"
      },
      "source": [
        "### Importing the data"
      ]
    },
    {
      "cell_type": "code",
      "execution_count": 2,
      "metadata": {
        "id": "zzaNbw8e226U"
      },
      "outputs": [],
      "source": [
        "#Cargo los datos desde un archivo CSV llamado \"df_comp.csv\" en un DataFrame llamado \"raw_csv_data\" utilizando la función \"pd.read_csv()\"\n",
        "raw_csv_data = pd.read_csv(\"df_comp.csv\")\n",
        "#Crea una copia del DataFrame raw_csv_data y lo asigno a la variable df_comp.\n",
        "df_comp=raw_csv_data.copy()"
      ]
    },
    {
      "cell_type": "markdown",
      "metadata": {
        "id": "B_bp2IG-226U"
      },
      "source": [
        "### Lenght of the Time Period"
      ]
    },
    {
      "cell_type": "code",
      "execution_count": 3,
      "metadata": {
        "colab": {
          "base_uri": "https://localhost:8080/",
          "height": 300
        },
        "id": "SYj16DAI226U",
        "outputId": "3fca91f5-3131-4849-dac7-c7a706fd2137",
        "scrolled": true
      },
      "outputs": [
        {
          "data": {
            "text/html": [
              "<div>\n",
              "<style scoped>\n",
              "    .dataframe tbody tr th:only-of-type {\n",
              "        vertical-align: middle;\n",
              "    }\n",
              "\n",
              "    .dataframe tbody tr th {\n",
              "        vertical-align: top;\n",
              "    }\n",
              "\n",
              "    .dataframe thead th {\n",
              "        text-align: right;\n",
              "    }\n",
              "</style>\n",
              "<table border=\"1\" class=\"dataframe\">\n",
              "  <thead>\n",
              "    <tr style=\"text-align: right;\">\n",
              "      <th></th>\n",
              "      <th>ftse</th>\n",
              "      <th>dax</th>\n",
              "      <th>spx</th>\n",
              "      <th>nikkei</th>\n",
              "    </tr>\n",
              "  </thead>\n",
              "  <tbody>\n",
              "    <tr>\n",
              "      <th>count</th>\n",
              "      <td>1245.000000</td>\n",
              "      <td>1245.000000</td>\n",
              "      <td>1245.000000</td>\n",
              "      <td>1245.000000</td>\n",
              "    </tr>\n",
              "    <tr>\n",
              "      <th>mean</th>\n",
              "      <td>7072.865867</td>\n",
              "      <td>13668.384585</td>\n",
              "      <td>3691.250659</td>\n",
              "      <td>25729.274013</td>\n",
              "    </tr>\n",
              "    <tr>\n",
              "      <th>std</th>\n",
              "      <td>566.716325</td>\n",
              "      <td>1681.478900</td>\n",
              "      <td>638.483493</td>\n",
              "      <td>3635.387496</td>\n",
              "    </tr>\n",
              "    <tr>\n",
              "      <th>min</th>\n",
              "      <td>4993.899902</td>\n",
              "      <td>8441.709961</td>\n",
              "      <td>2237.399902</td>\n",
              "      <td>16552.830078</td>\n",
              "    </tr>\n",
              "    <tr>\n",
              "      <th>25%</th>\n",
              "      <td>6837.399902</td>\n",
              "      <td>12401.200195</td>\n",
              "      <td>3066.909912</td>\n",
              "      <td>22418.150391</td>\n",
              "    </tr>\n",
              "    <tr>\n",
              "      <th>50%</th>\n",
              "      <td>7220.100098</td>\n",
              "      <td>13544.519531</td>\n",
              "      <td>3830.169922</td>\n",
              "      <td>26781.679688</td>\n",
              "    </tr>\n",
              "    <tr>\n",
              "      <th>75%</th>\n",
              "      <td>7471.500000</td>\n",
              "      <td>15365.139648</td>\n",
              "      <td>4207.270020</td>\n",
              "      <td>28437.769531</td>\n",
              "    </tr>\n",
              "    <tr>\n",
              "      <th>max</th>\n",
              "      <td>8014.299805</td>\n",
              "      <td>16469.750000</td>\n",
              "      <td>4796.560059</td>\n",
              "      <td>33753.328125</td>\n",
              "    </tr>\n",
              "  </tbody>\n",
              "</table>\n",
              "</div>"
            ],
            "text/plain": [
              "              ftse          dax          spx         nikkei\n",
              "count  1245.000000   1245.000000  1245.000000   1245.000000\n",
              "mean   7072.865867  13668.384585  3691.250659  25729.274013\n",
              "std     566.716325   1681.478900   638.483493   3635.387496\n",
              "min    4993.899902   8441.709961  2237.399902  16552.830078\n",
              "25%    6837.399902  12401.200195  3066.909912  22418.150391\n",
              "50%    7220.100098  13544.519531  3830.169922  26781.679688\n",
              "75%    7471.500000  15365.139648  4207.270020  28437.769531\n",
              "max    8014.299805  16469.750000  4796.560059  33753.328125"
            ]
          },
          "execution_count": 3,
          "metadata": {},
          "output_type": "execute_result"
        }
      ],
      "source": [
        "#Resumen estadístico de las columnas numéricas\n",
        "df_comp.describe()"
      ]
    },
    {
      "cell_type": "code",
      "execution_count": 4,
      "metadata": {
        "colab": {
          "base_uri": "https://localhost:8080/",
          "height": 206
        },
        "id": "joL6tkhv226V",
        "outputId": "5ef690ec-d2a0-4d75-85bc-a108d468a6a7"
      },
      "outputs": [
        {
          "data": {
            "text/html": [
              "<div>\n",
              "<style scoped>\n",
              "    .dataframe tbody tr th:only-of-type {\n",
              "        vertical-align: middle;\n",
              "    }\n",
              "\n",
              "    .dataframe tbody tr th {\n",
              "        vertical-align: top;\n",
              "    }\n",
              "\n",
              "    .dataframe thead th {\n",
              "        text-align: right;\n",
              "    }\n",
              "</style>\n",
              "<table border=\"1\" class=\"dataframe\">\n",
              "  <thead>\n",
              "    <tr style=\"text-align: right;\">\n",
              "      <th></th>\n",
              "      <th>date</th>\n",
              "      <th>ftse</th>\n",
              "      <th>dax</th>\n",
              "      <th>spx</th>\n",
              "      <th>nikkei</th>\n",
              "    </tr>\n",
              "  </thead>\n",
              "  <tbody>\n",
              "    <tr>\n",
              "      <th>0</th>\n",
              "      <td>2018-12-03</td>\n",
              "      <td>7062.399902</td>\n",
              "      <td>11465.459961</td>\n",
              "      <td>2790.370117</td>\n",
              "      <td>22574.759766</td>\n",
              "    </tr>\n",
              "    <tr>\n",
              "      <th>1</th>\n",
              "      <td>2018-12-04</td>\n",
              "      <td>7022.799805</td>\n",
              "      <td>11335.320312</td>\n",
              "      <td>2700.060059</td>\n",
              "      <td>22036.050781</td>\n",
              "    </tr>\n",
              "    <tr>\n",
              "      <th>2</th>\n",
              "      <td>2018-12-05</td>\n",
              "      <td>6921.799805</td>\n",
              "      <td>11200.240234</td>\n",
              "      <td>2700.060059</td>\n",
              "      <td>21919.330078</td>\n",
              "    </tr>\n",
              "    <tr>\n",
              "      <th>3</th>\n",
              "      <td>2018-12-06</td>\n",
              "      <td>6704.100098</td>\n",
              "      <td>10810.980469</td>\n",
              "      <td>2695.949951</td>\n",
              "      <td>21501.619141</td>\n",
              "    </tr>\n",
              "    <tr>\n",
              "      <th>4</th>\n",
              "      <td>2018-12-07</td>\n",
              "      <td>6778.100098</td>\n",
              "      <td>10788.089844</td>\n",
              "      <td>2633.080078</td>\n",
              "      <td>21678.679688</td>\n",
              "    </tr>\n",
              "  </tbody>\n",
              "</table>\n",
              "</div>"
            ],
            "text/plain": [
              "         date         ftse          dax          spx         nikkei\n",
              "0  2018-12-03  7062.399902  11465.459961  2790.370117  22574.759766\n",
              "1  2018-12-04  7022.799805  11335.320312  2700.060059  22036.050781\n",
              "2  2018-12-05  6921.799805  11200.240234  2700.060059  21919.330078\n",
              "3  2018-12-06  6704.100098  10810.980469  2695.949951  21501.619141\n",
              "4  2018-12-07  6778.100098  10788.089844  2633.080078  21678.679688"
            ]
          },
          "execution_count": 4,
          "metadata": {},
          "output_type": "execute_result"
        }
      ],
      "source": [
        "#Vista previa de los datos (5)\n",
        "df_comp.head()"
      ]
    },
    {
      "cell_type": "code",
      "execution_count": 5,
      "metadata": {
        "colab": {
          "base_uri": "https://localhost:8080/"
        },
        "id": "4MnxAWUR226V",
        "outputId": "c3e8cfd4-e9d8-4232-c661-8d5f41f5161d",
        "scrolled": false
      },
      "outputs": [
        {
          "data": {
            "text/plain": [
              "count           1245\n",
              "unique          1245\n",
              "top       2018-12-03\n",
              "freq               1\n",
              "Name: date, dtype: object"
            ]
          },
          "execution_count": 5,
          "metadata": {},
          "output_type": "execute_result"
        }
      ],
      "source": [
        "#Describe la información sobre la columna \"date\" (fechas)\n",
        "df_comp.date.describe()"
      ]
    },
    {
      "cell_type": "markdown",
      "metadata": {
        "id": "BjReSZpz226V"
      },
      "source": [
        "### From Text to Date"
      ]
    },
    {
      "cell_type": "code",
      "execution_count": 4,
      "metadata": {
        "id": "2lEmA5Dz226V"
      },
      "outputs": [],
      "source": [
        "#Modifico el formato de la columna date:  de texto a fecha y hora\n",
        "df_comp.date = pd.to_datetime(df_comp.date, dayfirst=True, errors='coerce')"
      ]
    },
    {
      "cell_type": "code",
      "execution_count": 10,
      "metadata": {
        "colab": {
          "base_uri": "https://localhost:8080/",
          "height": 206
        },
        "id": "miE8wif4226W",
        "outputId": "35f5438e-972c-4bed-8e39-6dad2b203550",
        "scrolled": true
      },
      "outputs": [
        {
          "data": {
            "text/html": [
              "<div>\n",
              "<style scoped>\n",
              "    .dataframe tbody tr th:only-of-type {\n",
              "        vertical-align: middle;\n",
              "    }\n",
              "\n",
              "    .dataframe tbody tr th {\n",
              "        vertical-align: top;\n",
              "    }\n",
              "\n",
              "    .dataframe thead th {\n",
              "        text-align: right;\n",
              "    }\n",
              "</style>\n",
              "<table border=\"1\" class=\"dataframe\">\n",
              "  <thead>\n",
              "    <tr style=\"text-align: right;\">\n",
              "      <th></th>\n",
              "      <th>date</th>\n",
              "      <th>ftse</th>\n",
              "      <th>dax</th>\n",
              "      <th>spx</th>\n",
              "      <th>nikkei</th>\n",
              "    </tr>\n",
              "  </thead>\n",
              "  <tbody>\n",
              "    <tr>\n",
              "      <th>0</th>\n",
              "      <td>2018-12-03</td>\n",
              "      <td>7062.399902</td>\n",
              "      <td>11465.459961</td>\n",
              "      <td>2790.370117</td>\n",
              "      <td>22574.759766</td>\n",
              "    </tr>\n",
              "    <tr>\n",
              "      <th>1</th>\n",
              "      <td>2018-12-04</td>\n",
              "      <td>7022.799805</td>\n",
              "      <td>11335.320312</td>\n",
              "      <td>2700.060059</td>\n",
              "      <td>22036.050781</td>\n",
              "    </tr>\n",
              "    <tr>\n",
              "      <th>2</th>\n",
              "      <td>2018-12-05</td>\n",
              "      <td>6921.799805</td>\n",
              "      <td>11200.240234</td>\n",
              "      <td>2700.060059</td>\n",
              "      <td>21919.330078</td>\n",
              "    </tr>\n",
              "    <tr>\n",
              "      <th>3</th>\n",
              "      <td>2018-12-06</td>\n",
              "      <td>6704.100098</td>\n",
              "      <td>10810.980469</td>\n",
              "      <td>2695.949951</td>\n",
              "      <td>21501.619141</td>\n",
              "    </tr>\n",
              "    <tr>\n",
              "      <th>4</th>\n",
              "      <td>2018-12-07</td>\n",
              "      <td>6778.100098</td>\n",
              "      <td>10788.089844</td>\n",
              "      <td>2633.080078</td>\n",
              "      <td>21678.679688</td>\n",
              "    </tr>\n",
              "  </tbody>\n",
              "</table>\n",
              "</div>"
            ],
            "text/plain": [
              "        date         ftse          dax          spx         nikkei\n",
              "0 2018-12-03  7062.399902  11465.459961  2790.370117  22574.759766\n",
              "1 2018-12-04  7022.799805  11335.320312  2700.060059  22036.050781\n",
              "2 2018-12-05  6921.799805  11200.240234  2700.060059  21919.330078\n",
              "3 2018-12-06  6704.100098  10810.980469  2695.949951  21501.619141\n",
              "4 2018-12-07  6778.100098  10788.089844  2633.080078  21678.679688"
            ]
          },
          "execution_count": 10,
          "metadata": {},
          "output_type": "execute_result"
        }
      ],
      "source": [
        "df_comp.head()"
      ]
    },
    {
      "cell_type": "code",
      "execution_count": 11,
      "metadata": {
        "colab": {
          "base_uri": "https://localhost:8080/"
        },
        "id": "5qABa7rm226W",
        "outputId": "1de9b1b9-d29d-4a92-b9e7-986fc5585a08"
      },
      "outputs": [
        {
          "data": {
            "text/plain": [
              "count                   1245\n",
              "mean     2021-04-21 00:00:00\n",
              "min      2018-12-03 00:00:00\n",
              "25%      2020-02-11 00:00:00\n",
              "50%      2021-04-21 00:00:00\n",
              "75%      2022-06-30 00:00:00\n",
              "max      2023-09-08 00:00:00\n",
              "Name: date, dtype: object"
            ]
          },
          "execution_count": 11,
          "metadata": {},
          "output_type": "execute_result"
        }
      ],
      "source": [
        "df_comp.date.describe()"
      ]
    },
    {
      "cell_type": "code",
      "execution_count": 12,
      "metadata": {},
      "outputs": [
        {
          "name": "stdout",
          "output_type": "stream",
          "text": [
            "datetime64[ns]\n"
          ]
        }
      ],
      "source": [
        "#Confirmo que está en formato de fecha y hora \n",
        "print(df_comp['date'].dtype)"
      ]
    },
    {
      "cell_type": "markdown",
      "metadata": {
        "id": "jYumrMru226W"
      },
      "source": [
        "### Setting the Index"
      ]
    },
    {
      "cell_type": "code",
      "execution_count": 5,
      "metadata": {
        "colab": {
          "base_uri": "https://localhost:8080/",
          "height": 455
        },
        "id": "7JG9fTyA226W",
        "outputId": "cf6e0ac0-6496-4c3f-b6f7-919e2aab135f",
        "scrolled": false
      },
      "outputs": [
        {
          "data": {
            "text/html": [
              "<div>\n",
              "<style scoped>\n",
              "    .dataframe tbody tr th:only-of-type {\n",
              "        vertical-align: middle;\n",
              "    }\n",
              "\n",
              "    .dataframe tbody tr th {\n",
              "        vertical-align: top;\n",
              "    }\n",
              "\n",
              "    .dataframe thead th {\n",
              "        text-align: right;\n",
              "    }\n",
              "</style>\n",
              "<table border=\"1\" class=\"dataframe\">\n",
              "  <thead>\n",
              "    <tr style=\"text-align: right;\">\n",
              "      <th></th>\n",
              "      <th>ftse</th>\n",
              "      <th>dax</th>\n",
              "      <th>spx</th>\n",
              "      <th>nikkei</th>\n",
              "    </tr>\n",
              "    <tr>\n",
              "      <th>date</th>\n",
              "      <th></th>\n",
              "      <th></th>\n",
              "      <th></th>\n",
              "      <th></th>\n",
              "    </tr>\n",
              "  </thead>\n",
              "  <tbody>\n",
              "    <tr>\n",
              "      <th>2018-03-12</th>\n",
              "      <td>7062.399902</td>\n",
              "      <td>11465.459961</td>\n",
              "      <td>2790.370117</td>\n",
              "      <td>22574.759766</td>\n",
              "    </tr>\n",
              "    <tr>\n",
              "      <th>2018-04-12</th>\n",
              "      <td>7022.799805</td>\n",
              "      <td>11335.320312</td>\n",
              "      <td>2700.060059</td>\n",
              "      <td>22036.050781</td>\n",
              "    </tr>\n",
              "    <tr>\n",
              "      <th>2018-05-12</th>\n",
              "      <td>6921.799805</td>\n",
              "      <td>11200.240234</td>\n",
              "      <td>2700.060059</td>\n",
              "      <td>21919.330078</td>\n",
              "    </tr>\n",
              "    <tr>\n",
              "      <th>2018-06-12</th>\n",
              "      <td>6704.100098</td>\n",
              "      <td>10810.980469</td>\n",
              "      <td>2695.949951</td>\n",
              "      <td>21501.619141</td>\n",
              "    </tr>\n",
              "    <tr>\n",
              "      <th>2018-07-12</th>\n",
              "      <td>6778.100098</td>\n",
              "      <td>10788.089844</td>\n",
              "      <td>2633.080078</td>\n",
              "      <td>21678.679688</td>\n",
              "    </tr>\n",
              "    <tr>\n",
              "      <th>...</th>\n",
              "      <td>...</td>\n",
              "      <td>...</td>\n",
              "      <td>...</td>\n",
              "      <td>...</td>\n",
              "    </tr>\n",
              "    <tr>\n",
              "      <th>2023-04-09</th>\n",
              "      <td>7452.799805</td>\n",
              "      <td>15824.849609</td>\n",
              "      <td>4515.770020</td>\n",
              "      <td>32939.179688</td>\n",
              "    </tr>\n",
              "    <tr>\n",
              "      <th>2023-05-09</th>\n",
              "      <td>7437.899902</td>\n",
              "      <td>15771.709961</td>\n",
              "      <td>4496.830078</td>\n",
              "      <td>33036.761719</td>\n",
              "    </tr>\n",
              "    <tr>\n",
              "      <th>2023-06-09</th>\n",
              "      <td>7426.100098</td>\n",
              "      <td>15741.370117</td>\n",
              "      <td>4465.479980</td>\n",
              "      <td>33241.019531</td>\n",
              "    </tr>\n",
              "    <tr>\n",
              "      <th>2023-07-09</th>\n",
              "      <td>7441.700195</td>\n",
              "      <td>15718.660156</td>\n",
              "      <td>4451.140137</td>\n",
              "      <td>32991.078125</td>\n",
              "    </tr>\n",
              "    <tr>\n",
              "      <th>2023-08-09</th>\n",
              "      <td>7478.200195</td>\n",
              "      <td>15740.299805</td>\n",
              "      <td>4457.490234</td>\n",
              "      <td>32606.839844</td>\n",
              "    </tr>\n",
              "  </tbody>\n",
              "</table>\n",
              "<p>1245 rows × 4 columns</p>\n",
              "</div>"
            ],
            "text/plain": [
              "                   ftse          dax          spx         nikkei\n",
              "date                                                            \n",
              "2018-03-12  7062.399902  11465.459961  2790.370117  22574.759766\n",
              "2018-04-12  7022.799805  11335.320312  2700.060059  22036.050781\n",
              "2018-05-12  6921.799805  11200.240234  2700.060059  21919.330078\n",
              "2018-06-12  6704.100098  10810.980469  2695.949951  21501.619141\n",
              "2018-07-12  6778.100098  10788.089844  2633.080078  21678.679688\n",
              "...                 ...           ...          ...           ...\n",
              "2023-04-09  7452.799805  15824.849609  4515.770020  32939.179688\n",
              "2023-05-09  7437.899902  15771.709961  4496.830078  33036.761719\n",
              "2023-06-09  7426.100098  15741.370117  4465.479980  33241.019531\n",
              "2023-07-09  7441.700195  15718.660156  4451.140137  32991.078125\n",
              "2023-08-09  7478.200195  15740.299805  4457.490234  32606.839844\n",
              "\n",
              "[1245 rows x 4 columns]"
            ]
          },
          "execution_count": 5,
          "metadata": {},
          "output_type": "execute_result"
        }
      ],
      "source": [
        "#Uso la columna de fechas (date) como índice para realizar análisis, filtrado y visualización relacionados con el tiempo\n",
        "df_comp.set_index(\"date\")"
      ]
    },
    {
      "cell_type": "code",
      "execution_count": 6,
      "metadata": {
        "id": "Y0k6umrO226W"
      },
      "outputs": [],
      "source": [
        "#Establezco la columna \"date\" como índice del DataFrame df_comp, y esta modificación se realizará en el mismo df_comp\n",
        "df_comp.set_index(\"date\", inplace=True)"
      ]
    },
    {
      "cell_type": "code",
      "execution_count": 15,
      "metadata": {
        "colab": {
          "base_uri": "https://localhost:8080/",
          "height": 238
        },
        "id": "rabXvojK226X",
        "outputId": "f406d723-3ffb-4ddb-b178-50e1c0dd779f"
      },
      "outputs": [
        {
          "data": {
            "text/html": [
              "<div>\n",
              "<style scoped>\n",
              "    .dataframe tbody tr th:only-of-type {\n",
              "        vertical-align: middle;\n",
              "    }\n",
              "\n",
              "    .dataframe tbody tr th {\n",
              "        vertical-align: top;\n",
              "    }\n",
              "\n",
              "    .dataframe thead th {\n",
              "        text-align: right;\n",
              "    }\n",
              "</style>\n",
              "<table border=\"1\" class=\"dataframe\">\n",
              "  <thead>\n",
              "    <tr style=\"text-align: right;\">\n",
              "      <th></th>\n",
              "      <th>ftse</th>\n",
              "      <th>dax</th>\n",
              "      <th>spx</th>\n",
              "      <th>nikkei</th>\n",
              "    </tr>\n",
              "    <tr>\n",
              "      <th>date</th>\n",
              "      <th></th>\n",
              "      <th></th>\n",
              "      <th></th>\n",
              "      <th></th>\n",
              "    </tr>\n",
              "  </thead>\n",
              "  <tbody>\n",
              "    <tr>\n",
              "      <th>2018-12-03</th>\n",
              "      <td>7062.399902</td>\n",
              "      <td>11465.459961</td>\n",
              "      <td>2790.370117</td>\n",
              "      <td>22574.759766</td>\n",
              "    </tr>\n",
              "    <tr>\n",
              "      <th>2018-12-04</th>\n",
              "      <td>7022.799805</td>\n",
              "      <td>11335.320312</td>\n",
              "      <td>2700.060059</td>\n",
              "      <td>22036.050781</td>\n",
              "    </tr>\n",
              "    <tr>\n",
              "      <th>2018-12-05</th>\n",
              "      <td>6921.799805</td>\n",
              "      <td>11200.240234</td>\n",
              "      <td>2700.060059</td>\n",
              "      <td>21919.330078</td>\n",
              "    </tr>\n",
              "    <tr>\n",
              "      <th>2018-12-06</th>\n",
              "      <td>6704.100098</td>\n",
              "      <td>10810.980469</td>\n",
              "      <td>2695.949951</td>\n",
              "      <td>21501.619141</td>\n",
              "    </tr>\n",
              "    <tr>\n",
              "      <th>2018-12-07</th>\n",
              "      <td>6778.100098</td>\n",
              "      <td>10788.089844</td>\n",
              "      <td>2633.080078</td>\n",
              "      <td>21678.679688</td>\n",
              "    </tr>\n",
              "  </tbody>\n",
              "</table>\n",
              "</div>"
            ],
            "text/plain": [
              "                   ftse          dax          spx         nikkei\n",
              "date                                                            \n",
              "2018-12-03  7062.399902  11465.459961  2790.370117  22574.759766\n",
              "2018-12-04  7022.799805  11335.320312  2700.060059  22036.050781\n",
              "2018-12-05  6921.799805  11200.240234  2700.060059  21919.330078\n",
              "2018-12-06  6704.100098  10810.980469  2695.949951  21501.619141\n",
              "2018-12-07  6778.100098  10788.089844  2633.080078  21678.679688"
            ]
          },
          "execution_count": 15,
          "metadata": {},
          "output_type": "execute_result"
        }
      ],
      "source": [
        "df_comp.head()"
      ]
    },
    {
      "cell_type": "code",
      "execution_count": null,
      "metadata": {
        "id": "UYaFrxhk226X"
      },
      "outputs": [],
      "source": [
        "#df_comp.date.describe() ##Espera obtener un mensaje de error porque ya no tenemos columna \"date\" ya que es el índice\n",
        "df_comp.date.describe() "
      ]
    },
    {
      "cell_type": "markdown",
      "metadata": {
        "id": "pgttmyLL226X"
      },
      "source": [
        "### Setting the Desired Frequency"
      ]
    },
    {
      "cell_type": "code",
      "execution_count": 8,
      "metadata": {
        "id": "V2BgMKaF226X"
      },
      "outputs": [],
      "source": [
        "#Antes de aplicar asfreq, debo verificar si hay filas duplicadas en tu DataFrame y eliminarlas. \n",
        "df_comp = df_comp[~df_comp.index.duplicated(keep='first')]\n",
        "\n",
        "#df_comp contendrá observaciones diarias, incluyendo todos los días del calendario, tanto días laborables como fines de semana.\n",
        "#útil para cuando se quiere considerar todos los días calendario en el análisis\n",
        "df_comp=df_comp.asfreq('d')"
      ]
    },
    {
      "cell_type": "code",
      "execution_count": 19,
      "metadata": {
        "colab": {
          "base_uri": "https://localhost:8080/",
          "height": 455
        },
        "id": "c-gtxl7J226X",
        "outputId": "94d1aac9-ee55-476b-8c75-ddb927b264ac",
        "scrolled": true
      },
      "outputs": [
        {
          "data": {
            "text/html": [
              "<div>\n",
              "<style scoped>\n",
              "    .dataframe tbody tr th:only-of-type {\n",
              "        vertical-align: middle;\n",
              "    }\n",
              "\n",
              "    .dataframe tbody tr th {\n",
              "        vertical-align: top;\n",
              "    }\n",
              "\n",
              "    .dataframe thead th {\n",
              "        text-align: right;\n",
              "    }\n",
              "</style>\n",
              "<table border=\"1\" class=\"dataframe\">\n",
              "  <thead>\n",
              "    <tr style=\"text-align: right;\">\n",
              "      <th></th>\n",
              "      <th>ftse</th>\n",
              "      <th>dax</th>\n",
              "      <th>spx</th>\n",
              "      <th>nikkei</th>\n",
              "    </tr>\n",
              "    <tr>\n",
              "      <th>date</th>\n",
              "      <th></th>\n",
              "      <th></th>\n",
              "      <th></th>\n",
              "      <th></th>\n",
              "    </tr>\n",
              "  </thead>\n",
              "  <tbody>\n",
              "    <tr>\n",
              "      <th>2018-12-03</th>\n",
              "      <td>7062.399902</td>\n",
              "      <td>11465.459961</td>\n",
              "      <td>2790.370117</td>\n",
              "      <td>22574.759766</td>\n",
              "    </tr>\n",
              "    <tr>\n",
              "      <th>2018-12-04</th>\n",
              "      <td>7022.799805</td>\n",
              "      <td>11335.320312</td>\n",
              "      <td>2700.060059</td>\n",
              "      <td>22036.050781</td>\n",
              "    </tr>\n",
              "    <tr>\n",
              "      <th>2018-12-05</th>\n",
              "      <td>6921.799805</td>\n",
              "      <td>11200.240234</td>\n",
              "      <td>2700.060059</td>\n",
              "      <td>21919.330078</td>\n",
              "    </tr>\n",
              "    <tr>\n",
              "      <th>2018-12-06</th>\n",
              "      <td>6704.100098</td>\n",
              "      <td>10810.980469</td>\n",
              "      <td>2695.949951</td>\n",
              "      <td>21501.619141</td>\n",
              "    </tr>\n",
              "    <tr>\n",
              "      <th>2018-12-07</th>\n",
              "      <td>6778.100098</td>\n",
              "      <td>10788.089844</td>\n",
              "      <td>2633.080078</td>\n",
              "      <td>21678.679688</td>\n",
              "    </tr>\n",
              "    <tr>\n",
              "      <th>...</th>\n",
              "      <td>...</td>\n",
              "      <td>...</td>\n",
              "      <td>...</td>\n",
              "      <td>...</td>\n",
              "    </tr>\n",
              "    <tr>\n",
              "      <th>2023-09-04</th>\n",
              "      <td>7452.799805</td>\n",
              "      <td>15824.849609</td>\n",
              "      <td>4515.770020</td>\n",
              "      <td>32939.179688</td>\n",
              "    </tr>\n",
              "    <tr>\n",
              "      <th>2023-09-05</th>\n",
              "      <td>7437.899902</td>\n",
              "      <td>15771.709961</td>\n",
              "      <td>4496.830078</td>\n",
              "      <td>33036.761719</td>\n",
              "    </tr>\n",
              "    <tr>\n",
              "      <th>2023-09-06</th>\n",
              "      <td>7426.100098</td>\n",
              "      <td>15741.370117</td>\n",
              "      <td>4465.479980</td>\n",
              "      <td>33241.019531</td>\n",
              "    </tr>\n",
              "    <tr>\n",
              "      <th>2023-09-07</th>\n",
              "      <td>7441.700195</td>\n",
              "      <td>15718.660156</td>\n",
              "      <td>4451.140137</td>\n",
              "      <td>32991.078125</td>\n",
              "    </tr>\n",
              "    <tr>\n",
              "      <th>2023-09-08</th>\n",
              "      <td>7478.200195</td>\n",
              "      <td>15740.299805</td>\n",
              "      <td>4457.490234</td>\n",
              "      <td>32606.839844</td>\n",
              "    </tr>\n",
              "  </tbody>\n",
              "</table>\n",
              "<p>1741 rows × 4 columns</p>\n",
              "</div>"
            ],
            "text/plain": [
              "                   ftse          dax          spx         nikkei\n",
              "date                                                            \n",
              "2018-12-03  7062.399902  11465.459961  2790.370117  22574.759766\n",
              "2018-12-04  7022.799805  11335.320312  2700.060059  22036.050781\n",
              "2018-12-05  6921.799805  11200.240234  2700.060059  21919.330078\n",
              "2018-12-06  6704.100098  10810.980469  2695.949951  21501.619141\n",
              "2018-12-07  6778.100098  10788.089844  2633.080078  21678.679688\n",
              "...                 ...           ...          ...           ...\n",
              "2023-09-04  7452.799805  15824.849609  4515.770020  32939.179688\n",
              "2023-09-05  7437.899902  15771.709961  4496.830078  33036.761719\n",
              "2023-09-06  7426.100098  15741.370117  4465.479980  33241.019531\n",
              "2023-09-07  7441.700195  15718.660156  4451.140137  32991.078125\n",
              "2023-09-08  7478.200195  15740.299805  4457.490234  32606.839844\n",
              "\n",
              "[1741 rows x 4 columns]"
            ]
          },
          "execution_count": 19,
          "metadata": {},
          "output_type": "execute_result"
        }
      ],
      "source": [
        "df_comp  ##Se obersa que pasamos de tener 1245 rows × 4 columns a 1741 rows × 4 columns"
      ]
    },
    {
      "cell_type": "code",
      "execution_count": 9,
      "metadata": {
        "id": "Ik8YjtCR226X"
      },
      "outputs": [],
      "source": [
        "#df_compcontendrá solo observaciones en días laborables, y las fechas en fines de semana y días no laborables se habrán omitido o ajustado según la frecuencia especificada.\n",
        "df_comp=df_comp.asfreq('b')"
      ]
    },
    {
      "cell_type": "code",
      "execution_count": 21,
      "metadata": {
        "colab": {
          "base_uri": "https://localhost:8080/",
          "height": 238
        },
        "id": "6rQM0t58226X",
        "outputId": "5f8ca8df-74d1-4d32-82ad-01d749fb78e6"
      },
      "outputs": [
        {
          "data": {
            "text/html": [
              "<div>\n",
              "<style scoped>\n",
              "    .dataframe tbody tr th:only-of-type {\n",
              "        vertical-align: middle;\n",
              "    }\n",
              "\n",
              "    .dataframe tbody tr th {\n",
              "        vertical-align: top;\n",
              "    }\n",
              "\n",
              "    .dataframe thead th {\n",
              "        text-align: right;\n",
              "    }\n",
              "</style>\n",
              "<table border=\"1\" class=\"dataframe\">\n",
              "  <thead>\n",
              "    <tr style=\"text-align: right;\">\n",
              "      <th></th>\n",
              "      <th>ftse</th>\n",
              "      <th>dax</th>\n",
              "      <th>spx</th>\n",
              "      <th>nikkei</th>\n",
              "    </tr>\n",
              "    <tr>\n",
              "      <th>date</th>\n",
              "      <th></th>\n",
              "      <th></th>\n",
              "      <th></th>\n",
              "      <th></th>\n",
              "    </tr>\n",
              "  </thead>\n",
              "  <tbody>\n",
              "    <tr>\n",
              "      <th>2018-12-03</th>\n",
              "      <td>7062.399902</td>\n",
              "      <td>11465.459961</td>\n",
              "      <td>2790.370117</td>\n",
              "      <td>22574.759766</td>\n",
              "    </tr>\n",
              "    <tr>\n",
              "      <th>2018-12-04</th>\n",
              "      <td>7022.799805</td>\n",
              "      <td>11335.320312</td>\n",
              "      <td>2700.060059</td>\n",
              "      <td>22036.050781</td>\n",
              "    </tr>\n",
              "    <tr>\n",
              "      <th>2018-12-05</th>\n",
              "      <td>6921.799805</td>\n",
              "      <td>11200.240234</td>\n",
              "      <td>2700.060059</td>\n",
              "      <td>21919.330078</td>\n",
              "    </tr>\n",
              "    <tr>\n",
              "      <th>2018-12-06</th>\n",
              "      <td>6704.100098</td>\n",
              "      <td>10810.980469</td>\n",
              "      <td>2695.949951</td>\n",
              "      <td>21501.619141</td>\n",
              "    </tr>\n",
              "    <tr>\n",
              "      <th>2018-12-07</th>\n",
              "      <td>6778.100098</td>\n",
              "      <td>10788.089844</td>\n",
              "      <td>2633.080078</td>\n",
              "      <td>21678.679688</td>\n",
              "    </tr>\n",
              "  </tbody>\n",
              "</table>\n",
              "</div>"
            ],
            "text/plain": [
              "                   ftse          dax          spx         nikkei\n",
              "date                                                            \n",
              "2018-12-03  7062.399902  11465.459961  2790.370117  22574.759766\n",
              "2018-12-04  7022.799805  11335.320312  2700.060059  22036.050781\n",
              "2018-12-05  6921.799805  11200.240234  2700.060059  21919.330078\n",
              "2018-12-06  6704.100098  10810.980469  2695.949951  21501.619141\n",
              "2018-12-07  6778.100098  10788.089844  2633.080078  21678.679688"
            ]
          },
          "execution_count": 21,
          "metadata": {},
          "output_type": "execute_result"
        }
      ],
      "source": [
        "df_comp.head()"
      ]
    },
    {
      "cell_type": "code",
      "execution_count": 22,
      "metadata": {
        "colab": {
          "base_uri": "https://localhost:8080/",
          "height": 455
        },
        "id": "a-g_D4fjBe3K",
        "outputId": "7c0b225f-0d24-46d5-fb64-ec7788ad9abd"
      },
      "outputs": [
        {
          "data": {
            "text/html": [
              "<div>\n",
              "<style scoped>\n",
              "    .dataframe tbody tr th:only-of-type {\n",
              "        vertical-align: middle;\n",
              "    }\n",
              "\n",
              "    .dataframe tbody tr th {\n",
              "        vertical-align: top;\n",
              "    }\n",
              "\n",
              "    .dataframe thead th {\n",
              "        text-align: right;\n",
              "    }\n",
              "</style>\n",
              "<table border=\"1\" class=\"dataframe\">\n",
              "  <thead>\n",
              "    <tr style=\"text-align: right;\">\n",
              "      <th></th>\n",
              "      <th>ftse</th>\n",
              "      <th>dax</th>\n",
              "      <th>spx</th>\n",
              "      <th>nikkei</th>\n",
              "    </tr>\n",
              "    <tr>\n",
              "      <th>date</th>\n",
              "      <th></th>\n",
              "      <th></th>\n",
              "      <th></th>\n",
              "      <th></th>\n",
              "    </tr>\n",
              "  </thead>\n",
              "  <tbody>\n",
              "    <tr>\n",
              "      <th>2018-12-03</th>\n",
              "      <td>7062.399902</td>\n",
              "      <td>11465.459961</td>\n",
              "      <td>2790.370117</td>\n",
              "      <td>22574.759766</td>\n",
              "    </tr>\n",
              "    <tr>\n",
              "      <th>2018-12-04</th>\n",
              "      <td>7022.799805</td>\n",
              "      <td>11335.320312</td>\n",
              "      <td>2700.060059</td>\n",
              "      <td>22036.050781</td>\n",
              "    </tr>\n",
              "    <tr>\n",
              "      <th>2018-12-05</th>\n",
              "      <td>6921.799805</td>\n",
              "      <td>11200.240234</td>\n",
              "      <td>2700.060059</td>\n",
              "      <td>21919.330078</td>\n",
              "    </tr>\n",
              "    <tr>\n",
              "      <th>2018-12-06</th>\n",
              "      <td>6704.100098</td>\n",
              "      <td>10810.980469</td>\n",
              "      <td>2695.949951</td>\n",
              "      <td>21501.619141</td>\n",
              "    </tr>\n",
              "    <tr>\n",
              "      <th>2018-12-07</th>\n",
              "      <td>6778.100098</td>\n",
              "      <td>10788.089844</td>\n",
              "      <td>2633.080078</td>\n",
              "      <td>21678.679688</td>\n",
              "    </tr>\n",
              "    <tr>\n",
              "      <th>...</th>\n",
              "      <td>...</td>\n",
              "      <td>...</td>\n",
              "      <td>...</td>\n",
              "      <td>...</td>\n",
              "    </tr>\n",
              "    <tr>\n",
              "      <th>2023-09-04</th>\n",
              "      <td>7452.799805</td>\n",
              "      <td>15824.849609</td>\n",
              "      <td>4515.770020</td>\n",
              "      <td>32939.179688</td>\n",
              "    </tr>\n",
              "    <tr>\n",
              "      <th>2023-09-05</th>\n",
              "      <td>7437.899902</td>\n",
              "      <td>15771.709961</td>\n",
              "      <td>4496.830078</td>\n",
              "      <td>33036.761719</td>\n",
              "    </tr>\n",
              "    <tr>\n",
              "      <th>2023-09-06</th>\n",
              "      <td>7426.100098</td>\n",
              "      <td>15741.370117</td>\n",
              "      <td>4465.479980</td>\n",
              "      <td>33241.019531</td>\n",
              "    </tr>\n",
              "    <tr>\n",
              "      <th>2023-09-07</th>\n",
              "      <td>7441.700195</td>\n",
              "      <td>15718.660156</td>\n",
              "      <td>4451.140137</td>\n",
              "      <td>32991.078125</td>\n",
              "    </tr>\n",
              "    <tr>\n",
              "      <th>2023-09-08</th>\n",
              "      <td>7478.200195</td>\n",
              "      <td>15740.299805</td>\n",
              "      <td>4457.490234</td>\n",
              "      <td>32606.839844</td>\n",
              "    </tr>\n",
              "  </tbody>\n",
              "</table>\n",
              "<p>1245 rows × 4 columns</p>\n",
              "</div>"
            ],
            "text/plain": [
              "                   ftse          dax          spx         nikkei\n",
              "date                                                            \n",
              "2018-12-03  7062.399902  11465.459961  2790.370117  22574.759766\n",
              "2018-12-04  7022.799805  11335.320312  2700.060059  22036.050781\n",
              "2018-12-05  6921.799805  11200.240234  2700.060059  21919.330078\n",
              "2018-12-06  6704.100098  10810.980469  2695.949951  21501.619141\n",
              "2018-12-07  6778.100098  10788.089844  2633.080078  21678.679688\n",
              "...                 ...           ...          ...           ...\n",
              "2023-09-04  7452.799805  15824.849609  4515.770020  32939.179688\n",
              "2023-09-05  7437.899902  15771.709961  4496.830078  33036.761719\n",
              "2023-09-06  7426.100098  15741.370117  4465.479980  33241.019531\n",
              "2023-09-07  7441.700195  15718.660156  4451.140137  32991.078125\n",
              "2023-09-08  7478.200195  15740.299805  4457.490234  32606.839844\n",
              "\n",
              "[1245 rows x 4 columns]"
            ]
          },
          "execution_count": 22,
          "metadata": {},
          "output_type": "execute_result"
        }
      ],
      "source": [
        "df_comp  ##Se obersa que pasamos de tener 1741 rows × 4 columns a 1245 rows × 4 columns"
      ]
    },
    {
      "cell_type": "markdown",
      "metadata": {
        "id": "JibD8tLU226X"
      },
      "source": [
        "### Handling Missing Values"
      ]
    },
    {
      "cell_type": "code",
      "execution_count": 23,
      "metadata": {
        "colab": {
          "base_uri": "https://localhost:8080/",
          "height": 455
        },
        "id": "g35J-EVo226Y",
        "outputId": "8c0f3acc-96bc-424c-fb68-f9c2999b6e81",
        "scrolled": true
      },
      "outputs": [
        {
          "data": {
            "text/html": [
              "<div>\n",
              "<style scoped>\n",
              "    .dataframe tbody tr th:only-of-type {\n",
              "        vertical-align: middle;\n",
              "    }\n",
              "\n",
              "    .dataframe tbody tr th {\n",
              "        vertical-align: top;\n",
              "    }\n",
              "\n",
              "    .dataframe thead th {\n",
              "        text-align: right;\n",
              "    }\n",
              "</style>\n",
              "<table border=\"1\" class=\"dataframe\">\n",
              "  <thead>\n",
              "    <tr style=\"text-align: right;\">\n",
              "      <th></th>\n",
              "      <th>ftse</th>\n",
              "      <th>dax</th>\n",
              "      <th>spx</th>\n",
              "      <th>nikkei</th>\n",
              "    </tr>\n",
              "    <tr>\n",
              "      <th>date</th>\n",
              "      <th></th>\n",
              "      <th></th>\n",
              "      <th></th>\n",
              "      <th></th>\n",
              "    </tr>\n",
              "  </thead>\n",
              "  <tbody>\n",
              "    <tr>\n",
              "      <th>2018-12-03</th>\n",
              "      <td>False</td>\n",
              "      <td>False</td>\n",
              "      <td>False</td>\n",
              "      <td>False</td>\n",
              "    </tr>\n",
              "    <tr>\n",
              "      <th>2018-12-04</th>\n",
              "      <td>False</td>\n",
              "      <td>False</td>\n",
              "      <td>False</td>\n",
              "      <td>False</td>\n",
              "    </tr>\n",
              "    <tr>\n",
              "      <th>2018-12-05</th>\n",
              "      <td>False</td>\n",
              "      <td>False</td>\n",
              "      <td>False</td>\n",
              "      <td>False</td>\n",
              "    </tr>\n",
              "    <tr>\n",
              "      <th>2018-12-06</th>\n",
              "      <td>False</td>\n",
              "      <td>False</td>\n",
              "      <td>False</td>\n",
              "      <td>False</td>\n",
              "    </tr>\n",
              "    <tr>\n",
              "      <th>2018-12-07</th>\n",
              "      <td>False</td>\n",
              "      <td>False</td>\n",
              "      <td>False</td>\n",
              "      <td>False</td>\n",
              "    </tr>\n",
              "    <tr>\n",
              "      <th>...</th>\n",
              "      <td>...</td>\n",
              "      <td>...</td>\n",
              "      <td>...</td>\n",
              "      <td>...</td>\n",
              "    </tr>\n",
              "    <tr>\n",
              "      <th>2023-09-04</th>\n",
              "      <td>False</td>\n",
              "      <td>False</td>\n",
              "      <td>False</td>\n",
              "      <td>False</td>\n",
              "    </tr>\n",
              "    <tr>\n",
              "      <th>2023-09-05</th>\n",
              "      <td>False</td>\n",
              "      <td>False</td>\n",
              "      <td>False</td>\n",
              "      <td>False</td>\n",
              "    </tr>\n",
              "    <tr>\n",
              "      <th>2023-09-06</th>\n",
              "      <td>False</td>\n",
              "      <td>False</td>\n",
              "      <td>False</td>\n",
              "      <td>False</td>\n",
              "    </tr>\n",
              "    <tr>\n",
              "      <th>2023-09-07</th>\n",
              "      <td>False</td>\n",
              "      <td>False</td>\n",
              "      <td>False</td>\n",
              "      <td>False</td>\n",
              "    </tr>\n",
              "    <tr>\n",
              "      <th>2023-09-08</th>\n",
              "      <td>False</td>\n",
              "      <td>False</td>\n",
              "      <td>False</td>\n",
              "      <td>False</td>\n",
              "    </tr>\n",
              "  </tbody>\n",
              "</table>\n",
              "<p>1245 rows × 4 columns</p>\n",
              "</div>"
            ],
            "text/plain": [
              "             ftse   dax    spx   nikkei\n",
              "date                                   \n",
              "2018-12-03  False  False  False   False\n",
              "2018-12-04  False  False  False   False\n",
              "2018-12-05  False  False  False   False\n",
              "2018-12-06  False  False  False   False\n",
              "2018-12-07  False  False  False   False\n",
              "...           ...    ...    ...     ...\n",
              "2023-09-04  False  False  False   False\n",
              "2023-09-05  False  False  False   False\n",
              "2023-09-06  False  False  False   False\n",
              "2023-09-07  False  False  False   False\n",
              "2023-09-08  False  False  False   False\n",
              "\n",
              "[1245 rows x 4 columns]"
            ]
          },
          "execution_count": 23,
          "metadata": {},
          "output_type": "execute_result"
        }
      ],
      "source": [
        "# Esta máscara booleana es útil para identificar la ubicación de los valores nulos en su DataFrame original\n",
        "# \"True\" en las ubicaciones donde hay valores nulos y \"False\" donde los valores no son nulos.\n",
        "df_comp.isna()"
      ]
    },
    {
      "cell_type": "code",
      "execution_count": 24,
      "metadata": {
        "colab": {
          "base_uri": "https://localhost:8080/"
        },
        "id": "RsMxl0sS226Y",
        "outputId": "36f4d347-adbf-4468-db6f-18b1e95957e4",
        "scrolled": true
      },
      "outputs": [
        {
          "data": {
            "text/plain": [
              "ftse      0\n",
              " dax      0\n",
              "spx       0\n",
              "nikkei    0\n",
              "dtype: int64"
            ]
          },
          "execution_count": 24,
          "metadata": {},
          "output_type": "execute_result"
        }
      ],
      "source": [
        "#Nos muestra la cantidad de valores nulos en cada columna del DataFrame \"df_comp\"\n",
        "df_comp.isna().sum()"
      ]
    },
    {
      "cell_type": "code",
      "execution_count": 19,
      "metadata": {
        "colab": {
          "base_uri": "https://localhost:8080/",
          "height": 455
        },
        "id": "M7h1q4yV226Y",
        "outputId": "7b85a135-656d-4b3a-87be-ef65e316a4ff"
      },
      "outputs": [
        {
          "data": {
            "text/html": [
              "\n",
              "  <div id=\"df-94d27eb5-cc91-4a14-a329-71a9fd452c82\" class=\"colab-df-container\">\n",
              "    <div>\n",
              "<style scoped>\n",
              "    .dataframe tbody tr th:only-of-type {\n",
              "        vertical-align: middle;\n",
              "    }\n",
              "\n",
              "    .dataframe tbody tr th {\n",
              "        vertical-align: top;\n",
              "    }\n",
              "\n",
              "    .dataframe thead th {\n",
              "        text-align: right;\n",
              "    }\n",
              "</style>\n",
              "<table border=\"1\" class=\"dataframe\">\n",
              "  <thead>\n",
              "    <tr style=\"text-align: right;\">\n",
              "      <th></th>\n",
              "      <th>ftse</th>\n",
              "      <th>dax</th>\n",
              "      <th>spx</th>\n",
              "      <th>nikkei</th>\n",
              "    </tr>\n",
              "    <tr>\n",
              "      <th>date</th>\n",
              "      <th></th>\n",
              "      <th></th>\n",
              "      <th></th>\n",
              "      <th></th>\n",
              "    </tr>\n",
              "  </thead>\n",
              "  <tbody>\n",
              "    <tr>\n",
              "      <th>2018-12-03</th>\n",
              "      <td>7062.399902</td>\n",
              "      <td>11465.459961</td>\n",
              "      <td>2790.370117</td>\n",
              "      <td>22574.759766</td>\n",
              "    </tr>\n",
              "    <tr>\n",
              "      <th>2018-12-04</th>\n",
              "      <td>7022.799805</td>\n",
              "      <td>11335.320312</td>\n",
              "      <td>2700.060059</td>\n",
              "      <td>22036.050781</td>\n",
              "    </tr>\n",
              "    <tr>\n",
              "      <th>2018-12-05</th>\n",
              "      <td>6921.799805</td>\n",
              "      <td>11200.240234</td>\n",
              "      <td>2700.060059</td>\n",
              "      <td>21919.330078</td>\n",
              "    </tr>\n",
              "    <tr>\n",
              "      <th>2018-12-06</th>\n",
              "      <td>6704.100098</td>\n",
              "      <td>10810.980469</td>\n",
              "      <td>2695.949951</td>\n",
              "      <td>21501.619141</td>\n",
              "    </tr>\n",
              "    <tr>\n",
              "      <th>2018-12-07</th>\n",
              "      <td>6778.100098</td>\n",
              "      <td>10788.089844</td>\n",
              "      <td>2633.080078</td>\n",
              "      <td>21678.679688</td>\n",
              "    </tr>\n",
              "    <tr>\n",
              "      <th>...</th>\n",
              "      <td>...</td>\n",
              "      <td>...</td>\n",
              "      <td>...</td>\n",
              "      <td>...</td>\n",
              "    </tr>\n",
              "    <tr>\n",
              "      <th>2023-09-04</th>\n",
              "      <td>7452.799805</td>\n",
              "      <td>15824.849609</td>\n",
              "      <td>4515.770020</td>\n",
              "      <td>32939.179688</td>\n",
              "    </tr>\n",
              "    <tr>\n",
              "      <th>2023-09-05</th>\n",
              "      <td>7437.899902</td>\n",
              "      <td>15771.709961</td>\n",
              "      <td>4496.830078</td>\n",
              "      <td>33036.761719</td>\n",
              "    </tr>\n",
              "    <tr>\n",
              "      <th>2023-09-06</th>\n",
              "      <td>7426.100098</td>\n",
              "      <td>15741.370117</td>\n",
              "      <td>4465.479980</td>\n",
              "      <td>33241.019531</td>\n",
              "    </tr>\n",
              "    <tr>\n",
              "      <th>2023-09-07</th>\n",
              "      <td>7441.700195</td>\n",
              "      <td>15718.660156</td>\n",
              "      <td>4451.140137</td>\n",
              "      <td>32991.078125</td>\n",
              "    </tr>\n",
              "    <tr>\n",
              "      <th>2023-09-08</th>\n",
              "      <td>7478.200195</td>\n",
              "      <td>15740.299805</td>\n",
              "      <td>4457.490234</td>\n",
              "      <td>32606.839844</td>\n",
              "    </tr>\n",
              "  </tbody>\n",
              "</table>\n",
              "<p>1245 rows × 4 columns</p>\n",
              "</div>\n",
              "    <div class=\"colab-df-buttons\">\n",
              "\n",
              "  <div class=\"colab-df-container\">\n",
              "    <button class=\"colab-df-convert\" onclick=\"convertToInteractive('df-94d27eb5-cc91-4a14-a329-71a9fd452c82')\"\n",
              "            title=\"Convert this dataframe to an interactive table.\"\n",
              "            style=\"display:none;\">\n",
              "\n",
              "  <svg xmlns=\"http://www.w3.org/2000/svg\" height=\"24px\" viewBox=\"0 -960 960 960\">\n",
              "    <path d=\"M120-120v-720h720v720H120Zm60-500h600v-160H180v160Zm220 220h160v-160H400v160Zm0 220h160v-160H400v160ZM180-400h160v-160H180v160Zm440 0h160v-160H620v160ZM180-180h160v-160H180v160Zm440 0h160v-160H620v160Z\"/>\n",
              "  </svg>\n",
              "    </button>\n",
              "\n",
              "  <style>\n",
              "    .colab-df-container {\n",
              "      display:flex;\n",
              "      gap: 12px;\n",
              "    }\n",
              "\n",
              "    .colab-df-convert {\n",
              "      background-color: #E8F0FE;\n",
              "      border: none;\n",
              "      border-radius: 50%;\n",
              "      cursor: pointer;\n",
              "      display: none;\n",
              "      fill: #1967D2;\n",
              "      height: 32px;\n",
              "      padding: 0 0 0 0;\n",
              "      width: 32px;\n",
              "    }\n",
              "\n",
              "    .colab-df-convert:hover {\n",
              "      background-color: #E2EBFA;\n",
              "      box-shadow: 0px 1px 2px rgba(60, 64, 67, 0.3), 0px 1px 3px 1px rgba(60, 64, 67, 0.15);\n",
              "      fill: #174EA6;\n",
              "    }\n",
              "\n",
              "    .colab-df-buttons div {\n",
              "      margin-bottom: 4px;\n",
              "    }\n",
              "\n",
              "    [theme=dark] .colab-df-convert {\n",
              "      background-color: #3B4455;\n",
              "      fill: #D2E3FC;\n",
              "    }\n",
              "\n",
              "    [theme=dark] .colab-df-convert:hover {\n",
              "      background-color: #434B5C;\n",
              "      box-shadow: 0px 1px 3px 1px rgba(0, 0, 0, 0.15);\n",
              "      filter: drop-shadow(0px 1px 2px rgba(0, 0, 0, 0.3));\n",
              "      fill: #FFFFFF;\n",
              "    }\n",
              "  </style>\n",
              "\n",
              "    <script>\n",
              "      const buttonEl =\n",
              "        document.querySelector('#df-94d27eb5-cc91-4a14-a329-71a9fd452c82 button.colab-df-convert');\n",
              "      buttonEl.style.display =\n",
              "        google.colab.kernel.accessAllowed ? 'block' : 'none';\n",
              "\n",
              "      async function convertToInteractive(key) {\n",
              "        const element = document.querySelector('#df-94d27eb5-cc91-4a14-a329-71a9fd452c82');\n",
              "        const dataTable =\n",
              "          await google.colab.kernel.invokeFunction('convertToInteractive',\n",
              "                                                    [key], {});\n",
              "        if (!dataTable) return;\n",
              "\n",
              "        const docLinkHtml = 'Like what you see? Visit the ' +\n",
              "          '<a target=\"_blank\" href=https://colab.research.google.com/notebooks/data_table.ipynb>data table notebook</a>'\n",
              "          + ' to learn more about interactive tables.';\n",
              "        element.innerHTML = '';\n",
              "        dataTable['output_type'] = 'display_data';\n",
              "        await google.colab.output.renderOutput(dataTable, element);\n",
              "        const docLink = document.createElement('div');\n",
              "        docLink.innerHTML = docLinkHtml;\n",
              "        element.appendChild(docLink);\n",
              "      }\n",
              "    </script>\n",
              "  </div>\n",
              "\n",
              "\n",
              "<div id=\"df-1e1bd731-a6be-47e3-9b4f-bfb521f5f273\">\n",
              "  <button class=\"colab-df-quickchart\" onclick=\"quickchart('df-1e1bd731-a6be-47e3-9b4f-bfb521f5f273')\"\n",
              "            title=\"Suggest charts.\"\n",
              "            style=\"display:none;\">\n",
              "\n",
              "<svg xmlns=\"http://www.w3.org/2000/svg\" height=\"24px\"viewBox=\"0 0 24 24\"\n",
              "     width=\"24px\">\n",
              "    <g>\n",
              "        <path d=\"M19 3H5c-1.1 0-2 .9-2 2v14c0 1.1.9 2 2 2h14c1.1 0 2-.9 2-2V5c0-1.1-.9-2-2-2zM9 17H7v-7h2v7zm4 0h-2V7h2v10zm4 0h-2v-4h2v4z\"/>\n",
              "    </g>\n",
              "</svg>\n",
              "  </button>\n",
              "\n",
              "<style>\n",
              "  .colab-df-quickchart {\n",
              "      --bg-color: #E8F0FE;\n",
              "      --fill-color: #1967D2;\n",
              "      --hover-bg-color: #E2EBFA;\n",
              "      --hover-fill-color: #174EA6;\n",
              "      --disabled-fill-color: #AAA;\n",
              "      --disabled-bg-color: #DDD;\n",
              "  }\n",
              "\n",
              "  [theme=dark] .colab-df-quickchart {\n",
              "      --bg-color: #3B4455;\n",
              "      --fill-color: #D2E3FC;\n",
              "      --hover-bg-color: #434B5C;\n",
              "      --hover-fill-color: #FFFFFF;\n",
              "      --disabled-bg-color: #3B4455;\n",
              "      --disabled-fill-color: #666;\n",
              "  }\n",
              "\n",
              "  .colab-df-quickchart {\n",
              "    background-color: var(--bg-color);\n",
              "    border: none;\n",
              "    border-radius: 50%;\n",
              "    cursor: pointer;\n",
              "    display: none;\n",
              "    fill: var(--fill-color);\n",
              "    height: 32px;\n",
              "    padding: 0;\n",
              "    width: 32px;\n",
              "  }\n",
              "\n",
              "  .colab-df-quickchart:hover {\n",
              "    background-color: var(--hover-bg-color);\n",
              "    box-shadow: 0 1px 2px rgba(60, 64, 67, 0.3), 0 1px 3px 1px rgba(60, 64, 67, 0.15);\n",
              "    fill: var(--button-hover-fill-color);\n",
              "  }\n",
              "\n",
              "  .colab-df-quickchart-complete:disabled,\n",
              "  .colab-df-quickchart-complete:disabled:hover {\n",
              "    background-color: var(--disabled-bg-color);\n",
              "    fill: var(--disabled-fill-color);\n",
              "    box-shadow: none;\n",
              "  }\n",
              "\n",
              "  .colab-df-spinner {\n",
              "    border: 2px solid var(--fill-color);\n",
              "    border-color: transparent;\n",
              "    border-bottom-color: var(--fill-color);\n",
              "    animation:\n",
              "      spin 1s steps(1) infinite;\n",
              "  }\n",
              "\n",
              "  @keyframes spin {\n",
              "    0% {\n",
              "      border-color: transparent;\n",
              "      border-bottom-color: var(--fill-color);\n",
              "      border-left-color: var(--fill-color);\n",
              "    }\n",
              "    20% {\n",
              "      border-color: transparent;\n",
              "      border-left-color: var(--fill-color);\n",
              "      border-top-color: var(--fill-color);\n",
              "    }\n",
              "    30% {\n",
              "      border-color: transparent;\n",
              "      border-left-color: var(--fill-color);\n",
              "      border-top-color: var(--fill-color);\n",
              "      border-right-color: var(--fill-color);\n",
              "    }\n",
              "    40% {\n",
              "      border-color: transparent;\n",
              "      border-right-color: var(--fill-color);\n",
              "      border-top-color: var(--fill-color);\n",
              "    }\n",
              "    60% {\n",
              "      border-color: transparent;\n",
              "      border-right-color: var(--fill-color);\n",
              "    }\n",
              "    80% {\n",
              "      border-color: transparent;\n",
              "      border-right-color: var(--fill-color);\n",
              "      border-bottom-color: var(--fill-color);\n",
              "    }\n",
              "    90% {\n",
              "      border-color: transparent;\n",
              "      border-bottom-color: var(--fill-color);\n",
              "    }\n",
              "  }\n",
              "</style>\n",
              "\n",
              "  <script>\n",
              "    async function quickchart(key) {\n",
              "      const quickchartButtonEl =\n",
              "        document.querySelector('#' + key + ' button');\n",
              "      quickchartButtonEl.disabled = true;  // To prevent multiple clicks.\n",
              "      quickchartButtonEl.classList.add('colab-df-spinner');\n",
              "      try {\n",
              "        const charts = await google.colab.kernel.invokeFunction(\n",
              "            'suggestCharts', [key], {});\n",
              "      } catch (error) {\n",
              "        console.error('Error during call to suggestCharts:', error);\n",
              "      }\n",
              "      quickchartButtonEl.classList.remove('colab-df-spinner');\n",
              "      quickchartButtonEl.classList.add('colab-df-quickchart-complete');\n",
              "    }\n",
              "    (() => {\n",
              "      let quickchartButtonEl =\n",
              "        document.querySelector('#df-1e1bd731-a6be-47e3-9b4f-bfb521f5f273 button');\n",
              "      quickchartButtonEl.style.display =\n",
              "        google.colab.kernel.accessAllowed ? 'block' : 'none';\n",
              "    })();\n",
              "  </script>\n",
              "</div>\n",
              "    </div>\n",
              "  </div>\n"
            ],
            "text/plain": [
              "                   ftse          dax          spx         nikkei\n",
              "date                                                            \n",
              "2018-12-03  7062.399902  11465.459961  2790.370117  22574.759766\n",
              "2018-12-04  7022.799805  11335.320312  2700.060059  22036.050781\n",
              "2018-12-05  6921.799805  11200.240234  2700.060059  21919.330078\n",
              "2018-12-06  6704.100098  10810.980469  2695.949951  21501.619141\n",
              "2018-12-07  6778.100098  10788.089844  2633.080078  21678.679688\n",
              "...                 ...           ...          ...           ...\n",
              "2023-09-04  7452.799805  15824.849609  4515.770020  32939.179688\n",
              "2023-09-05  7437.899902  15771.709961  4496.830078  33036.761719\n",
              "2023-09-06  7426.100098  15741.370117  4465.479980  33241.019531\n",
              "2023-09-07  7441.700195  15718.660156  4451.140137  32991.078125\n",
              "2023-09-08  7478.200195  15740.299805  4457.490234  32606.839844\n",
              "\n",
              "[1245 rows x 4 columns]"
            ]
          },
          "execution_count": 19,
          "metadata": {},
          "output_type": "execute_result"
        }
      ],
      "source": [
        "df_comp"
      ]
    },
    {
      "cell_type": "code",
      "execution_count": 28,
      "metadata": {
        "id": "Kp_8H444226Y"
      },
      "outputs": [],
      "source": [
        "# Los valores faltantes en la columna \"spx\" se llenarán con los valores no nulos más cercanos anteriores en la misma columna.\n",
        "df_comp[\"spx \"]=df_comp[\"spx \"].ffill()"
      ]
    },
    {
      "cell_type": "markdown",
      "metadata": {
        "id": "IHQndvm1_lO-"
      },
      "source": []
    },
    {
      "cell_type": "code",
      "execution_count": 26,
      "metadata": {
        "colab": {
          "base_uri": "https://localhost:8080/"
        },
        "id": "IWGhRD8H226Y",
        "outputId": "62f6f7c0-5703-4d2b-f718-3c6e57241acb"
      },
      "outputs": [
        {
          "data": {
            "text/plain": [
              "ftse      0\n",
              " dax      0\n",
              "spx       0\n",
              "nikkei    0\n",
              "dtype: int64"
            ]
          },
          "execution_count": 26,
          "metadata": {},
          "output_type": "execute_result"
        }
      ],
      "source": [
        "df_comp.isna().sum()"
      ]
    },
    {
      "cell_type": "code",
      "execution_count": 31,
      "metadata": {
        "id": "wKxMc04H226Y"
      },
      "outputs": [],
      "source": [
        "# Los valores faltantes en la columna \"ftse\" se llenarán con los valores no nulos más cercanos siguientes en la misma columna\n",
        "df_comp['ftse']=df_comp['ftse'].bfill()"
      ]
    },
    {
      "cell_type": "code",
      "execution_count": 32,
      "metadata": {
        "id": "zNEGL180226Y"
      },
      "outputs": [],
      "source": [
        "#Los valores faltantes en la columna \"dax\" se llenarán con el valor promedio de esa misma columna.\n",
        "df_comp[' dax ']=df_comp[' dax '].fillna(value = df_comp[' dax '].mean())"
      ]
    },
    {
      "cell_type": "markdown",
      "metadata": {
        "id": "e1b0ihRb226Y"
      },
      "source": [
        "### Simplifying the Dataset"
      ]
    },
    {
      "cell_type": "code",
      "execution_count": 36,
      "metadata": {
        "id": "GFricza1226Y"
      },
      "outputs": [],
      "source": [
        "# Se crea una nueva columna llamada \"market_value\" que contiene los mismos datos que la columna \"spx \".\n",
        "df_comp['market_value']=df_comp[\"spx \"]"
      ]
    },
    {
      "cell_type": "code",
      "execution_count": 37,
      "metadata": {
        "id": "sjhkwJJI226Z",
        "outputId": "65629c51-62bf-48b6-ce6e-925b1419efd0"
      },
      "outputs": [
        {
          "data": {
            "text/html": [
              "<div>\n",
              "<style scoped>\n",
              "    .dataframe tbody tr th:only-of-type {\n",
              "        vertical-align: middle;\n",
              "    }\n",
              "\n",
              "    .dataframe tbody tr th {\n",
              "        vertical-align: top;\n",
              "    }\n",
              "\n",
              "    .dataframe thead th {\n",
              "        text-align: right;\n",
              "    }\n",
              "</style>\n",
              "<table border=\"1\" class=\"dataframe\">\n",
              "  <thead>\n",
              "    <tr style=\"text-align: right;\">\n",
              "      <th></th>\n",
              "      <th>ftse</th>\n",
              "      <th>dax</th>\n",
              "      <th>spx</th>\n",
              "      <th>nikkei</th>\n",
              "      <th>market_value</th>\n",
              "    </tr>\n",
              "  </thead>\n",
              "  <tbody>\n",
              "    <tr>\n",
              "      <th>count</th>\n",
              "      <td>1245.000000</td>\n",
              "      <td>1245.000000</td>\n",
              "      <td>1245.000000</td>\n",
              "      <td>1245.000000</td>\n",
              "      <td>1245.000000</td>\n",
              "    </tr>\n",
              "    <tr>\n",
              "      <th>mean</th>\n",
              "      <td>7072.865867</td>\n",
              "      <td>13668.384585</td>\n",
              "      <td>3691.250659</td>\n",
              "      <td>25729.274013</td>\n",
              "      <td>3691.250659</td>\n",
              "    </tr>\n",
              "    <tr>\n",
              "      <th>std</th>\n",
              "      <td>566.716325</td>\n",
              "      <td>1681.478900</td>\n",
              "      <td>638.483493</td>\n",
              "      <td>3635.387496</td>\n",
              "      <td>638.483493</td>\n",
              "    </tr>\n",
              "    <tr>\n",
              "      <th>min</th>\n",
              "      <td>4993.899902</td>\n",
              "      <td>8441.709961</td>\n",
              "      <td>2237.399902</td>\n",
              "      <td>16552.830078</td>\n",
              "      <td>2237.399902</td>\n",
              "    </tr>\n",
              "    <tr>\n",
              "      <th>25%</th>\n",
              "      <td>6837.399902</td>\n",
              "      <td>12401.200195</td>\n",
              "      <td>3066.909912</td>\n",
              "      <td>22418.150391</td>\n",
              "      <td>3066.909912</td>\n",
              "    </tr>\n",
              "    <tr>\n",
              "      <th>50%</th>\n",
              "      <td>7220.100098</td>\n",
              "      <td>13544.519531</td>\n",
              "      <td>3830.169922</td>\n",
              "      <td>26781.679688</td>\n",
              "      <td>3830.169922</td>\n",
              "    </tr>\n",
              "    <tr>\n",
              "      <th>75%</th>\n",
              "      <td>7471.500000</td>\n",
              "      <td>15365.139648</td>\n",
              "      <td>4207.270020</td>\n",
              "      <td>28437.769531</td>\n",
              "      <td>4207.270020</td>\n",
              "    </tr>\n",
              "    <tr>\n",
              "      <th>max</th>\n",
              "      <td>8014.299805</td>\n",
              "      <td>16469.750000</td>\n",
              "      <td>4796.560059</td>\n",
              "      <td>33753.328125</td>\n",
              "      <td>4796.560059</td>\n",
              "    </tr>\n",
              "  </tbody>\n",
              "</table>\n",
              "</div>"
            ],
            "text/plain": [
              "              ftse          dax          spx         nikkei  market_value\n",
              "count  1245.000000   1245.000000  1245.000000   1245.000000   1245.000000\n",
              "mean   7072.865867  13668.384585  3691.250659  25729.274013   3691.250659\n",
              "std     566.716325   1681.478900   638.483493   3635.387496    638.483493\n",
              "min    4993.899902   8441.709961  2237.399902  16552.830078   2237.399902\n",
              "25%    6837.399902  12401.200195  3066.909912  22418.150391   3066.909912\n",
              "50%    7220.100098  13544.519531  3830.169922  26781.679688   3830.169922\n",
              "75%    7471.500000  15365.139648  4207.270020  28437.769531   4207.270020\n",
              "max    8014.299805  16469.750000  4796.560059  33753.328125   4796.560059"
            ]
          },
          "execution_count": 37,
          "metadata": {},
          "output_type": "execute_result"
        }
      ],
      "source": [
        "df_comp.describe()"
      ]
    },
    {
      "cell_type": "code",
      "execution_count": 38,
      "metadata": {
        "id": "En1Ayvps226Z"
      },
      "outputs": [],
      "source": [
        "#Elimina la columna \"spx \" \n",
        "del df_comp['spx ']"
      ]
    },
    {
      "cell_type": "code",
      "execution_count": 39,
      "metadata": {
        "id": "KN2sTxAb226Z",
        "outputId": "83a14400-73aa-44f3-fbc9-dcb5f0dfffd9"
      },
      "outputs": [
        {
          "data": {
            "text/html": [
              "<div>\n",
              "<style scoped>\n",
              "    .dataframe tbody tr th:only-of-type {\n",
              "        vertical-align: middle;\n",
              "    }\n",
              "\n",
              "    .dataframe tbody tr th {\n",
              "        vertical-align: top;\n",
              "    }\n",
              "\n",
              "    .dataframe thead th {\n",
              "        text-align: right;\n",
              "    }\n",
              "</style>\n",
              "<table border=\"1\" class=\"dataframe\">\n",
              "  <thead>\n",
              "    <tr style=\"text-align: right;\">\n",
              "      <th></th>\n",
              "      <th>ftse</th>\n",
              "      <th>dax</th>\n",
              "      <th>nikkei</th>\n",
              "      <th>market_value</th>\n",
              "    </tr>\n",
              "  </thead>\n",
              "  <tbody>\n",
              "    <tr>\n",
              "      <th>count</th>\n",
              "      <td>1245.000000</td>\n",
              "      <td>1245.000000</td>\n",
              "      <td>1245.000000</td>\n",
              "      <td>1245.000000</td>\n",
              "    </tr>\n",
              "    <tr>\n",
              "      <th>mean</th>\n",
              "      <td>7072.865867</td>\n",
              "      <td>13668.384585</td>\n",
              "      <td>25729.274013</td>\n",
              "      <td>3691.250659</td>\n",
              "    </tr>\n",
              "    <tr>\n",
              "      <th>std</th>\n",
              "      <td>566.716325</td>\n",
              "      <td>1681.478900</td>\n",
              "      <td>3635.387496</td>\n",
              "      <td>638.483493</td>\n",
              "    </tr>\n",
              "    <tr>\n",
              "      <th>min</th>\n",
              "      <td>4993.899902</td>\n",
              "      <td>8441.709961</td>\n",
              "      <td>16552.830078</td>\n",
              "      <td>2237.399902</td>\n",
              "    </tr>\n",
              "    <tr>\n",
              "      <th>25%</th>\n",
              "      <td>6837.399902</td>\n",
              "      <td>12401.200195</td>\n",
              "      <td>22418.150391</td>\n",
              "      <td>3066.909912</td>\n",
              "    </tr>\n",
              "    <tr>\n",
              "      <th>50%</th>\n",
              "      <td>7220.100098</td>\n",
              "      <td>13544.519531</td>\n",
              "      <td>26781.679688</td>\n",
              "      <td>3830.169922</td>\n",
              "    </tr>\n",
              "    <tr>\n",
              "      <th>75%</th>\n",
              "      <td>7471.500000</td>\n",
              "      <td>15365.139648</td>\n",
              "      <td>28437.769531</td>\n",
              "      <td>4207.270020</td>\n",
              "    </tr>\n",
              "    <tr>\n",
              "      <th>max</th>\n",
              "      <td>8014.299805</td>\n",
              "      <td>16469.750000</td>\n",
              "      <td>33753.328125</td>\n",
              "      <td>4796.560059</td>\n",
              "    </tr>\n",
              "  </tbody>\n",
              "</table>\n",
              "</div>"
            ],
            "text/plain": [
              "              ftse          dax         nikkei  market_value\n",
              "count  1245.000000   1245.000000   1245.000000   1245.000000\n",
              "mean   7072.865867  13668.384585  25729.274013   3691.250659\n",
              "std     566.716325   1681.478900   3635.387496    638.483493\n",
              "min    4993.899902   8441.709961  16552.830078   2237.399902\n",
              "25%    6837.399902  12401.200195  22418.150391   3066.909912\n",
              "50%    7220.100098  13544.519531  26781.679688   3830.169922\n",
              "75%    7471.500000  15365.139648  28437.769531   4207.270020\n",
              "max    8014.299805  16469.750000  33753.328125   4796.560059"
            ]
          },
          "execution_count": 39,
          "metadata": {},
          "output_type": "execute_result"
        }
      ],
      "source": [
        "df_comp.describe()"
      ]
    },
    {
      "cell_type": "code",
      "execution_count": 40,
      "metadata": {
        "id": "SMaVLlsR226Z"
      },
      "outputs": [],
      "source": [
        "#Elimino todas las columnas excepto \"market_value\" \n",
        "del df_comp[' dax ']\n",
        "del df_comp['ftse']\n",
        "del df_comp['nikkei']"
      ]
    },
    {
      "cell_type": "code",
      "execution_count": 41,
      "metadata": {
        "id": "I7pKTvYg226Z",
        "outputId": "99f054b8-6a5f-4ab2-ea1a-70d8152c9385"
      },
      "outputs": [
        {
          "data": {
            "text/html": [
              "<div>\n",
              "<style scoped>\n",
              "    .dataframe tbody tr th:only-of-type {\n",
              "        vertical-align: middle;\n",
              "    }\n",
              "\n",
              "    .dataframe tbody tr th {\n",
              "        vertical-align: top;\n",
              "    }\n",
              "\n",
              "    .dataframe thead th {\n",
              "        text-align: right;\n",
              "    }\n",
              "</style>\n",
              "<table border=\"1\" class=\"dataframe\">\n",
              "  <thead>\n",
              "    <tr style=\"text-align: right;\">\n",
              "      <th></th>\n",
              "      <th>market_value</th>\n",
              "    </tr>\n",
              "  </thead>\n",
              "  <tbody>\n",
              "    <tr>\n",
              "      <th>count</th>\n",
              "      <td>1245.000000</td>\n",
              "    </tr>\n",
              "    <tr>\n",
              "      <th>mean</th>\n",
              "      <td>3691.250659</td>\n",
              "    </tr>\n",
              "    <tr>\n",
              "      <th>std</th>\n",
              "      <td>638.483493</td>\n",
              "    </tr>\n",
              "    <tr>\n",
              "      <th>min</th>\n",
              "      <td>2237.399902</td>\n",
              "    </tr>\n",
              "    <tr>\n",
              "      <th>25%</th>\n",
              "      <td>3066.909912</td>\n",
              "    </tr>\n",
              "    <tr>\n",
              "      <th>50%</th>\n",
              "      <td>3830.169922</td>\n",
              "    </tr>\n",
              "    <tr>\n",
              "      <th>75%</th>\n",
              "      <td>4207.270020</td>\n",
              "    </tr>\n",
              "    <tr>\n",
              "      <th>max</th>\n",
              "      <td>4796.560059</td>\n",
              "    </tr>\n",
              "  </tbody>\n",
              "</table>\n",
              "</div>"
            ],
            "text/plain": [
              "       market_value\n",
              "count   1245.000000\n",
              "mean    3691.250659\n",
              "std      638.483493\n",
              "min     2237.399902\n",
              "25%     3066.909912\n",
              "50%     3830.169922\n",
              "75%     4207.270020\n",
              "max     4796.560059"
            ]
          },
          "execution_count": 41,
          "metadata": {},
          "output_type": "execute_result"
        }
      ],
      "source": [
        "df_comp.describe()"
      ]
    },
    {
      "cell_type": "markdown",
      "metadata": {
        "id": "lydnglaR226Z"
      },
      "source": [
        "### Splitting the Data"
      ]
    },
    {
      "cell_type": "code",
      "execution_count": 42,
      "metadata": {
        "id": "xRsA5_ZR226Z"
      },
      "outputs": [],
      "source": [
        "#La variable \"size\" contiene el número de filas que representan el 80% del total de filas en el DataFrame \"df_comp\"\n",
        "# Esto se utiliza en tareas de partición de datos, como dividir un conjunto de datos en un conjunto de entrenamiento (80%) y un conjunto de prueba (20%)\n",
        "size = int(len(df_comp)*0.8)"
      ]
    },
    {
      "cell_type": "code",
      "execution_count": 43,
      "metadata": {
        "id": "XPey-LLd226i"
      },
      "outputs": [],
      "source": [
        "#Un nuevo DataFrame \"df\" contendrá las primeras 'size' filas de 'df_comp'. ##CONJUNTO DE ENTRANAMIENTO (80%)\n",
        "df = df_comp.iloc[:size]"
      ]
    },
    {
      "cell_type": "code",
      "execution_count": 44,
      "metadata": {
        "id": "OJr3uUzS226i"
      },
      "outputs": [],
      "source": [
        "#Un nuevo DataFrame \"df_test\" contendrá todas las filas df_compdesde la fila en la posición sizeen adelante. ##CONJUNTO DE PRUEBA (20%)\n",
        "df_test = df_comp.iloc[size:]"
      ]
    },
    {
      "cell_type": "code",
      "execution_count": 45,
      "metadata": {
        "id": "_honvFut226i",
        "outputId": "d5b962f3-b067-4d18-8954-5ebab2a5de97"
      },
      "outputs": [
        {
          "data": {
            "text/html": [
              "<div>\n",
              "<style scoped>\n",
              "    .dataframe tbody tr th:only-of-type {\n",
              "        vertical-align: middle;\n",
              "    }\n",
              "\n",
              "    .dataframe tbody tr th {\n",
              "        vertical-align: top;\n",
              "    }\n",
              "\n",
              "    .dataframe thead th {\n",
              "        text-align: right;\n",
              "    }\n",
              "</style>\n",
              "<table border=\"1\" class=\"dataframe\">\n",
              "  <thead>\n",
              "    <tr style=\"text-align: right;\">\n",
              "      <th></th>\n",
              "      <th>market_value</th>\n",
              "    </tr>\n",
              "    <tr>\n",
              "      <th>date</th>\n",
              "      <th></th>\n",
              "    </tr>\n",
              "  </thead>\n",
              "  <tbody>\n",
              "    <tr>\n",
              "      <th>2022-09-20</th>\n",
              "      <td>3855.929932</td>\n",
              "    </tr>\n",
              "    <tr>\n",
              "      <th>2022-09-21</th>\n",
              "      <td>3789.929932</td>\n",
              "    </tr>\n",
              "    <tr>\n",
              "      <th>2022-09-22</th>\n",
              "      <td>3757.989990</td>\n",
              "    </tr>\n",
              "    <tr>\n",
              "      <th>2022-09-23</th>\n",
              "      <td>3693.229980</td>\n",
              "    </tr>\n",
              "    <tr>\n",
              "      <th>2022-09-26</th>\n",
              "      <td>3655.040039</td>\n",
              "    </tr>\n",
              "  </tbody>\n",
              "</table>\n",
              "</div>"
            ],
            "text/plain": [
              "            market_value\n",
              "date                    \n",
              "2022-09-20   3855.929932\n",
              "2022-09-21   3789.929932\n",
              "2022-09-22   3757.989990\n",
              "2022-09-23   3693.229980\n",
              "2022-09-26   3655.040039"
            ]
          },
          "execution_count": 45,
          "metadata": {},
          "output_type": "execute_result"
        }
      ],
      "source": [
        "df.tail()"
      ]
    },
    {
      "cell_type": "code",
      "execution_count": 46,
      "metadata": {
        "id": "DOtncpfw226i",
        "outputId": "eccb615a-68ae-4d01-9cad-4d01cea67543"
      },
      "outputs": [
        {
          "data": {
            "text/html": [
              "<div>\n",
              "<style scoped>\n",
              "    .dataframe tbody tr th:only-of-type {\n",
              "        vertical-align: middle;\n",
              "    }\n",
              "\n",
              "    .dataframe tbody tr th {\n",
              "        vertical-align: top;\n",
              "    }\n",
              "\n",
              "    .dataframe thead th {\n",
              "        text-align: right;\n",
              "    }\n",
              "</style>\n",
              "<table border=\"1\" class=\"dataframe\">\n",
              "  <thead>\n",
              "    <tr style=\"text-align: right;\">\n",
              "      <th></th>\n",
              "      <th>market_value</th>\n",
              "    </tr>\n",
              "    <tr>\n",
              "      <th>date</th>\n",
              "      <th></th>\n",
              "    </tr>\n",
              "  </thead>\n",
              "  <tbody>\n",
              "    <tr>\n",
              "      <th>2022-09-27</th>\n",
              "      <td>3647.290039</td>\n",
              "    </tr>\n",
              "    <tr>\n",
              "      <th>2022-09-28</th>\n",
              "      <td>3719.040039</td>\n",
              "    </tr>\n",
              "    <tr>\n",
              "      <th>2022-09-29</th>\n",
              "      <td>3640.469971</td>\n",
              "    </tr>\n",
              "    <tr>\n",
              "      <th>2022-09-30</th>\n",
              "      <td>3585.620117</td>\n",
              "    </tr>\n",
              "    <tr>\n",
              "      <th>2022-10-03</th>\n",
              "      <td>3678.429932</td>\n",
              "    </tr>\n",
              "  </tbody>\n",
              "</table>\n",
              "</div>"
            ],
            "text/plain": [
              "            market_value\n",
              "date                    \n",
              "2022-09-27   3647.290039\n",
              "2022-09-28   3719.040039\n",
              "2022-09-29   3640.469971\n",
              "2022-09-30   3585.620117\n",
              "2022-10-03   3678.429932"
            ]
          },
          "execution_count": 46,
          "metadata": {},
          "output_type": "execute_result"
        }
      ],
      "source": [
        "df_test.head()"
      ]
    }
  ],
  "metadata": {
    "colab": {
      "provenance": []
    },
    "kernelspec": {
      "display_name": "Python 3",
      "language": "python",
      "name": "python3"
    },
    "language_info": {
      "codemirror_mode": {
        "name": "ipython",
        "version": 3
      },
      "file_extension": ".py",
      "mimetype": "text/x-python",
      "name": "python",
      "nbconvert_exporter": "python",
      "pygments_lexer": "ipython3",
      "version": "3.11.5"
    }
  },
  "nbformat": 4,
  "nbformat_minor": 0
}
