{
  "nbformat": 4,
  "nbformat_minor": 0,
  "metadata": {
    "colab": {
      "provenance": []
    },
    "kernelspec": {
      "name": "python3",
      "display_name": "Python 3"
    },
    "language_info": {
      "name": "python"
    }
  },
  "cells": [
    {
      "cell_type": "markdown",
      "source": [
        "**pip install arch:**\n",
        "pip es una herramienta utilizada para instalar paquetes de Python desde el repositorio PyPI (Python Package Index).\n",
        "**install** es el subcomando de pip que se utiliza para instalar paquetes.\n",
        "**arch** es el nombre del paquete que se desea instalar."
      ],
      "metadata": {
        "id": "oFfqLOiQceRQ"
      }
    },
    {
      "cell_type": "code",
      "source": [
        "pip install arch"
      ],
      "metadata": {
        "colab": {
          "base_uri": "https://localhost:8080/"
        },
        "id": "vkX22ivURSWX",
        "outputId": "3c7a7586-172d-49fa-b70e-4c92abea7e03"
      },
      "execution_count": 2,
      "outputs": [
        {
          "output_type": "stream",
          "name": "stdout",
          "text": [
            "Collecting arch\n",
            "  Downloading arch-6.2.0-cp310-cp310-manylinux_2_17_x86_64.manylinux2014_x86_64.whl (981 kB)\n",
            "\u001b[2K     \u001b[90m━━━━━━━━━━━━━━━━━━━━━━━━━━━━━━━━━━━━━━━━\u001b[0m \u001b[32m981.7/981.7 kB\u001b[0m \u001b[31m7.7 MB/s\u001b[0m eta \u001b[36m0:00:00\u001b[0m\n",
            "\u001b[?25hRequirement already satisfied: numpy>=1.19 in /usr/local/lib/python3.10/dist-packages (from arch) (1.23.5)\n",
            "Requirement already satisfied: scipy>=1.5 in /usr/local/lib/python3.10/dist-packages (from arch) (1.11.3)\n",
            "Requirement already satisfied: pandas>=1.1 in /usr/local/lib/python3.10/dist-packages (from arch) (1.5.3)\n",
            "Requirement already satisfied: statsmodels>=0.12 in /usr/local/lib/python3.10/dist-packages (from arch) (0.14.0)\n",
            "Requirement already satisfied: python-dateutil>=2.8.1 in /usr/local/lib/python3.10/dist-packages (from pandas>=1.1->arch) (2.8.2)\n",
            "Requirement already satisfied: pytz>=2020.1 in /usr/local/lib/python3.10/dist-packages (from pandas>=1.1->arch) (2023.3.post1)\n",
            "Requirement already satisfied: patsy>=0.5.2 in /usr/local/lib/python3.10/dist-packages (from statsmodels>=0.12->arch) (0.5.3)\n",
            "Requirement already satisfied: packaging>=21.3 in /usr/local/lib/python3.10/dist-packages (from statsmodels>=0.12->arch) (23.2)\n",
            "Requirement already satisfied: six in /usr/local/lib/python3.10/dist-packages (from patsy>=0.5.2->statsmodels>=0.12->arch) (1.16.0)\n",
            "Installing collected packages: arch\n",
            "Successfully installed arch-6.2.0\n"
          ]
        }
      ]
    },
    {
      "cell_type": "code",
      "execution_count": 3,
      "metadata": {
        "id": "4nw-BxXnQUyX"
      },
      "outputs": [],
      "source": [
        "\n",
        "import numpy as np\n",
        "import pandas as pd\n",
        "import scipy\n",
        "import statsmodels.api as sm\n",
        "import matplotlib.pyplot as plt\n",
        "import seaborn as sns\n",
        "import sklearn\n",
        "from statsmodels.tsa.arima_model import ARIMA\n",
        "from arch import arch_model\n",
        "import seaborn as sns\n",
        "import yfinance\n",
        "import warnings\n",
        "warnings.filterwarnings(\"ignore\")\n",
        "sns.set()"
      ]
    },
    {
      "cell_type": "markdown",
      "source": [
        "## Loading the data"
      ],
      "metadata": {
        "id": "rmq7Yr60RgKN"
      }
    },
    {
      "cell_type": "markdown",
      "source": [
        "**yfinance.download():**\n",
        "\n",
        "yfinance es una biblioteca de Python que permite descargar datos financieros de Yahoo Finance. En este caso, estás utilizando la función download() de esta biblioteca para descargar los datos.\n",
        "\n",
        "**tickers=\"^GSPC ^FTSE ^N225 ^GDAXI\":**\n",
        "\n",
        "Este argumento especifica los símbolos de los índices bursátiles que deseas descargar. Estás descargando datos para los índices S&P 500, FTSE 100, Nikkei 225 y DAX.\n",
        "\n",
        "**start=\"1994-01-07\":**\n",
        "\n",
        "Este argumento establece la fecha de inicio para la descarga de datos. En este caso, se inicia el 7 de enero de 1994.\n",
        "\n",
        "**end=\"2018-01-29\":**\n",
        "\n",
        "Este argumento establece la fecha de finalización para la descarga de datos. En este caso, se finaliza el 29 de enero de 2018.\n",
        "\n",
        "**interval=\"1d\":**\n",
        "\n",
        "Este argumento especifica el intervalo de tiempo de los datos que se descargarán. En este caso, se están descargando datos diarios.\n",
        "\n",
        "**group_by='ticker':**\n",
        "\n",
        "Este argumento agrupa los datos por el símbolo del índice bursátil al que pertenecen. Cada índice tendrá sus propias filas de datos.\n",
        "\n",
        "**auto_adjust=True:**\n",
        "\n",
        "Este argumento indica que los datos deben ser ajustados automáticamente para tener en cuenta eventos corporativos como divisiones de acciones y dividendos.\n",
        "\n",
        "**threads=True:**\n",
        "\n",
        "Este argumento habilita la descarga paralela de datos utilizando múltiples hilos. Esto puede acelerar la descarga de datos cuando se descargan datos de varios activos financieros al mismo tiempo."
      ],
      "metadata": {
        "id": "KhEoaLOOcpvW"
      }
    },
    {
      "cell_type": "code",
      "source": [
        "raw_data = yfinance.download(tickers=\"^GSPC ^FTSE ^N225 ^GDAXI\", start=\"1994-01-07\", end=\"2018-01-29\",\n",
        "                             interval=\"1d\", group_by='ticker', auto_adjust=True, threads=True)"
      ],
      "metadata": {
        "colab": {
          "base_uri": "https://localhost:8080/"
        },
        "id": "JJSjxxEtRhlW",
        "outputId": "712e5db3-4fdb-4f8c-9bce-24cae4bee5a0"
      },
      "execution_count": 5,
      "outputs": [
        {
          "output_type": "stream",
          "name": "stdout",
          "text": [
            "[*********************100%%**********************]  4 of 4 completed\n"
          ]
        }
      ]
    },
    {
      "cell_type": "markdown",
      "source": [
        "**raw_data** es el DataFrame original que contiene los datos financieros que descargaste previamente utilizando la biblioteca yfinance.\n",
        "\n",
        "**df_comp** es una nueva variable que se crea para almacenar la copia de los datos. Es una copia independiente del DataFrame original, por lo que cualquier modificación que hagas en df_comp no afectará a raw_data y viceversa."
      ],
      "metadata": {
        "id": "961uEw43dKEc"
      }
    },
    {
      "cell_type": "code",
      "source": [
        "df_comp = raw_data.copy()"
      ],
      "metadata": {
        "id": "Kj21aklYRvGe"
      },
      "execution_count": 6,
      "outputs": []
    },
    {
      "cell_type": "markdown",
      "source": [
        "**df_comp['spx'] = df_comp['^GSPC'].Close[:]:**\n",
        "\n",
        "Agrega una nueva columna llamada \"spx\" a df_comp.\n",
        "Asigna los valores de cierre de la columna \"Close\" del índice S&P 500 (^GSPC) a la nueva columna \"spx\".\n",
        "\n",
        "**df_comp['dax'] = df_comp['^GDAXI'].Close[:]:**\n",
        "\n",
        "Agrega una nueva columna llamada \"dax\" a df_comp.\n",
        "Asigna los valores de cierre de la columna \"Close\" del índice DAX (^GDAXI) a la nueva columna \"dax\".\n",
        "\n",
        "**df_comp['ftse'] = df_comp['^FTSE'].Close[:]:**\n",
        "\n",
        "Agrega una nueva columna llamada \"ftse\" a df_comp.\n",
        "Asigna los valores de cierre de la columna \"Close\" del índice FTSE 100 (^FTSE) a la nueva columna \"ftse\".\n",
        "\n",
        "**df_comp['nikkei'] = df_comp['^N225'].Close[:]:**\n",
        "\n",
        "Agrega una nueva columna llamada \"nikkei\" a df_comp.\n",
        "Asigna los valores de cierre de la columna \"Close\" del índice Nikkei 225 (^N225) a la nueva columna \"nikkei\".\n",
        "\n"
      ],
      "metadata": {
        "id": "GRYEF7hldTXu"
      }
    },
    {
      "cell_type": "code",
      "source": [
        "df_comp['spx'] = df_comp['^GSPC'].Close[:]\n",
        "df_comp['dax'] = df_comp['^GDAXI'].Close[:]\n",
        "df_comp['ftse'] = df_comp['^FTSE'].Close[:]\n",
        "df_comp['nikkei'] = df_comp['^N225'].Close[:]"
      ],
      "metadata": {
        "id": "ll94W1c3RxDV"
      },
      "execution_count": 7,
      "outputs": []
    },
    {
      "cell_type": "markdown",
      "source": [
        "**df_comp = df_comp.iloc[1:]:**\n",
        "\n",
        "Esta línea elimina la primera fila del DataFrame df_comp, posiblemente eliminando la primera observación de datos. Esto puede ser útil si deseas eliminar filas con valores faltantes o simplemente omitir el primer período de tiempo en tus datos.\n",
        "\n",
        "**del df_comp['^N225'], del df_comp['^GSPC'], del df_comp['^GDAXI'], del df_comp['^FTSE']:**\n",
        "\n",
        "Estas líneas eliminan las columnas con los nombres indicados del DataFrame df_comp. En este caso, se están eliminando las columnas correspondientes a los índices bursátiles Nikkei 225, S&P 500, DAX y FTSE 100. Esto puede ser útil si no necesitas estas columnas en tu análisis posterior.\n",
        "\n",
        "**df_comp = df_comp.asfreq('b'):**\n",
        "\n",
        "Esta línea establece la frecuencia de muestreo de los datos en el DataFrame df_comp como \"b\", que generalmente se utiliza para indicar días hábiles (business days). Esto puede ser importante si deseas asegurarte de que tus datos estén muestreados en días hábiles y no incluyan los fines de semana.\n",
        "\n",
        "**df_comp = df_comp.fillna(method='ffill'):**\n",
        "\n",
        "Esta línea rellena los valores faltantes en el DataFrame df_comp utilizando el método 'ffill' (forward fill), lo que significa que los valores faltantes se llenan con el valor anterior válido en la misma columna. Esto es común en el análisis de series temporales para tratar los valores faltantes y asegurarse de que los datos estén completos y sin huecos."
      ],
      "metadata": {
        "id": "AbUf8krVdxOp"
      }
    },
    {
      "cell_type": "code",
      "source": [
        "df_comp = df_comp.iloc[1:]\n",
        "del df_comp['^N225']\n",
        "del df_comp['^GSPC']\n",
        "del df_comp['^GDAXI']\n",
        "del df_comp['^FTSE']\n",
        "df_comp=df_comp.asfreq('b')\n",
        "df_comp=df_comp.fillna(method='ffill')"
      ],
      "metadata": {
        "id": "0csJlp2fRzK2"
      },
      "execution_count": 8,
      "outputs": []
    },
    {
      "cell_type": "markdown",
      "source": [
        "## Creating Returns"
      ],
      "metadata": {
        "id": "pNcfE_zqR16G"
      }
    },
    {
      "cell_type": "markdown",
      "source": [
        " **df_comp['ret_spx'] = df_comp.spx.pct_change(1) * 100:**\n",
        "\n",
        "Agrega una nueva columna llamada \"ret_spx\" a df_comp.\n",
        "Calcula los retornos diarios del índice S&P 500 (columna \"spx\") utilizando la función pct_change(1). Esto calcula el cambio porcentual en comparación con el día anterior.\n",
        "Multiplica por 100 para expresar los retornos en porcentaje.\n",
        "\n",
        "**df_comp['ret_ftse'] = df_comp.ftse.pct_change(1) * 100:**\n",
        "\n",
        "Agrega una nueva columna llamada \"ret_ftse\" a df_comp.\n",
        "Calcula los retornos diarios del índice FTSE 100 (columna \"ftse\") de manera similar a la línea anterior.\n",
        "\n",
        "**df_comp['ret_dax'] = df_comp.dax.pct_change(1) * 100:**\n",
        "\n",
        "Agrega una nueva columna llamada \"ret_dax\" a df_comp.\n",
        "Calcula los retornos diarios del índice DAX (columna \"dax\") de manera similar a las líneas anteriores.\n",
        "\n",
        "**df_comp['ret_nikkei'] = df_comp.nikkei.pct_change(1) * 100:**\n",
        "\n",
        "Agrega una nueva columna llamada \"ret_nikkei\" a df_comp.\n",
        "Calcula los retornos diarios del índice Nikkei 225 (columna \"nikkei\") de manera similar a las líneas anteriores."
      ],
      "metadata": {
        "id": "k5M3f9OTeGRV"
      }
    },
    {
      "cell_type": "code",
      "source": [
        "df_comp['ret_spx'] = df_comp.spx.pct_change(1)*100\n",
        "df_comp['ret_ftse'] = df_comp.ftse.pct_change(1)*100\n",
        "df_comp['ret_dax'] = df_comp.dax.pct_change(1)*100\n",
        "df_comp['ret_nikkei'] = df_comp.nikkei.pct_change(1)*100"
      ],
      "metadata": {
        "id": "5I8-utq0R7XW"
      },
      "execution_count": 9,
      "outputs": []
    },
    {
      "cell_type": "markdown",
      "source": [
        "## Splitting the Data"
      ],
      "metadata": {
        "id": "V1DqRqCoR-vW"
      }
    },
    {
      "cell_type": "markdown",
      "source": [
        "**size = int(len(df_comp) * 0.8)**\n",
        "\n",
        "Esta línea calcula el tamaño deseado para el conjunto de datos de entrenamiento (df) como el 80% del tamaño total del DataFrame df_comp. El 80% se calcula multiplicando la longitud total de df_comp por 0.8 y convirtiéndolo en un entero.\n",
        "\n",
        "**df, df_test = df_comp.iloc[:size], df_comp.iloc[size:]:**\n",
        "\n",
        "En esta línea, se realiza la división del DataFrame df_comp en dos DataFrames diferentes: df y df_test.\n",
        "df contiene las primeras filas del DataFrame df_comp, desde el principio hasta el índice size - 1. Estas serán las filas utilizadas para entrenar modelos y realizar análisis.\n",
        "df_test contiene las filas desde el índice size hasta el final del DataFrame df_comp. Estas filas se reservan para realizar pruebas y evaluaciones posteriores."
      ],
      "metadata": {
        "id": "XBXN0Q9CenTp"
      }
    },
    {
      "cell_type": "code",
      "source": [
        "size = int(len(df_comp)*0.8)\n",
        "df, df_test = df_comp.iloc[:size], df_comp.iloc[size:]"
      ],
      "metadata": {
        "id": "2XNUwEZuSA7e"
      },
      "execution_count": 10,
      "outputs": []
    },
    {
      "cell_type": "markdown",
      "source": [
        "## Fitting a Model"
      ],
      "metadata": {
        "id": "uSnSpLv9SDRn"
      }
    },
    {
      "cell_type": "markdown",
      "source": [
        "El comando pip install pmdarima se utiliza para instalar la biblioteca pmdarima, que proporciona herramientas para ajustar automáticamente modelos ARIMA (Autoregressive Integrated Moving Average) y SARIMA (Seasonal ARIMA) a series temporales."
      ],
      "metadata": {
        "id": "aT0_bByAfUj3"
      }
    },
    {
      "cell_type": "code",
      "source": [
        "pip install pmdarima"
      ],
      "metadata": {
        "colab": {
          "base_uri": "https://localhost:8080/"
        },
        "id": "46XDoZPKSMVY",
        "outputId": "b3b02aac-6e6f-47b9-c9fb-ce887315e23f"
      },
      "execution_count": 12,
      "outputs": [
        {
          "output_type": "stream",
          "name": "stdout",
          "text": [
            "Collecting pmdarima\n",
            "  Downloading pmdarima-2.0.3-cp310-cp310-manylinux_2_17_x86_64.manylinux2014_x86_64.manylinux_2_28_x86_64.whl (1.8 MB)\n",
            "\u001b[2K     \u001b[90m━━━━━━━━━━━━━━━━━━━━━━━━━━━━━━━━━━━━━━━━\u001b[0m \u001b[32m1.8/1.8 MB\u001b[0m \u001b[31m11.1 MB/s\u001b[0m eta \u001b[36m0:00:00\u001b[0m\n",
            "\u001b[?25hRequirement already satisfied: joblib>=0.11 in /usr/local/lib/python3.10/dist-packages (from pmdarima) (1.3.2)\n",
            "Requirement already satisfied: Cython!=0.29.18,!=0.29.31,>=0.29 in /usr/local/lib/python3.10/dist-packages (from pmdarima) (3.0.3)\n",
            "Requirement already satisfied: numpy>=1.21.2 in /usr/local/lib/python3.10/dist-packages (from pmdarima) (1.23.5)\n",
            "Requirement already satisfied: pandas>=0.19 in /usr/local/lib/python3.10/dist-packages (from pmdarima) (1.5.3)\n",
            "Requirement already satisfied: scikit-learn>=0.22 in /usr/local/lib/python3.10/dist-packages (from pmdarima) (1.2.2)\n",
            "Requirement already satisfied: scipy>=1.3.2 in /usr/local/lib/python3.10/dist-packages (from pmdarima) (1.11.3)\n",
            "Requirement already satisfied: statsmodels>=0.13.2 in /usr/local/lib/python3.10/dist-packages (from pmdarima) (0.14.0)\n",
            "Requirement already satisfied: urllib3 in /usr/local/lib/python3.10/dist-packages (from pmdarima) (2.0.6)\n",
            "Requirement already satisfied: setuptools!=50.0.0,>=38.6.0 in /usr/local/lib/python3.10/dist-packages (from pmdarima) (67.7.2)\n",
            "Requirement already satisfied: python-dateutil>=2.8.1 in /usr/local/lib/python3.10/dist-packages (from pandas>=0.19->pmdarima) (2.8.2)\n",
            "Requirement already satisfied: pytz>=2020.1 in /usr/local/lib/python3.10/dist-packages (from pandas>=0.19->pmdarima) (2023.3.post1)\n",
            "Requirement already satisfied: threadpoolctl>=2.0.0 in /usr/local/lib/python3.10/dist-packages (from scikit-learn>=0.22->pmdarima) (3.2.0)\n",
            "Requirement already satisfied: patsy>=0.5.2 in /usr/local/lib/python3.10/dist-packages (from statsmodels>=0.13.2->pmdarima) (0.5.3)\n",
            "Requirement already satisfied: packaging>=21.3 in /usr/local/lib/python3.10/dist-packages (from statsmodels>=0.13.2->pmdarima) (23.2)\n",
            "Requirement already satisfied: six in /usr/local/lib/python3.10/dist-packages (from patsy>=0.5.2->statsmodels>=0.13.2->pmdarima) (1.16.0)\n",
            "Installing collected packages: pmdarima\n",
            "Successfully installed pmdarima-2.0.3\n"
          ]
        }
      ]
    },
    {
      "cell_type": "markdown",
      "source": [
        "La función auto_arima es útil para encontrar el mejor modelo ARIMA o SARIMA para tus datos sin necesidad de realizar una búsqueda exhaustiva manual de hiperparámetros."
      ],
      "metadata": {
        "id": "4fvWpbigfapR"
      }
    },
    {
      "cell_type": "code",
      "source": [
        "from pmdarima.arima import auto_arima"
      ],
      "metadata": {
        "id": "0nOa5u-USFqG"
      },
      "execution_count": 13,
      "outputs": []
    },
    {
      "cell_type": "markdown",
      "source": [
        "**auto_arima** es una función que busca automáticamente los mejores hiperparámetros para un modelo ARIMA en base a la serie temporal proporcionada. Esta función intentará encontrar los valores óptimos de los órdenes (p, d, q) y (P, D, Q, s) para el modelo ARIMA o SARIMA, donde (p, d, q) son los órdenes del proceso autoregresivo, diferenciación y media móvil, respectivamente, y (P, D, Q, s) son los órdenes de la componente estacional, si corresponde.\n",
        "\n",
        "**df.ret_ftse[1:]** selecciona la serie de retornos diarios del índice FTSE 100 desde la segunda observación en adelante. La razón para excluir la primera observación podría deberse a que los retornos del primer día no pueden calcularse debido a la falta de datos previos para comparar.\n",
        "\n",
        "**model_auto** es una variable en la que se almacena el modelo ARIMA que ha sido ajustado automáticamente utilizando auto_arima."
      ],
      "metadata": {
        "id": "wFqDaUhufkA6"
      }
    },
    {
      "cell_type": "code",
      "source": [
        "model_auto = auto_arima(df.ret_ftse[1:])"
      ],
      "metadata": {
        "id": "GOXiI4wUSQm1"
      },
      "execution_count": 15,
      "outputs": []
    },
    {
      "cell_type": "markdown",
      "source": [
        "La variable model_auto contiene el modelo ARIMA que fue ajustado automáticamente utilizando la función auto_arima."
      ],
      "metadata": {
        "id": "hSsb367lf109"
      }
    },
    {
      "cell_type": "code",
      "source": [
        "model_auto"
      ],
      "metadata": {
        "colab": {
          "base_uri": "https://localhost:8080/",
          "height": 74
        },
        "id": "8Fnt-rD6Vgs2",
        "outputId": "a7ff47e4-b427-47ab-e03a-4baa6d594261"
      },
      "execution_count": 16,
      "outputs": [
        {
          "output_type": "execute_result",
          "data": {
            "text/plain": [
              "ARIMA(order=(4, 0, 5), scoring_args={}, suppress_warnings=True,\n",
              "      with_intercept=False)"
            ],
            "text/html": [
              "<style>#sk-container-id-1 {color: black;background-color: white;}#sk-container-id-1 pre{padding: 0;}#sk-container-id-1 div.sk-toggleable {background-color: white;}#sk-container-id-1 label.sk-toggleable__label {cursor: pointer;display: block;width: 100%;margin-bottom: 0;padding: 0.3em;box-sizing: border-box;text-align: center;}#sk-container-id-1 label.sk-toggleable__label-arrow:before {content: \"▸\";float: left;margin-right: 0.25em;color: #696969;}#sk-container-id-1 label.sk-toggleable__label-arrow:hover:before {color: black;}#sk-container-id-1 div.sk-estimator:hover label.sk-toggleable__label-arrow:before {color: black;}#sk-container-id-1 div.sk-toggleable__content {max-height: 0;max-width: 0;overflow: hidden;text-align: left;background-color: #f0f8ff;}#sk-container-id-1 div.sk-toggleable__content pre {margin: 0.2em;color: black;border-radius: 0.25em;background-color: #f0f8ff;}#sk-container-id-1 input.sk-toggleable__control:checked~div.sk-toggleable__content {max-height: 200px;max-width: 100%;overflow: auto;}#sk-container-id-1 input.sk-toggleable__control:checked~label.sk-toggleable__label-arrow:before {content: \"▾\";}#sk-container-id-1 div.sk-estimator input.sk-toggleable__control:checked~label.sk-toggleable__label {background-color: #d4ebff;}#sk-container-id-1 div.sk-label input.sk-toggleable__control:checked~label.sk-toggleable__label {background-color: #d4ebff;}#sk-container-id-1 input.sk-hidden--visually {border: 0;clip: rect(1px 1px 1px 1px);clip: rect(1px, 1px, 1px, 1px);height: 1px;margin: -1px;overflow: hidden;padding: 0;position: absolute;width: 1px;}#sk-container-id-1 div.sk-estimator {font-family: monospace;background-color: #f0f8ff;border: 1px dotted black;border-radius: 0.25em;box-sizing: border-box;margin-bottom: 0.5em;}#sk-container-id-1 div.sk-estimator:hover {background-color: #d4ebff;}#sk-container-id-1 div.sk-parallel-item::after {content: \"\";width: 100%;border-bottom: 1px solid gray;flex-grow: 1;}#sk-container-id-1 div.sk-label:hover label.sk-toggleable__label {background-color: #d4ebff;}#sk-container-id-1 div.sk-serial::before {content: \"\";position: absolute;border-left: 1px solid gray;box-sizing: border-box;top: 0;bottom: 0;left: 50%;z-index: 0;}#sk-container-id-1 div.sk-serial {display: flex;flex-direction: column;align-items: center;background-color: white;padding-right: 0.2em;padding-left: 0.2em;position: relative;}#sk-container-id-1 div.sk-item {position: relative;z-index: 1;}#sk-container-id-1 div.sk-parallel {display: flex;align-items: stretch;justify-content: center;background-color: white;position: relative;}#sk-container-id-1 div.sk-item::before, #sk-container-id-1 div.sk-parallel-item::before {content: \"\";position: absolute;border-left: 1px solid gray;box-sizing: border-box;top: 0;bottom: 0;left: 50%;z-index: -1;}#sk-container-id-1 div.sk-parallel-item {display: flex;flex-direction: column;z-index: 1;position: relative;background-color: white;}#sk-container-id-1 div.sk-parallel-item:first-child::after {align-self: flex-end;width: 50%;}#sk-container-id-1 div.sk-parallel-item:last-child::after {align-self: flex-start;width: 50%;}#sk-container-id-1 div.sk-parallel-item:only-child::after {width: 0;}#sk-container-id-1 div.sk-dashed-wrapped {border: 1px dashed gray;margin: 0 0.4em 0.5em 0.4em;box-sizing: border-box;padding-bottom: 0.4em;background-color: white;}#sk-container-id-1 div.sk-label label {font-family: monospace;font-weight: bold;display: inline-block;line-height: 1.2em;}#sk-container-id-1 div.sk-label-container {text-align: center;}#sk-container-id-1 div.sk-container {/* jupyter's `normalize.less` sets `[hidden] { display: none; }` but bootstrap.min.css set `[hidden] { display: none !important; }` so we also need the `!important` here to be able to override the default hidden behavior on the sphinx rendered scikit-learn.org. See: https://github.com/scikit-learn/scikit-learn/issues/21755 */display: inline-block !important;position: relative;}#sk-container-id-1 div.sk-text-repr-fallback {display: none;}</style><div id=\"sk-container-id-1\" class=\"sk-top-container\"><div class=\"sk-text-repr-fallback\"><pre> ARIMA(4,0,5)(0,0,0)[0]          </pre><b>In a Jupyter environment, please rerun this cell to show the HTML representation or trust the notebook. <br />On GitHub, the HTML representation is unable to render, please try loading this page with nbviewer.org.</b></div><div class=\"sk-container\" hidden><div class=\"sk-item\"><div class=\"sk-estimator sk-toggleable\"><input class=\"sk-toggleable__control sk-hidden--visually\" id=\"sk-estimator-id-1\" type=\"checkbox\" checked><label for=\"sk-estimator-id-1\" class=\"sk-toggleable__label sk-toggleable__label-arrow\">ARIMA</label><div class=\"sk-toggleable__content\"><pre> ARIMA(4,0,5)(0,0,0)[0]          </pre></div></div></div></div></div>"
            ]
          },
          "metadata": {},
          "execution_count": 16
        }
      ]
    },
    {
      "cell_type": "markdown",
      "source": [
        "La función **model_auto.summary()** se utiliza para obtener un resumen detallado de un modelo ARIMA"
      ],
      "metadata": {
        "id": "VTwZblZpf-SD"
      }
    },
    {
      "cell_type": "code",
      "source": [
        "model_auto.summary()"
      ],
      "metadata": {
        "colab": {
          "base_uri": "https://localhost:8080/",
          "height": 580
        },
        "id": "mWFvYQ6fVlX3",
        "outputId": "1d2d1bbf-9dea-471c-cb66-18d1e78cd713"
      },
      "execution_count": 17,
      "outputs": [
        {
          "output_type": "execute_result",
          "data": {
            "text/plain": [
              "<class 'statsmodels.iolib.summary.Summary'>\n",
              "\"\"\"\n",
              "                               SARIMAX Results                                \n",
              "==============================================================================\n",
              "Dep. Variable:                      y   No. Observations:                 5019\n",
              "Model:               SARIMAX(4, 0, 5)   Log Likelihood               -7882.776\n",
              "Date:                Fri, 13 Oct 2023   AIC                          15785.552\n",
              "Time:                        18:39:07   BIC                          15850.762\n",
              "Sample:                    01-11-1994   HQIC                         15808.403\n",
              "                         - 04-05-2013                                         \n",
              "Covariance Type:                  opg                                         \n",
              "==============================================================================\n",
              "                 coef    std err          z      P>|z|      [0.025      0.975]\n",
              "------------------------------------------------------------------------------\n",
              "ar.L1          0.0120      0.082      0.147      0.883      -0.148       0.172\n",
              "ar.L2         -0.6543      0.077     -8.457      0.000      -0.806      -0.503\n",
              "ar.L3         -0.1628      0.071     -2.290      0.022      -0.302      -0.023\n",
              "ar.L4          0.2014      0.074      2.711      0.007       0.056       0.347\n",
              "ma.L1         -0.0357      0.081     -0.440      0.660      -0.195       0.123\n",
              "ma.L2          0.6068      0.078      7.769      0.000       0.454       0.760\n",
              "ma.L3          0.0621      0.068      0.908      0.364      -0.072       0.196\n",
              "ma.L4         -0.1933      0.073     -2.649      0.008      -0.336      -0.050\n",
              "ma.L5         -0.1053      0.010    -11.067      0.000      -0.124      -0.087\n",
              "sigma2         1.3543      0.015     91.437      0.000       1.325       1.383\n",
              "===================================================================================\n",
              "Ljung-Box (L1) (Q):                   0.00   Jarque-Bera (JB):              6354.62\n",
              "Prob(Q):                              0.96   Prob(JB):                         0.00\n",
              "Heteroskedasticity (H):               1.99   Skew:                            -0.20\n",
              "Prob(H) (two-sided):                  0.00   Kurtosis:                         8.50\n",
              "===================================================================================\n",
              "\n",
              "Warnings:\n",
              "[1] Covariance matrix calculated using the outer product of gradients (complex-step).\n",
              "\"\"\""
            ],
            "text/html": [
              "<table class=\"simpletable\">\n",
              "<caption>SARIMAX Results</caption>\n",
              "<tr>\n",
              "  <th>Dep. Variable:</th>           <td>y</td>        <th>  No. Observations:  </th>   <td>5019</td>   \n",
              "</tr>\n",
              "<tr>\n",
              "  <th>Model:</th>           <td>SARIMAX(4, 0, 5)</td> <th>  Log Likelihood     </th> <td>-7882.776</td>\n",
              "</tr>\n",
              "<tr>\n",
              "  <th>Date:</th>            <td>Fri, 13 Oct 2023</td> <th>  AIC                </th> <td>15785.552</td>\n",
              "</tr>\n",
              "<tr>\n",
              "  <th>Time:</th>                <td>18:39:07</td>     <th>  BIC                </th> <td>15850.762</td>\n",
              "</tr>\n",
              "<tr>\n",
              "  <th>Sample:</th>             <td>01-11-1994</td>    <th>  HQIC               </th> <td>15808.403</td>\n",
              "</tr>\n",
              "<tr>\n",
              "  <th></th>                   <td>- 04-05-2013</td>   <th>                     </th>     <td> </td>    \n",
              "</tr>\n",
              "<tr>\n",
              "  <th>Covariance Type:</th>        <td>opg</td>       <th>                     </th>     <td> </td>    \n",
              "</tr>\n",
              "</table>\n",
              "<table class=\"simpletable\">\n",
              "<tr>\n",
              "     <td></td>       <th>coef</th>     <th>std err</th>      <th>z</th>      <th>P>|z|</th>  <th>[0.025</th>    <th>0.975]</th>  \n",
              "</tr>\n",
              "<tr>\n",
              "  <th>ar.L1</th>  <td>    0.0120</td> <td>    0.082</td> <td>    0.147</td> <td> 0.883</td> <td>   -0.148</td> <td>    0.172</td>\n",
              "</tr>\n",
              "<tr>\n",
              "  <th>ar.L2</th>  <td>   -0.6543</td> <td>    0.077</td> <td>   -8.457</td> <td> 0.000</td> <td>   -0.806</td> <td>   -0.503</td>\n",
              "</tr>\n",
              "<tr>\n",
              "  <th>ar.L3</th>  <td>   -0.1628</td> <td>    0.071</td> <td>   -2.290</td> <td> 0.022</td> <td>   -0.302</td> <td>   -0.023</td>\n",
              "</tr>\n",
              "<tr>\n",
              "  <th>ar.L4</th>  <td>    0.2014</td> <td>    0.074</td> <td>    2.711</td> <td> 0.007</td> <td>    0.056</td> <td>    0.347</td>\n",
              "</tr>\n",
              "<tr>\n",
              "  <th>ma.L1</th>  <td>   -0.0357</td> <td>    0.081</td> <td>   -0.440</td> <td> 0.660</td> <td>   -0.195</td> <td>    0.123</td>\n",
              "</tr>\n",
              "<tr>\n",
              "  <th>ma.L2</th>  <td>    0.6068</td> <td>    0.078</td> <td>    7.769</td> <td> 0.000</td> <td>    0.454</td> <td>    0.760</td>\n",
              "</tr>\n",
              "<tr>\n",
              "  <th>ma.L3</th>  <td>    0.0621</td> <td>    0.068</td> <td>    0.908</td> <td> 0.364</td> <td>   -0.072</td> <td>    0.196</td>\n",
              "</tr>\n",
              "<tr>\n",
              "  <th>ma.L4</th>  <td>   -0.1933</td> <td>    0.073</td> <td>   -2.649</td> <td> 0.008</td> <td>   -0.336</td> <td>   -0.050</td>\n",
              "</tr>\n",
              "<tr>\n",
              "  <th>ma.L5</th>  <td>   -0.1053</td> <td>    0.010</td> <td>  -11.067</td> <td> 0.000</td> <td>   -0.124</td> <td>   -0.087</td>\n",
              "</tr>\n",
              "<tr>\n",
              "  <th>sigma2</th> <td>    1.3543</td> <td>    0.015</td> <td>   91.437</td> <td> 0.000</td> <td>    1.325</td> <td>    1.383</td>\n",
              "</tr>\n",
              "</table>\n",
              "<table class=\"simpletable\">\n",
              "<tr>\n",
              "  <th>Ljung-Box (L1) (Q):</th>     <td>0.00</td> <th>  Jarque-Bera (JB):  </th> <td>6354.62</td>\n",
              "</tr>\n",
              "<tr>\n",
              "  <th>Prob(Q):</th>                <td>0.96</td> <th>  Prob(JB):          </th>  <td>0.00</td>  \n",
              "</tr>\n",
              "<tr>\n",
              "  <th>Heteroskedasticity (H):</th> <td>1.99</td> <th>  Skew:              </th>  <td>-0.20</td> \n",
              "</tr>\n",
              "<tr>\n",
              "  <th>Prob(H) (two-sided):</th>    <td>0.00</td> <th>  Kurtosis:          </th>  <td>8.50</td>  \n",
              "</tr>\n",
              "</table><br/><br/>Warnings:<br/>[1] Covariance matrix calculated using the outer product of gradients (complex-step)."
            ],
            "text/latex": "\\begin{center}\n\\begin{tabular}{lclc}\n\\toprule\n\\textbf{Dep. Variable:}          &        y         & \\textbf{  No. Observations:  } &    5019     \\\\\n\\textbf{Model:}                  & SARIMAX(4, 0, 5) & \\textbf{  Log Likelihood     } & -7882.776   \\\\\n\\textbf{Date:}                   & Fri, 13 Oct 2023 & \\textbf{  AIC                } & 15785.552   \\\\\n\\textbf{Time:}                   &     18:39:07     & \\textbf{  BIC                } & 15850.762   \\\\\n\\textbf{Sample:}                 &    01-11-1994    & \\textbf{  HQIC               } & 15808.403   \\\\\n\\textbf{}                        &   - 04-05-2013   & \\textbf{                     } &             \\\\\n\\textbf{Covariance Type:}        &       opg        & \\textbf{                     } &             \\\\\n\\bottomrule\n\\end{tabular}\n\\begin{tabular}{lcccccc}\n                & \\textbf{coef} & \\textbf{std err} & \\textbf{z} & \\textbf{P$> |$z$|$} & \\textbf{[0.025} & \\textbf{0.975]}  \\\\\n\\midrule\n\\textbf{ar.L1}  &       0.0120  &        0.082     &     0.147  &         0.883        &       -0.148    &        0.172     \\\\\n\\textbf{ar.L2}  &      -0.6543  &        0.077     &    -8.457  &         0.000        &       -0.806    &       -0.503     \\\\\n\\textbf{ar.L3}  &      -0.1628  &        0.071     &    -2.290  &         0.022        &       -0.302    &       -0.023     \\\\\n\\textbf{ar.L4}  &       0.2014  &        0.074     &     2.711  &         0.007        &        0.056    &        0.347     \\\\\n\\textbf{ma.L1}  &      -0.0357  &        0.081     &    -0.440  &         0.660        &       -0.195    &        0.123     \\\\\n\\textbf{ma.L2}  &       0.6068  &        0.078     &     7.769  &         0.000        &        0.454    &        0.760     \\\\\n\\textbf{ma.L3}  &       0.0621  &        0.068     &     0.908  &         0.364        &       -0.072    &        0.196     \\\\\n\\textbf{ma.L4}  &      -0.1933  &        0.073     &    -2.649  &         0.008        &       -0.336    &       -0.050     \\\\\n\\textbf{ma.L5}  &      -0.1053  &        0.010     &   -11.067  &         0.000        &       -0.124    &       -0.087     \\\\\n\\textbf{sigma2} &       1.3543  &        0.015     &    91.437  &         0.000        &        1.325    &        1.383     \\\\\n\\bottomrule\n\\end{tabular}\n\\begin{tabular}{lclc}\n\\textbf{Ljung-Box (L1) (Q):}     & 0.00 & \\textbf{  Jarque-Bera (JB):  } & 6354.62  \\\\\n\\textbf{Prob(Q):}                & 0.96 & \\textbf{  Prob(JB):          } &   0.00   \\\\\n\\textbf{Heteroskedasticity (H):} & 1.99 & \\textbf{  Skew:              } &  -0.20   \\\\\n\\textbf{Prob(H) (two-sided):}    & 0.00 & \\textbf{  Kurtosis:          } &   8.50   \\\\\n\\bottomrule\n\\end{tabular}\n%\\caption{SARIMAX Results}\n\\end{center}\n\nWarnings: \\newline\n [1] Covariance matrix calculated using the outer product of gradients (complex-step)."
          },
          "metadata": {},
          "execution_count": 17
        }
      ]
    },
    {
      "cell_type": "markdown",
      "source": [
        "## Important Arguments"
      ],
      "metadata": {
        "id": "u2j1hLtUWA39"
      }
    },
    {
      "cell_type": "markdown",
      "source": [
        "**df_comp.ret_ftse[1:]:** Esta es la serie de retornos diarios del índice FTSE 100, excluyendo la primera observación. Se utiliza como serie temporal principal para el modelo SARIMA.\n",
        "\n",
        "**exogenous = df_comp[['ret_spx', 'ret_dax', 'ret_nikkei']][1:]:** Estas son las variables exógenas, es decir, las variables predictoras que se utilizan en el modelo. En este caso, se están utilizando los retornos diarios de los índices S&P 500, DAX y Nikkei 225 como variables exógenas para el modelo SARIMA.\n",
        "\n",
        "**m = 5:** Este argumento especifica la frecuencia estacional de los datos. En este caso, se asume una estacionalidad de 5, lo que indica una estacionalidad semanal.\n",
        "\n",
        "**max_order = None:** Este argumento establece el orden máximo del modelo SARIMA. Al establecerlo en None, la función buscará automáticamente el orden máximo en función de los datos proporcionados.\n",
        "\n",
        "**max_p = 7, max_q = 7, max_d = 2, max_P = 4, max_Q = 4, max_D = 2:** Estos argumentos establecen los máximos órdenes de los componentes autoregresivos, de media móvil y de diferenciación para el modelo SARIMA. Son valores máximos posibles para la búsqueda automática de hiperparámetros.\n",
        "\n",
        "**maxiter = 50:** Este argumento establece el número máximo de iteraciones permitidas durante el proceso de búsqueda de hiperparámetros.\n",
        "\n",
        "**alpha = 0.05:** Este es el nivel de significancia utilizado para la prueba de Box-Jenkins.\n",
        "\n",
        "**n_jobs = -1:** Este argumento indica que se deben utilizar todos los núcleos disponibles en la búsqueda de hiperparámetros.\n",
        "\n",
        "**trend = 'ct':** Esto especifica que se debe incluir una tendencia constante y lineal en el modelo SARIMA.\n",
        "\n",
        "**information_criterion = 'oob':** Este argumento especifica el criterio de información utilizado para seleccionar el mejor modelo.\n",
        "\n",
        "**out_of_sample = int(len(df_comp) * 0.2):** Esto indica el número de observaciones fuera de la muestra que se deben utilizar para evaluar el modelo."
      ],
      "metadata": {
        "id": "dVhww1G1gH_8"
      }
    },
    {
      "cell_type": "code",
      "source": [
        "model_auto = auto_arima(df_comp.ret_ftse[1:], exogenous = df_comp[['ret_spx', 'ret_dax', 'ret_nikkei']][1:], m = 5,\n",
        "                       max_order = None, max_p = 7, max_q = 7, max_d = 2, max_P = 4, max_Q = 4, max_D = 2,\n",
        "                       maxiter = 50, alpha = 0.05, n_jobs = -1, trend = 'ct', information_criterion = 'oob',\n",
        "                       out_of_sample = int(len(df_comp)*0.2))\n",
        "\n",
        "\n",
        "# !!! Important Note: In pdmarima v1.5.2, out_of_sample_size is replaced with out_of_sample, so make sure to use the latter!\n",
        "\n",
        "\n",
        "# exogenous -> outside factors (e.g other time series)\n",
        "# m -> seasonal cycle length\n",
        "# max_order -> maximum amount of variables to be used in the regression (p + q)\n",
        "# max_p -> maximum AR components\n",
        "# max_q -> maximum MA components\n",
        "# max_d -> maximum Integrations\n",
        "# maxiter -> maximum iterations we're giving the model to converge the coefficients (becomes harder as the order increases)\n",
        "# alpha -> level of significance, default is 5%, which we should be using most of the time\n",
        "# n_jobs -> how many models to fit at a time (-1 indicates \"as many as possible\")\n",
        "# trend -> \"ct\" usually\n",
        "# information_criterion -> 'aic', 'aicc', 'bic', 'hqic', 'oob'\n",
        "#        (Akaike Information Criterion, Corrected Akaike Information Criterion,\n",
        "#        Bayesian Information Criterion, Hannan-Quinn Information Criterion, or\n",
        "#        \"out of bag\"--for validation scoring--respectively)\n",
        "# out_of_smaple -> validates the model selection (pass the entire dataset, and set 20% to be the out_of_sampl"
      ],
      "metadata": {
        "id": "MAg3u4kKWC1R"
      },
      "execution_count": 18,
      "outputs": []
    },
    {
      "cell_type": "markdown",
      "source": [
        "La función **model_auto.summary()** se utiliza para obtener un resumen detallado de un modelo ARIMA"
      ],
      "metadata": {
        "id": "kc83zZO_h3Sx"
      }
    },
    {
      "cell_type": "code",
      "source": [
        "model_auto.summary()"
      ],
      "metadata": {
        "colab": {
          "base_uri": "https://localhost:8080/",
          "height": 537
        },
        "id": "f-F_LFqfbsvi",
        "outputId": "8b22a8dd-52f2-4b02-ae2a-a1a3f32dd25f"
      },
      "execution_count": 19,
      "outputs": [
        {
          "output_type": "execute_result",
          "data": {
            "text/plain": [
              "<class 'statsmodels.iolib.summary.Summary'>\n",
              "\"\"\"\n",
              "                                      SARIMAX Results                                      \n",
              "===========================================================================================\n",
              "Dep. Variable:                                   y   No. Observations:                 6274\n",
              "Model:             SARIMAX(0, 0, 4)x(0, 0, [1], 5)   Log Likelihood               -9560.337\n",
              "Date:                             Fri, 13 Oct 2023   AIC                          19136.673\n",
              "Time:                                     19:05:46   BIC                          19190.627\n",
              "Sample:                                 01-11-1994   HQIC                         19155.368\n",
              "                                      - 01-26-2018                                         \n",
              "Covariance Type:                               opg                                         \n",
              "==============================================================================\n",
              "                 coef    std err          z      P>|z|      [0.025      0.975]\n",
              "------------------------------------------------------------------------------\n",
              "intercept      0.0246      0.028      0.884      0.377      -0.030       0.079\n",
              "drift      -2.025e-06   7.91e-06     -0.256      0.798   -1.75e-05    1.35e-05\n",
              "ma.L1         -0.0201      0.008     -2.496      0.013      -0.036      -0.004\n",
              "ma.L2         -0.0496      0.007     -6.925      0.000      -0.064      -0.036\n",
              "ma.L3         -0.0694      0.007     -9.724      0.000      -0.083      -0.055\n",
              "ma.L4          0.0333      0.008      4.385      0.000       0.018       0.048\n",
              "ma.S.L5       -0.0513      0.007     -7.261      0.000      -0.065      -0.037\n",
              "sigma2         1.2386      0.012    104.270      0.000       1.215       1.262\n",
              "===================================================================================\n",
              "Ljung-Box (L1) (Q):                   0.00   Jarque-Bera (JB):              8783.36\n",
              "Prob(Q):                              0.98   Prob(JB):                         0.00\n",
              "Heteroskedasticity (H):               0.86   Skew:                            -0.17\n",
              "Prob(H) (two-sided):                  0.00   Kurtosis:                         8.79\n",
              "===================================================================================\n",
              "\n",
              "Warnings:\n",
              "[1] Covariance matrix calculated using the outer product of gradients (complex-step).\n",
              "\"\"\""
            ],
            "text/html": [
              "<table class=\"simpletable\">\n",
              "<caption>SARIMAX Results</caption>\n",
              "<tr>\n",
              "  <th>Dep. Variable:</th>                  <td>y</td>                <th>  No. Observations:  </th>   <td>6274</td>   \n",
              "</tr>\n",
              "<tr>\n",
              "  <th>Model:</th>           <td>SARIMAX(0, 0, 4)x(0, 0, [1], 5)</td> <th>  Log Likelihood     </th> <td>-9560.337</td>\n",
              "</tr>\n",
              "<tr>\n",
              "  <th>Date:</th>                   <td>Fri, 13 Oct 2023</td>         <th>  AIC                </th> <td>19136.673</td>\n",
              "</tr>\n",
              "<tr>\n",
              "  <th>Time:</th>                       <td>19:05:46</td>             <th>  BIC                </th> <td>19190.627</td>\n",
              "</tr>\n",
              "<tr>\n",
              "  <th>Sample:</th>                    <td>01-11-1994</td>            <th>  HQIC               </th> <td>19155.368</td>\n",
              "</tr>\n",
              "<tr>\n",
              "  <th></th>                          <td>- 01-26-2018</td>           <th>                     </th>     <td> </td>    \n",
              "</tr>\n",
              "<tr>\n",
              "  <th>Covariance Type:</th>               <td>opg</td>               <th>                     </th>     <td> </td>    \n",
              "</tr>\n",
              "</table>\n",
              "<table class=\"simpletable\">\n",
              "<tr>\n",
              "      <td></td>         <th>coef</th>     <th>std err</th>      <th>z</th>      <th>P>|z|</th>  <th>[0.025</th>    <th>0.975]</th>  \n",
              "</tr>\n",
              "<tr>\n",
              "  <th>intercept</th> <td>    0.0246</td> <td>    0.028</td> <td>    0.884</td> <td> 0.377</td> <td>   -0.030</td> <td>    0.079</td>\n",
              "</tr>\n",
              "<tr>\n",
              "  <th>drift</th>     <td>-2.025e-06</td> <td> 7.91e-06</td> <td>   -0.256</td> <td> 0.798</td> <td>-1.75e-05</td> <td> 1.35e-05</td>\n",
              "</tr>\n",
              "<tr>\n",
              "  <th>ma.L1</th>     <td>   -0.0201</td> <td>    0.008</td> <td>   -2.496</td> <td> 0.013</td> <td>   -0.036</td> <td>   -0.004</td>\n",
              "</tr>\n",
              "<tr>\n",
              "  <th>ma.L2</th>     <td>   -0.0496</td> <td>    0.007</td> <td>   -6.925</td> <td> 0.000</td> <td>   -0.064</td> <td>   -0.036</td>\n",
              "</tr>\n",
              "<tr>\n",
              "  <th>ma.L3</th>     <td>   -0.0694</td> <td>    0.007</td> <td>   -9.724</td> <td> 0.000</td> <td>   -0.083</td> <td>   -0.055</td>\n",
              "</tr>\n",
              "<tr>\n",
              "  <th>ma.L4</th>     <td>    0.0333</td> <td>    0.008</td> <td>    4.385</td> <td> 0.000</td> <td>    0.018</td> <td>    0.048</td>\n",
              "</tr>\n",
              "<tr>\n",
              "  <th>ma.S.L5</th>   <td>   -0.0513</td> <td>    0.007</td> <td>   -7.261</td> <td> 0.000</td> <td>   -0.065</td> <td>   -0.037</td>\n",
              "</tr>\n",
              "<tr>\n",
              "  <th>sigma2</th>    <td>    1.2386</td> <td>    0.012</td> <td>  104.270</td> <td> 0.000</td> <td>    1.215</td> <td>    1.262</td>\n",
              "</tr>\n",
              "</table>\n",
              "<table class=\"simpletable\">\n",
              "<tr>\n",
              "  <th>Ljung-Box (L1) (Q):</th>     <td>0.00</td> <th>  Jarque-Bera (JB):  </th> <td>8783.36</td>\n",
              "</tr>\n",
              "<tr>\n",
              "  <th>Prob(Q):</th>                <td>0.98</td> <th>  Prob(JB):          </th>  <td>0.00</td>  \n",
              "</tr>\n",
              "<tr>\n",
              "  <th>Heteroskedasticity (H):</th> <td>0.86</td> <th>  Skew:              </th>  <td>-0.17</td> \n",
              "</tr>\n",
              "<tr>\n",
              "  <th>Prob(H) (two-sided):</th>    <td>0.00</td> <th>  Kurtosis:          </th>  <td>8.79</td>  \n",
              "</tr>\n",
              "</table><br/><br/>Warnings:<br/>[1] Covariance matrix calculated using the outer product of gradients (complex-step)."
            ],
            "text/latex": "\\begin{center}\n\\begin{tabular}{lclc}\n\\toprule\n\\textbf{Dep. Variable:}          &                y                & \\textbf{  No. Observations:  } &    6274     \\\\\n\\textbf{Model:}                  & SARIMAX(0, 0, 4)x(0, 0, [1], 5) & \\textbf{  Log Likelihood     } & -9560.337   \\\\\n\\textbf{Date:}                   &         Fri, 13 Oct 2023        & \\textbf{  AIC                } & 19136.673   \\\\\n\\textbf{Time:}                   &             19:05:46            & \\textbf{  BIC                } & 19190.627   \\\\\n\\textbf{Sample:}                 &            01-11-1994           & \\textbf{  HQIC               } & 19155.368   \\\\\n\\textbf{}                        &           - 01-26-2018          & \\textbf{                     } &             \\\\\n\\textbf{Covariance Type:}        &               opg               & \\textbf{                     } &             \\\\\n\\bottomrule\n\\end{tabular}\n\\begin{tabular}{lcccccc}\n                   & \\textbf{coef} & \\textbf{std err} & \\textbf{z} & \\textbf{P$> |$z$|$} & \\textbf{[0.025} & \\textbf{0.975]}  \\\\\n\\midrule\n\\textbf{intercept} &       0.0246  &        0.028     &     0.884  &         0.377        &       -0.030    &        0.079     \\\\\n\\textbf{drift}     &   -2.025e-06  &     7.91e-06     &    -0.256  &         0.798        &    -1.75e-05    &     1.35e-05     \\\\\n\\textbf{ma.L1}     &      -0.0201  &        0.008     &    -2.496  &         0.013        &       -0.036    &       -0.004     \\\\\n\\textbf{ma.L2}     &      -0.0496  &        0.007     &    -6.925  &         0.000        &       -0.064    &       -0.036     \\\\\n\\textbf{ma.L3}     &      -0.0694  &        0.007     &    -9.724  &         0.000        &       -0.083    &       -0.055     \\\\\n\\textbf{ma.L4}     &       0.0333  &        0.008     &     4.385  &         0.000        &        0.018    &        0.048     \\\\\n\\textbf{ma.S.L5}   &      -0.0513  &        0.007     &    -7.261  &         0.000        &       -0.065    &       -0.037     \\\\\n\\textbf{sigma2}    &       1.2386  &        0.012     &   104.270  &         0.000        &        1.215    &        1.262     \\\\\n\\bottomrule\n\\end{tabular}\n\\begin{tabular}{lclc}\n\\textbf{Ljung-Box (L1) (Q):}     & 0.00 & \\textbf{  Jarque-Bera (JB):  } & 8783.36  \\\\\n\\textbf{Prob(Q):}                & 0.98 & \\textbf{  Prob(JB):          } &   0.00   \\\\\n\\textbf{Heteroskedasticity (H):} & 0.86 & \\textbf{  Skew:              } &  -0.17   \\\\\n\\textbf{Prob(H) (two-sided):}    & 0.00 & \\textbf{  Kurtosis:          } &   8.79   \\\\\n\\bottomrule\n\\end{tabular}\n%\\caption{SARIMAX Results}\n\\end{center}\n\nWarnings: \\newline\n [1] Covariance matrix calculated using the outer product of gradients (complex-step)."
          },
          "metadata": {},
          "execution_count": 19
        }
      ]
    }
  ]
}