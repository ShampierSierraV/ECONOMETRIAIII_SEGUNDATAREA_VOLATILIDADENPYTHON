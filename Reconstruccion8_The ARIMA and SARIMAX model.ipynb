{
 "cells": [
  {
   "cell_type": "markdown",
   "metadata": {},
   "source": [
    "## Importing the relevant packages"
   ]
  },
  {
   "cell_type": "code",
   "execution_count": 11,
   "metadata": {},
   "outputs": [],
   "source": [
    "# Importar la biblioteca pandas con el alias 'pd' para el manejo de datos\n",
    "import pandas as pd\n",
    "# Importar la biblioteca numpy con el alias 'np' para operaciones numéricas\n",
    "import numpy as np\n",
    "# Importar la biblioteca matplotlib.pyplot con el alias 'plt' para la visualización de gráficos\n",
    "import matplotlib.pyplot as plt\n",
    "# Importar submódulos específicos de la biblioteca statsmodels relacionados con análisis de series temporales\n",
    "import statsmodels.graphics.tsaplots as sgt\n",
    "import statsmodels.tsa.stattools as sts\n",
    "# Importar la clase ARIMA del submódulo 'arima_model' de la biblioteca statsmodels\n",
    "from statsmodels.tsa.arima_model import ARIMA\n",
    "# Importar la distribución chi-cuadrado desde scipy.stats.distributions\n",
    "from scipy.stats.distributions import chi2 \n",
    "# Importar la función sqrt (raíz cuadrada) desde la biblioteca math\n",
    "from math import sqrt\n",
    "# Importar la biblioteca seaborn con el alias 'sns' para mejorar la apariencia de gráficos\n",
    "import seaborn as sns\n",
    "# Configurar la configuración de estilo y apariencia predeterminada de seaborn\n",
    "sns.set()"
   ]
  },
  {
   "cell_type": "markdown",
   "metadata": {},
   "source": [
    " "
   ]
  },
  {
   "cell_type": "markdown",
   "metadata": {},
   "source": [
    "## Importing the Data and Pre-processing "
   ]
  },
  {
   "cell_type": "code",
   "execution_count": 12,
   "metadata": {},
   "outputs": [],
   "source": [
    "# Cargar datos desde un archivo CSV\n",
    "raw_csv_data = pd.read_csv(\"df_comp.csv\") \n",
    "# Crear una copia del DataFrame para el procesamiento\n",
    "df_comp=raw_csv_data.copy()\n",
    "# Convertir la columna 'date' a formato de fecha y corregir errores si los hay\n",
    "df_comp.date = pd.to_datetime(df_comp.date, dayfirst = True,errors='coerce')\n",
    "# Establecer la columna 'date' como el índice del DataFrame\n",
    "df_comp.set_index(['date'], inplace=True)\n",
    "# Eliminar duplicados en el índice, manteniendo solo la primera ocurrencia\n",
    "df_comp = df_comp[~df_comp.index.duplicated(keep='first')]\n",
    "# Reorganizar los datos para que tengan una frecuencia comercial ('b' representa días hábiles)\n",
    "df_comp=df_comp.asfreq('b')\n",
    "# Rellenar los valores faltantes hacia adelante usando el último valor conocido\n",
    "df_comp=df_comp.fillna(method='ffill')"
   ]
  },
  {
   "cell_type": "code",
   "execution_count": 13,
   "metadata": {},
   "outputs": [],
   "source": [
    "# Crear una nueva columna 'market_value' en el DataFrame 'df_comp' y copiar los valores de la columna 'ftse' en ella\n",
    "df_comp['market_value']=df_comp.ftse"
   ]
  },
  {
   "cell_type": "code",
   "execution_count": 14,
   "metadata": {},
   "outputs": [],
   "source": [
    "# Suprimir advertencias para mejorar la limpieza de la salida en la consola\n",
    "import warnings\n",
    "warnings.filterwarnings(\"ignore\")"
   ]
  },
  {
   "cell_type": "code",
   "execution_count": 15,
   "metadata": {},
   "outputs": [],
   "source": [
    "#del df_comp['spx']\n",
    "#del df_comp['dax']\n",
    "#del df_comp['ftse']\n",
    "#del df_comp['nikkei']\n",
    "# Dividir el DataFrame en conjuntos de entrenamiento y prueba\n",
    "size = int(len(df_comp)*0.8)# Tamaño del conjunto de entrenamiento (80% de los datos)\n",
    "df, df_test = df_comp.iloc[:size], df_comp.iloc[size:]"
   ]
  },
  {
   "cell_type": "markdown",
   "metadata": {},
   "source": [
    " "
   ]
  },
  {
   "cell_type": "markdown",
   "metadata": {},
   "source": [
    "## The LLR Test"
   ]
  },
  {
   "cell_type": "code",
   "execution_count": 16,
   "metadata": {},
   "outputs": [],
   "source": [
    "\n",
    "# Función para realizar una prueba de razón de verosimilitud (LLR)\n",
    "# entre dos modelos, mod_1 y mod_2, con un grado de libertad (DF) predeterminado de 1.\n",
    "# La función calcula el estadístico de prueba LR y devuelve el valor p correspondiente.\n",
    "\n",
    "def LLR_test(mod_1, mod_2, DF = 1):\n",
    "    L1 = mod_1.llf # Log-verosimilitud del primer modelo\n",
    "    L2 = mod_2.llf # Log-verosimilitud del segundo modelo\n",
    "    LR = (2*(L2-L1)) # Estadístico de prueba LR    \n",
    "    p = chi2.sf(LR, DF).round(3) # Valor p calculado a partir de la distribución chi-cuadrado\n",
    "    return p"
   ]
  },
  {
   "cell_type": "markdown",
   "metadata": {},
   "source": [
    "## Creating Returns"
   ]
  },
  {
   "cell_type": "code",
   "execution_count": 17,
   "metadata": {
    "scrolled": true
   },
   "outputs": [],
   "source": [
    "# Esta línea de código calcula el retorno diario de un activo financiero a partir de su serie de precios de mercado y lo almacena en una nueva columna 'returns'.\n",
    "# Útil para el análisis financiero y económico, ya que los retornos diarios son una medida importante para evaluar el rendimiento y la volatilidad de los activos financieros.\n",
    "\n",
    "df['returns'] = df.market_value.pct_change(1)*100"
   ]
  },
  {
   "cell_type": "markdown",
   "metadata": {},
   "source": [
    "## ARIMA(1,1,1)"
   ]
  },
  {
   "cell_type": "code",
   "execution_count": 18,
   "metadata": {},
   "outputs": [
    {
     "data": {
      "text/html": [
       "<table class=\"simpletable\">\n",
       "<caption>SARIMAX Results</caption>\n",
       "<tr>\n",
       "  <th>Dep. Variable:</th>     <td>market_value</td>   <th>  No. Observations:  </th>   <td>1199</td>   \n",
       "</tr>\n",
       "<tr>\n",
       "  <th>Model:</th>            <td>ARIMA(1, 1, 1)</td>  <th>  Log Likelihood     </th> <td>-8065.140</td>\n",
       "</tr>\n",
       "<tr>\n",
       "  <th>Date:</th>            <td>Fri, 13 Oct 2023</td> <th>  AIC                </th> <td>16136.280</td>\n",
       "</tr>\n",
       "<tr>\n",
       "  <th>Time:</th>                <td>15:10:55</td>     <th>  BIC                </th> <td>16151.546</td>\n",
       "</tr>\n",
       "<tr>\n",
       "  <th>Sample:</th>             <td>03-12-2018</td>    <th>  HQIC               </th> <td>16142.031</td>\n",
       "</tr>\n",
       "<tr>\n",
       "  <th></th>                   <td>- 10-13-2022</td>   <th>                     </th>     <td> </td>    \n",
       "</tr>\n",
       "<tr>\n",
       "  <th>Covariance Type:</th>        <td>opg</td>       <th>                     </th>     <td> </td>    \n",
       "</tr>\n",
       "</table>\n",
       "<table class=\"simpletable\">\n",
       "<tr>\n",
       "     <td></td>       <th>coef</th>     <th>std err</th>      <th>z</th>      <th>P>|z|</th>  <th>[0.025</th>    <th>0.975]</th>  \n",
       "</tr>\n",
       "<tr>\n",
       "  <th>ar.L1</th>  <td>    0.6493</td> <td>    0.019</td> <td>   34.607</td> <td> 0.000</td> <td>    0.613</td> <td>    0.686</td>\n",
       "</tr>\n",
       "<tr>\n",
       "  <th>ma.L1</th>  <td>   -0.9256</td> <td>    0.011</td> <td>  -84.084</td> <td> 0.000</td> <td>   -0.947</td> <td>   -0.904</td>\n",
       "</tr>\n",
       "<tr>\n",
       "  <th>sigma2</th> <td> 4.117e+04</td> <td>  547.728</td> <td>   75.169</td> <td> 0.000</td> <td> 4.01e+04</td> <td> 4.22e+04</td>\n",
       "</tr>\n",
       "</table>\n",
       "<table class=\"simpletable\">\n",
       "<tr>\n",
       "  <th>Ljung-Box (L1) (Q):</th>     <td>1.59</td> <th>  Jarque-Bera (JB):  </th> <td>34007.98</td>\n",
       "</tr>\n",
       "<tr>\n",
       "  <th>Prob(Q):</th>                <td>0.21</td> <th>  Prob(JB):          </th>   <td>0.00</td>  \n",
       "</tr>\n",
       "<tr>\n",
       "  <th>Heteroskedasticity (H):</th> <td>2.08</td> <th>  Skew:              </th>   <td>-0.45</td> \n",
       "</tr>\n",
       "<tr>\n",
       "  <th>Prob(H) (two-sided):</th>    <td>0.00</td> <th>  Kurtosis:          </th>   <td>29.09</td> \n",
       "</tr>\n",
       "</table><br/><br/>Warnings:<br/>[1] Covariance matrix calculated using the outer product of gradients (complex-step)."
      ],
      "text/latex": [
       "\\begin{center}\n",
       "\\begin{tabular}{lclc}\n",
       "\\toprule\n",
       "\\textbf{Dep. Variable:}          &  market\\_value   & \\textbf{  No. Observations:  } &    1199     \\\\\n",
       "\\textbf{Model:}                  &  ARIMA(1, 1, 1)  & \\textbf{  Log Likelihood     } & -8065.140   \\\\\n",
       "\\textbf{Date:}                   & Fri, 13 Oct 2023 & \\textbf{  AIC                } & 16136.280   \\\\\n",
       "\\textbf{Time:}                   &     15:10:55     & \\textbf{  BIC                } & 16151.546   \\\\\n",
       "\\textbf{Sample:}                 &    03-12-2018    & \\textbf{  HQIC               } & 16142.031   \\\\\n",
       "\\textbf{}                        &   - 10-13-2022   & \\textbf{                     } &             \\\\\n",
       "\\textbf{Covariance Type:}        &       opg        & \\textbf{                     } &             \\\\\n",
       "\\bottomrule\n",
       "\\end{tabular}\n",
       "\\begin{tabular}{lcccccc}\n",
       "                & \\textbf{coef} & \\textbf{std err} & \\textbf{z} & \\textbf{P$> |$z$|$} & \\textbf{[0.025} & \\textbf{0.975]}  \\\\\n",
       "\\midrule\n",
       "\\textbf{ar.L1}  &       0.6493  &        0.019     &    34.607  &         0.000        &        0.613    &        0.686     \\\\\n",
       "\\textbf{ma.L1}  &      -0.9256  &        0.011     &   -84.084  &         0.000        &       -0.947    &       -0.904     \\\\\n",
       "\\textbf{sigma2} &    4.117e+04  &      547.728     &    75.169  &         0.000        &     4.01e+04    &     4.22e+04     \\\\\n",
       "\\bottomrule\n",
       "\\end{tabular}\n",
       "\\begin{tabular}{lclc}\n",
       "\\textbf{Ljung-Box (L1) (Q):}     & 1.59 & \\textbf{  Jarque-Bera (JB):  } & 34007.98  \\\\\n",
       "\\textbf{Prob(Q):}                & 0.21 & \\textbf{  Prob(JB):          } &   0.00    \\\\\n",
       "\\textbf{Heteroskedasticity (H):} & 2.08 & \\textbf{  Skew:              } &  -0.45    \\\\\n",
       "\\textbf{Prob(H) (two-sided):}    & 0.00 & \\textbf{  Kurtosis:          } &  29.09    \\\\\n",
       "\\bottomrule\n",
       "\\end{tabular}\n",
       "%\\caption{SARIMAX Results}\n",
       "\\end{center}\n",
       "\n",
       "Warnings: \\newline\n",
       " [1] Covariance matrix calculated using the outer product of gradients (complex-step)."
      ],
      "text/plain": [
       "<class 'statsmodels.iolib.summary.Summary'>\n",
       "\"\"\"\n",
       "                               SARIMAX Results                                \n",
       "==============================================================================\n",
       "Dep. Variable:           market_value   No. Observations:                 1199\n",
       "Model:                 ARIMA(1, 1, 1)   Log Likelihood               -8065.140\n",
       "Date:                Fri, 13 Oct 2023   AIC                          16136.280\n",
       "Time:                        15:10:55   BIC                          16151.546\n",
       "Sample:                    03-12-2018   HQIC                         16142.031\n",
       "                         - 10-13-2022                                         \n",
       "Covariance Type:                  opg                                         \n",
       "==============================================================================\n",
       "                 coef    std err          z      P>|z|      [0.025      0.975]\n",
       "------------------------------------------------------------------------------\n",
       "ar.L1          0.6493      0.019     34.607      0.000       0.613       0.686\n",
       "ma.L1         -0.9256      0.011    -84.084      0.000      -0.947      -0.904\n",
       "sigma2      4.117e+04    547.728     75.169      0.000    4.01e+04    4.22e+04\n",
       "===================================================================================\n",
       "Ljung-Box (L1) (Q):                   1.59   Jarque-Bera (JB):             34007.98\n",
       "Prob(Q):                              0.21   Prob(JB):                         0.00\n",
       "Heteroskedasticity (H):               2.08   Skew:                            -0.45\n",
       "Prob(H) (two-sided):                  0.00   Kurtosis:                        29.09\n",
       "===================================================================================\n",
       "\n",
       "Warnings:\n",
       "[1] Covariance matrix calculated using the outer product of gradients (complex-step).\n",
       "\"\"\""
      ]
     },
     "execution_count": 18,
     "metadata": {},
     "output_type": "execute_result"
    }
   ],
   "source": [
    "# Importación de la clase ARIMA del módulo statsmodels.tsa.arima.model\n",
    "from statsmodels.tsa.arima.model import ARIMA\n",
    "\n",
    "# Crear un modelo ARIMA(1,1,1) utilizando la serie temporal 'df.market_value'\n",
    "model_ar_1_i_1_ma_1 = ARIMA(df.market_value, order=(1,1,1))\n",
    "# Ajustar el modelo ARIMA al conjunto de datos y guardar los resultados\n",
    "results_ar_1_i_1_ma_1 = model_ar_1_i_1_ma_1.fit()\n",
    "\n",
    "# Muestro un resumen de los resultados\n",
    "results_ar_1_i_1_ma_1.summary()"
   ]
  },
  {
   "cell_type": "markdown",
   "metadata": {},
   "source": [
    "## Residuals of the ARIMA(1,1,1)"
   ]
  },
  {
   "cell_type": "code",
   "execution_count": 19,
   "metadata": {},
   "outputs": [
    {
     "data": {
      "image/png": "[encoded data removed]",
      "text/plain": [
       "<Figure size 640x480 with 1 Axes>"
      ]
     },
     "metadata": {},
     "output_type": "display_data"
    }
   ],
   "source": [
    "#Se crea una nueva columna llamada 'res_ar_1_i_1_ma_1' en el DataFrame, a partir de los residuos del modelo ARIMA (1,1,1)\n",
    "df['res_ar_1_i_1_ma_1'] = results_ar_1_i_1_ma_1.resid\n",
    "#Se crea el gráfico de la función de autocorrelación (ACF) de los residuos del modelo ARIMA\n",
    "sgt.plot_acf(df.res_ar_1_i_1_ma_1, zero = False, lags = 40)\n",
    "#Este comando se utiliza para establecer el título del gráfico\n",
    "plt.title(\"ACF Of Residuals for ARIMA(1,1,1)\",size=20)\n",
    "#Muestra el gráfico ACF\n",
    "plt.show()"
   ]
  },
  {
   "cell_type": "code",
   "execution_count": 20,
   "metadata": {},
   "outputs": [
    {
     "data": {
      "image/png": "[encoded data removed]",
      "text/plain": [
       "<Figure size 640x480 with 1 Axes>"
      ]
     },
     "metadata": {},
     "output_type": "display_data"
    }
   ],
   "source": [
    "#Se crea una nueva columna llamada 'res_ar_1_i_1_ma_1' en el DataFrame, a partir de los residuos del modelo ARIMA (1,1,1), por último se copia todos los valores de los residuos en la nueva columna\n",
    "df['res_ar_1_i_1_ma_1'] = results_ar_1_i_1_ma_1.resid.iloc[:]\n",
    "#Se crea el gráfico de la función de autocorrelación (ACF) de los residuos del modelo ARIMA\n",
    "sgt.plot_acf(df.res_ar_1_i_1_ma_1[1:], zero = False, lags = 40)\n",
    "#Este comando se utiliza para establecer el título del gráfic\n",
    "plt.title(\"ACF Of Residuals for ARIMA(1,1,1)\",size=20)\n",
    "#Muestra el gráfico ACF\n",
    "plt.show()"
   ]
  },
  {
   "cell_type": "markdown",
   "metadata": {},
   "source": [
    "## Higher-Lag ARIMA Models"
   ]
  },
  {
   "cell_type": "code",
   "execution_count": 21,
   "metadata": {},
   "outputs": [],
   "source": [
    "#Se ajusta a un modelo ARIMA(1,1,2):\n",
    "model_ar_1_i_1_ma_2 = ARIMA(df.market_value, order=(1,1,2))\n",
    "results_ar_1_i_1_ma_2 = model_ar_1_i_1_ma_2.fit()\n",
    "#Se ajusta a un modelo ARIMA(1,1,3):\n",
    "model_ar_1_i_1_ma_3 = ARIMA(df.market_value, order=(1,1,3))\n",
    "results_ar_1_i_1_ma_3 = model_ar_1_i_1_ma_3.fit()\n",
    "#Se ajusta a un modelo ARIMA(2,1,1):\n",
    "model_ar_2_i_1_ma_1 = ARIMA(df.market_value, order=(2,1,1))\n",
    "results_ar_2_i_1_ma_1 = model_ar_2_i_1_ma_1.fit()\n",
    "#Se ajusta a un modelo ARIMA(3,1,1):\n",
    "model_ar_3_i_1_ma_1 = ARIMA(df.market_value, order=(3,1,1))\n",
    "results_ar_3_i_1_ma_1 = model_ar_3_i_1_ma_1.fit()\n",
    "#Se ajusta a un modelo ARIMA(3,1,2):\n",
    "model_ar_3_i_1_ma_2 = ARIMA(df.market_value, order=(3,1,2))\n",
    "results_ar_3_i_1_ma_2 = model_ar_3_i_1_ma_2.fit(start_params=[0, 0, 0, 0, 0, 0])\n"
   ]
  },
  {
   "cell_type": "code",
   "execution_count": 22,
   "metadata": {},
   "outputs": [
    {
     "name": "stdout",
     "output_type": "stream",
     "text": [
      "ARIMA(1,1,1):  \t LL =  -8065.14022404698 \t AIC =  16136.28044809396\n",
      "ARIMA(1,1,2):  \t LL =  -8062.236115887372 \t AIC =  16132.472231774744\n",
      "ARIMA(1,1,3):  \t LL =  -8061.597837217676 \t AIC =  16133.195674435352\n",
      "ARIMA(2,1,1):  \t LL =  -8062.571828187791 \t AIC =  16133.143656375581\n",
      "ARIMA(3,1,1):  \t LL =  -8061.28130756905 \t AIC =  16132.5626151381\n",
      "ARIMA(3,1,2):  \t LL =  0.0 \t AIC =  12.0\n"
     ]
    }
   ],
   "source": [
    "#Los siguientes códigos sirven para mostrar las métricas de evaluación de los modelos ARIMA en fucnión de la verosimilitud (LL) y el criterio Akaike (AIC)\n",
    "print(\"ARIMA(1,1,1):  \\t LL = \", results_ar_1_i_1_ma_1.llf, \"\\t AIC = \", results_ar_1_i_1_ma_1.aic)\n",
    "print(\"ARIMA(1,1,2):  \\t LL = \", results_ar_1_i_1_ma_2.llf, \"\\t AIC = \", results_ar_1_i_1_ma_2.aic)\n",
    "print(\"ARIMA(1,1,3):  \\t LL = \", results_ar_1_i_1_ma_3.llf, \"\\t AIC = \", results_ar_1_i_1_ma_3.aic)\n",
    "print(\"ARIMA(2,1,1):  \\t LL = \", results_ar_2_i_1_ma_1.llf, \"\\t AIC = \", results_ar_2_i_1_ma_1.aic)\n",
    "print(\"ARIMA(3,1,1):  \\t LL = \", results_ar_3_i_1_ma_1.llf, \"\\t AIC = \", results_ar_3_i_1_ma_1.aic)\n",
    "print(\"ARIMA(3,1,2):  \\t LL = \", results_ar_3_i_1_ma_2.llf, \"\\t AIC = \", results_ar_3_i_1_ma_2.aic)"
   ]
  },
  {
   "cell_type": "code",
   "execution_count": 23,
   "metadata": {},
   "outputs": [
    {
     "name": "stdout",
     "output_type": "stream",
     "text": [
      "\n",
      "LLR test p-value = 0.259\n"
     ]
    }
   ],
   "source": [
    "#Este código nos ayuda a realizar una prueba de razón de verosimilitud (LLR) entre dos modelos ARIMA y luego mostrar el p-value.\n",
    "print(\"\\nLLR test p-value = \" + str(LLR_test(results_ar_1_i_1_ma_2, results_ar_1_i_1_ma_3)))"
   ]
  },
  {
   "cell_type": "code",
   "execution_count": 24,
   "metadata": {},
   "outputs": [
    {
     "name": "stdout",
     "output_type": "stream",
     "text": [
      "\n",
      "LLR test p-value = 0.029\n"
     ]
    }
   ],
   "source": [
    "##Este código nos ayuda a realizar una prueba de razón de verosimilitud (LLR) entre dos modelos ARIMA con un grado de libertad especificado (DF = 2) y muestra el p-value.\n",
    "print(\"\\nLLR test p-value = \" + str(LLR_test(results_ar_1_i_1_ma_1, results_ar_1_i_1_ma_3, DF = 2)))"
   ]
  },
  {
   "cell_type": "code",
   "execution_count": 25,
   "metadata": {},
   "outputs": [
    {
     "data": {
      "image/png": "[encoded data removed]",
      "text/plain": [
       "<Figure size 640x480 with 1 Axes>"
      ]
     },
     "metadata": {},
     "output_type": "display_data"
    }
   ],
   "source": [
    "# Calcular los residuos del modelo ARIMA(1,1,3) y almacenarlos en 'df['res_ar_1_i_1_ma_3']'\n",
    "df['res_ar_1_i_1_ma_3'] = results_ar_1_i_1_ma_3.resid\n",
    "# Generar y mostrar el gráfico de la función de autocorrelación (ACF) de los residuos\n",
    "sgt.plot_acf(df.res_ar_1_i_1_ma_3[1:], zero = False, lags = 40)\n",
    "# Establecer un título para el gráfico\n",
    "plt.title(\"ACF Of Residuals for ARIMA(1,1,3)\", size=20)\n",
    "# Mostrar el gráfico\n",
    "plt.show()"
   ]
  },
  {
   "cell_type": "code",
   "execution_count": 26,
   "metadata": {},
   "outputs": [],
   "source": [
    "# Definir y ajustar un modelo ARIMA(5,1,1) a la serie temporal de los valores de mercado\n",
    "model_ar_5_i_1_ma_1 = ARIMA(df.market_value, order=(5, 1, 1))\n",
    "results_ar_5_i_1_ma_1 = model_ar_5_i_1_ma_1.fit()\n",
    "# Definir y ajustar un modelo ARIMA(6,1,3) a la serie temporal de los valores de mercado\n",
    "model_ar_6_i_1_ma_3 = ARIMA(df.market_value, order=(6, 1, 3))\n",
    "results_ar_6_i_1_ma_3 = model_ar_6_i_1_ma_3.fit()\n"
   ]
  },
  {
   "cell_type": "code",
   "execution_count": 27,
   "metadata": {},
   "outputs": [
    {
     "data": {
      "text/html": [
       "<table class=\"simpletable\">\n",
       "<caption>SARIMAX Results</caption>\n",
       "<tr>\n",
       "  <th>Dep. Variable:</th>     <td>market_value</td>   <th>  No. Observations:  </th>   <td>1199</td>   \n",
       "</tr>\n",
       "<tr>\n",
       "  <th>Model:</th>            <td>ARIMA(5, 1, 1)</td>  <th>  Log Likelihood     </th> <td>-8059.052</td>\n",
       "</tr>\n",
       "<tr>\n",
       "  <th>Date:</th>            <td>Fri, 13 Oct 2023</td> <th>  AIC                </th> <td>16132.104</td>\n",
       "</tr>\n",
       "<tr>\n",
       "  <th>Time:</th>                <td>15:11:08</td>     <th>  BIC                </th> <td>16167.723</td>\n",
       "</tr>\n",
       "<tr>\n",
       "  <th>Sample:</th>             <td>03-12-2018</td>    <th>  HQIC               </th> <td>16145.523</td>\n",
       "</tr>\n",
       "<tr>\n",
       "  <th></th>                   <td>- 10-13-2022</td>   <th>                     </th>     <td> </td>    \n",
       "</tr>\n",
       "<tr>\n",
       "  <th>Covariance Type:</th>        <td>opg</td>       <th>                     </th>     <td> </td>    \n",
       "</tr>\n",
       "</table>\n",
       "<table class=\"simpletable\">\n",
       "<tr>\n",
       "     <td></td>       <th>coef</th>     <th>std err</th>      <th>z</th>      <th>P>|z|</th>  <th>[0.025</th>    <th>0.975]</th>  \n",
       "</tr>\n",
       "<tr>\n",
       "  <th>ar.L1</th>  <td>    0.7038</td> <td>    0.021</td> <td>   34.110</td> <td> 0.000</td> <td>    0.663</td> <td>    0.744</td>\n",
       "</tr>\n",
       "<tr>\n",
       "  <th>ar.L2</th>  <td>   -0.0852</td> <td>    0.019</td> <td>   -4.483</td> <td> 0.000</td> <td>   -0.122</td> <td>   -0.048</td>\n",
       "</tr>\n",
       "<tr>\n",
       "  <th>ar.L3</th>  <td>    0.0236</td> <td>    0.020</td> <td>    1.160</td> <td> 0.246</td> <td>   -0.016</td> <td>    0.063</td>\n",
       "</tr>\n",
       "<tr>\n",
       "  <th>ar.L4</th>  <td>    0.0641</td> <td>    0.020</td> <td>    3.140</td> <td> 0.002</td> <td>    0.024</td> <td>    0.104</td>\n",
       "</tr>\n",
       "<tr>\n",
       "  <th>ar.L5</th>  <td>    0.0040</td> <td>    0.027</td> <td>    0.149</td> <td> 0.881</td> <td>   -0.048</td> <td>    0.056</td>\n",
       "</tr>\n",
       "<tr>\n",
       "  <th>ma.L1</th>  <td>   -0.9437</td> <td>    0.014</td> <td>  -66.152</td> <td> 0.000</td> <td>   -0.972</td> <td>   -0.916</td>\n",
       "</tr>\n",
       "<tr>\n",
       "  <th>sigma2</th> <td> 4.076e+04</td> <td>  547.791</td> <td>   74.400</td> <td> 0.000</td> <td> 3.97e+04</td> <td> 4.18e+04</td>\n",
       "</tr>\n",
       "</table>\n",
       "<table class=\"simpletable\">\n",
       "<tr>\n",
       "  <th>Ljung-Box (L1) (Q):</th>     <td>0.00</td> <th>  Jarque-Bera (JB):  </th> <td>35999.74</td>\n",
       "</tr>\n",
       "<tr>\n",
       "  <th>Prob(Q):</th>                <td>0.99</td> <th>  Prob(JB):          </th>   <td>0.00</td>  \n",
       "</tr>\n",
       "<tr>\n",
       "  <th>Heteroskedasticity (H):</th> <td>1.98</td> <th>  Skew:              </th>   <td>-0.50</td> \n",
       "</tr>\n",
       "<tr>\n",
       "  <th>Prob(H) (two-sided):</th>    <td>0.00</td> <th>  Kurtosis:          </th>   <td>29.84</td> \n",
       "</tr>\n",
       "</table><br/><br/>Warnings:<br/>[1] Covariance matrix calculated using the outer product of gradients (complex-step)."
      ],
      "text/latex": [
       "\\begin{center}\n",
       "\\begin{tabular}{lclc}\n",
       "\\toprule\n",
       "\\textbf{Dep. Variable:}          &  market\\_value   & \\textbf{  No. Observations:  } &    1199     \\\\\n",
       "\\textbf{Model:}                  &  ARIMA(5, 1, 1)  & \\textbf{  Log Likelihood     } & -8059.052   \\\\\n",
       "\\textbf{Date:}                   & Fri, 13 Oct 2023 & \\textbf{  AIC                } & 16132.104   \\\\\n",
       "\\textbf{Time:}                   &     15:11:08     & \\textbf{  BIC                } & 16167.723   \\\\\n",
       "\\textbf{Sample:}                 &    03-12-2018    & \\textbf{  HQIC               } & 16145.523   \\\\\n",
       "\\textbf{}                        &   - 10-13-2022   & \\textbf{                     } &             \\\\\n",
       "\\textbf{Covariance Type:}        &       opg        & \\textbf{                     } &             \\\\\n",
       "\\bottomrule\n",
       "\\end{tabular}\n",
       "\\begin{tabular}{lcccccc}\n",
       "                & \\textbf{coef} & \\textbf{std err} & \\textbf{z} & \\textbf{P$> |$z$|$} & \\textbf{[0.025} & \\textbf{0.975]}  \\\\\n",
       "\\midrule\n",
       "\\textbf{ar.L1}  &       0.7038  &        0.021     &    34.110  &         0.000        &        0.663    &        0.744     \\\\\n",
       "\\textbf{ar.L2}  &      -0.0852  &        0.019     &    -4.483  &         0.000        &       -0.122    &       -0.048     \\\\\n",
       "\\textbf{ar.L3}  &       0.0236  &        0.020     &     1.160  &         0.246        &       -0.016    &        0.063     \\\\\n",
       "\\textbf{ar.L4}  &       0.0641  &        0.020     &     3.140  &         0.002        &        0.024    &        0.104     \\\\\n",
       "\\textbf{ar.L5}  &       0.0040  &        0.027     &     0.149  &         0.881        &       -0.048    &        0.056     \\\\\n",
       "\\textbf{ma.L1}  &      -0.9437  &        0.014     &   -66.152  &         0.000        &       -0.972    &       -0.916     \\\\\n",
       "\\textbf{sigma2} &    4.076e+04  &      547.791     &    74.400  &         0.000        &     3.97e+04    &     4.18e+04     \\\\\n",
       "\\bottomrule\n",
       "\\end{tabular}\n",
       "\\begin{tabular}{lclc}\n",
       "\\textbf{Ljung-Box (L1) (Q):}     & 0.00 & \\textbf{  Jarque-Bera (JB):  } & 35999.74  \\\\\n",
       "\\textbf{Prob(Q):}                & 0.99 & \\textbf{  Prob(JB):          } &   0.00    \\\\\n",
       "\\textbf{Heteroskedasticity (H):} & 1.98 & \\textbf{  Skew:              } &  -0.50    \\\\\n",
       "\\textbf{Prob(H) (two-sided):}    & 0.00 & \\textbf{  Kurtosis:          } &  29.84    \\\\\n",
       "\\bottomrule\n",
       "\\end{tabular}\n",
       "%\\caption{SARIMAX Results}\n",
       "\\end{center}\n",
       "\n",
       "Warnings: \\newline\n",
       " [1] Covariance matrix calculated using the outer product of gradients (complex-step)."
      ],
      "text/plain": [
       "<class 'statsmodels.iolib.summary.Summary'>\n",
       "\"\"\"\n",
       "                               SARIMAX Results                                \n",
       "==============================================================================\n",
       "Dep. Variable:           market_value   No. Observations:                 1199\n",
       "Model:                 ARIMA(5, 1, 1)   Log Likelihood               -8059.052\n",
       "Date:                Fri, 13 Oct 2023   AIC                          16132.104\n",
       "Time:                        15:11:08   BIC                          16167.723\n",
       "Sample:                    03-12-2018   HQIC                         16145.523\n",
       "                         - 10-13-2022                                         \n",
       "Covariance Type:                  opg                                         \n",
       "==============================================================================\n",
       "                 coef    std err          z      P>|z|      [0.025      0.975]\n",
       "------------------------------------------------------------------------------\n",
       "ar.L1          0.7038      0.021     34.110      0.000       0.663       0.744\n",
       "ar.L2         -0.0852      0.019     -4.483      0.000      -0.122      -0.048\n",
       "ar.L3          0.0236      0.020      1.160      0.246      -0.016       0.063\n",
       "ar.L4          0.0641      0.020      3.140      0.002       0.024       0.104\n",
       "ar.L5          0.0040      0.027      0.149      0.881      -0.048       0.056\n",
       "ma.L1         -0.9437      0.014    -66.152      0.000      -0.972      -0.916\n",
       "sigma2      4.076e+04    547.791     74.400      0.000    3.97e+04    4.18e+04\n",
       "===================================================================================\n",
       "Ljung-Box (L1) (Q):                   0.00   Jarque-Bera (JB):             35999.74\n",
       "Prob(Q):                              0.99   Prob(JB):                         0.00\n",
       "Heteroskedasticity (H):               1.98   Skew:                            -0.50\n",
       "Prob(H) (two-sided):                  0.00   Kurtosis:                        29.84\n",
       "===================================================================================\n",
       "\n",
       "Warnings:\n",
       "[1] Covariance matrix calculated using the outer product of gradients (complex-step).\n",
       "\"\"\""
      ]
     },
     "execution_count": 27,
     "metadata": {},
     "output_type": "execute_result"
    }
   ],
   "source": [
    "#Muestra un resumen detallado de los resultados ARIMA (5,1,1)\n",
    "results_ar_5_i_1_ma_1.summary()"
   ]
  },
  {
   "cell_type": "code",
   "execution_count": 28,
   "metadata": {},
   "outputs": [
    {
     "name": "stdout",
     "output_type": "stream",
     "text": [
      "ARIMA(1,1,3):  \t LL =  -8061.597837217676 \t AIC =  16133.195674435352\n",
      "ARIMA(5,1,1):  \t LL =  -8059.052061721484 \t AIC =  16132.104123442969\n",
      "ARIMA(6,1,3):  \t LL =  -8056.363364387871 \t AIC =  16132.726728775742\n"
     ]
    }
   ],
   "source": [
    "#Muestra la información sobre el modelo ARIMA (1,1,3), siendo el LL el valor de Log-Likelihood y AIC Akaike\n",
    "print(\"ARIMA(1,1,3):  \\t LL = \", results_ar_1_i_1_ma_3.llf, \"\\t AIC = \", results_ar_1_i_1_ma_3.aic)\n",
    "#Muestra la información sobre el modelo ARIMA(5,1,1)\n",
    "print(\"ARIMA(5,1,1):  \\t LL = \", results_ar_5_i_1_ma_1.llf, \"\\t AIC = \", results_ar_5_i_1_ma_1.aic)\n",
    "#Muestra la información sobre el modelo ARIMA(6,1,3) \n",
    "print(\"ARIMA(6,1,3):  \\t LL = \", results_ar_6_i_1_ma_3.llf, \"\\t AIC = \", results_ar_6_i_1_ma_3.aic)"
   ]
  },
  {
   "cell_type": "code",
   "execution_count": 29,
   "metadata": {},
   "outputs": [
    {
     "name": "stdout",
     "output_type": "stream",
     "text": [
      "\n",
      "LLR test p-value = 0.063\n"
     ]
    }
   ],
   "source": [
    "#Muestra el p-value de una prueba de razón de verosimilitud entre dos modelos ARIMA para evaluar si el modelo más complejo es estadísticamente significativamente mejor que el modelo más simple.\n",
    "print(\"\\nLLR test p-value = \" + str(LLR_test(results_ar_1_i_1_ma_3, results_ar_6_i_1_ma_3, DF = 5)))"
   ]
  },
  {
   "cell_type": "code",
   "execution_count": 30,
   "metadata": {},
   "outputs": [
    {
     "name": "stdout",
     "output_type": "stream",
     "text": [
      "\n",
      "LLR test p-value = 0.146\n"
     ]
    }
   ],
   "source": [
    "#Muestra el p-valor de una prueba de razón de verosimilitud entre dos modelos ARIMA.\n",
    "print(\"\\nLLR test p-value = \" + str(LLR_test(results_ar_5_i_1_ma_1, results_ar_6_i_1_ma_3, DF = 3)))"
   ]
  },
  {
   "cell_type": "code",
   "execution_count": 31,
   "metadata": {},
   "outputs": [
    {
     "data": {
      "image/png": "[encoded data removed]",
      "text/plain": [
       "<Figure size 640x480 with 1 Axes>"
      ]
     },
     "metadata": {},
     "output_type": "display_data"
    }
   ],
   "source": [
    "# Crear una nueva columna 'res_ar_5_i_1_ma_1' en el DataFrame 'df' y asignar los residuos del modelo ARIMA(5,1,1) a esa columna\n",
    "df['res_ar_5_i_1_ma_1'] = results_ar_5_i_1_ma_1.resid\n",
    "# Generar un gráfico de la función de autocorrelación (ACF) de los residuos, excluyendo el rezago en el índice 0\n",
    "# con un máximo de 40 rezagos.\n",
    "sgt.plot_acf(df.res_ar_5_i_1_ma_1[1:], zero = False, lags = 40)\n",
    "# Establecer el título del gráfico\n",
    "plt.title(\"ACF Of Residuals for ARIMA(5,1,1)\", size=20)\n",
    "# Mostrar el gráfico\n",
    "plt.show()"
   ]
  },
  {
   "cell_type": "markdown",
   "metadata": {},
   "source": [
    "## Models with Higher Levels of Integration"
   ]
  },
  {
   "cell_type": "code",
   "execution_count": 32,
   "metadata": {},
   "outputs": [],
   "source": [
    "#El código se utiliza para crear una nueva columna en el DataFrame, esta columna almacena la diferencia de primer orden entre 02 valores de la columna, es decir, contendrá las variaciones diarias en los precios de la variable 'market_value'\n",
    "df['delta_prices']=df.market_value.diff(1)"
   ]
  },
  {
   "cell_type": "code",
   "execution_count": 33,
   "metadata": {
    "scrolled": true
   },
   "outputs": [
    {
     "data": {
      "text/html": [
       "<table class=\"simpletable\">\n",
       "<caption>SARIMAX Results</caption>\n",
       "<tr>\n",
       "  <th>Dep. Variable:</th>     <td>delta_prices</td>   <th>  No. Observations:  </th>   <td>1198</td>   \n",
       "</tr>\n",
       "<tr>\n",
       "  <th>Model:</th>            <td>ARIMA(1, 0, 1)</td>  <th>  Log Likelihood     </th> <td>-8065.014</td>\n",
       "</tr>\n",
       "<tr>\n",
       "  <th>Date:</th>            <td>Fri, 13 Oct 2023</td> <th>  AIC                </th> <td>16138.028</td>\n",
       "</tr>\n",
       "<tr>\n",
       "  <th>Time:</th>                <td>15:11:11</td>     <th>  BIC                </th> <td>16158.381</td>\n",
       "</tr>\n",
       "<tr>\n",
       "  <th>Sample:</th>             <td>03-13-2018</td>    <th>  HQIC               </th> <td>16145.696</td>\n",
       "</tr>\n",
       "<tr>\n",
       "  <th></th>                   <td>- 10-13-2022</td>   <th>                     </th>     <td> </td>    \n",
       "</tr>\n",
       "<tr>\n",
       "  <th>Covariance Type:</th>        <td>opg</td>       <th>                     </th>     <td> </td>    \n",
       "</tr>\n",
       "</table>\n",
       "<table class=\"simpletable\">\n",
       "<tr>\n",
       "     <td></td>       <th>coef</th>     <th>std err</th>      <th>z</th>      <th>P>|z|</th>  <th>[0.025</th>    <th>0.975]</th>  \n",
       "</tr>\n",
       "<tr>\n",
       "  <th>const</th>  <td>    0.2722</td> <td>    1.324</td> <td>    0.206</td> <td> 0.837</td> <td>   -2.323</td> <td>    2.867</td>\n",
       "</tr>\n",
       "<tr>\n",
       "  <th>ar.L1</th>  <td>    0.6490</td> <td>    0.019</td> <td>   33.397</td> <td> 0.000</td> <td>    0.611</td> <td>    0.687</td>\n",
       "</tr>\n",
       "<tr>\n",
       "  <th>ma.L1</th>  <td>   -0.9256</td> <td>    0.011</td> <td>  -84.060</td> <td> 0.000</td> <td>   -0.947</td> <td>   -0.904</td>\n",
       "</tr>\n",
       "<tr>\n",
       "  <th>sigma2</th> <td> 4.118e+04</td> <td>  552.166</td> <td>   74.578</td> <td> 0.000</td> <td> 4.01e+04</td> <td> 4.23e+04</td>\n",
       "</tr>\n",
       "</table>\n",
       "<table class=\"simpletable\">\n",
       "<tr>\n",
       "  <th>Ljung-Box (L1) (Q):</th>     <td>1.60</td> <th>  Jarque-Bera (JB):  </th> <td>33991.50</td>\n",
       "</tr>\n",
       "<tr>\n",
       "  <th>Prob(Q):</th>                <td>0.21</td> <th>  Prob(JB):          </th>   <td>0.00</td>  \n",
       "</tr>\n",
       "<tr>\n",
       "  <th>Heteroskedasticity (H):</th> <td>2.08</td> <th>  Skew:              </th>   <td>-0.45</td> \n",
       "</tr>\n",
       "<tr>\n",
       "  <th>Prob(H) (two-sided):</th>    <td>0.00</td> <th>  Kurtosis:          </th>   <td>29.08</td> \n",
       "</tr>\n",
       "</table><br/><br/>Warnings:<br/>[1] Covariance matrix calculated using the outer product of gradients (complex-step)."
      ],
      "text/latex": [
       "\\begin{center}\n",
       "\\begin{tabular}{lclc}\n",
       "\\toprule\n",
       "\\textbf{Dep. Variable:}          &  delta\\_prices   & \\textbf{  No. Observations:  } &    1198     \\\\\n",
       "\\textbf{Model:}                  &  ARIMA(1, 0, 1)  & \\textbf{  Log Likelihood     } & -8065.014   \\\\\n",
       "\\textbf{Date:}                   & Fri, 13 Oct 2023 & \\textbf{  AIC                } & 16138.028   \\\\\n",
       "\\textbf{Time:}                   &     15:11:11     & \\textbf{  BIC                } & 16158.381   \\\\\n",
       "\\textbf{Sample:}                 &    03-13-2018    & \\textbf{  HQIC               } & 16145.696   \\\\\n",
       "\\textbf{}                        &   - 10-13-2022   & \\textbf{                     } &             \\\\\n",
       "\\textbf{Covariance Type:}        &       opg        & \\textbf{                     } &             \\\\\n",
       "\\bottomrule\n",
       "\\end{tabular}\n",
       "\\begin{tabular}{lcccccc}\n",
       "                & \\textbf{coef} & \\textbf{std err} & \\textbf{z} & \\textbf{P$> |$z$|$} & \\textbf{[0.025} & \\textbf{0.975]}  \\\\\n",
       "\\midrule\n",
       "\\textbf{const}  &       0.2722  &        1.324     &     0.206  &         0.837        &       -2.323    &        2.867     \\\\\n",
       "\\textbf{ar.L1}  &       0.6490  &        0.019     &    33.397  &         0.000        &        0.611    &        0.687     \\\\\n",
       "\\textbf{ma.L1}  &      -0.9256  &        0.011     &   -84.060  &         0.000        &       -0.947    &       -0.904     \\\\\n",
       "\\textbf{sigma2} &    4.118e+04  &      552.166     &    74.578  &         0.000        &     4.01e+04    &     4.23e+04     \\\\\n",
       "\\bottomrule\n",
       "\\end{tabular}\n",
       "\\begin{tabular}{lclc}\n",
       "\\textbf{Ljung-Box (L1) (Q):}     & 1.60 & \\textbf{  Jarque-Bera (JB):  } & 33991.50  \\\\\n",
       "\\textbf{Prob(Q):}                & 0.21 & \\textbf{  Prob(JB):          } &   0.00    \\\\\n",
       "\\textbf{Heteroskedasticity (H):} & 2.08 & \\textbf{  Skew:              } &  -0.45    \\\\\n",
       "\\textbf{Prob(H) (two-sided):}    & 0.00 & \\textbf{  Kurtosis:          } &  29.08    \\\\\n",
       "\\bottomrule\n",
       "\\end{tabular}\n",
       "%\\caption{SARIMAX Results}\n",
       "\\end{center}\n",
       "\n",
       "Warnings: \\newline\n",
       " [1] Covariance matrix calculated using the outer product of gradients (complex-step)."
      ],
      "text/plain": [
       "<class 'statsmodels.iolib.summary.Summary'>\n",
       "\"\"\"\n",
       "                               SARIMAX Results                                \n",
       "==============================================================================\n",
       "Dep. Variable:           delta_prices   No. Observations:                 1198\n",
       "Model:                 ARIMA(1, 0, 1)   Log Likelihood               -8065.014\n",
       "Date:                Fri, 13 Oct 2023   AIC                          16138.028\n",
       "Time:                        15:11:11   BIC                          16158.381\n",
       "Sample:                    03-13-2018   HQIC                         16145.696\n",
       "                         - 10-13-2022                                         \n",
       "Covariance Type:                  opg                                         \n",
       "==============================================================================\n",
       "                 coef    std err          z      P>|z|      [0.025      0.975]\n",
       "------------------------------------------------------------------------------\n",
       "const          0.2722      1.324      0.206      0.837      -2.323       2.867\n",
       "ar.L1          0.6490      0.019     33.397      0.000       0.611       0.687\n",
       "ma.L1         -0.9256      0.011    -84.060      0.000      -0.947      -0.904\n",
       "sigma2      4.118e+04    552.166     74.578      0.000    4.01e+04    4.23e+04\n",
       "===================================================================================\n",
       "Ljung-Box (L1) (Q):                   1.60   Jarque-Bera (JB):             33991.50\n",
       "Prob(Q):                              0.21   Prob(JB):                         0.00\n",
       "Heteroskedasticity (H):               2.08   Skew:                            -0.45\n",
       "Prob(H) (two-sided):                  0.00   Kurtosis:                        29.08\n",
       "===================================================================================\n",
       "\n",
       "Warnings:\n",
       "[1] Covariance matrix calculated using the outer product of gradients (complex-step).\n",
       "\"\"\""
      ]
     },
     "execution_count": 33,
     "metadata": {},
     "output_type": "execute_result"
    }
   ],
   "source": [
    "#El comando crea un modelo ARIMA para analizar la serie de tiempo de las diferencias diarias en los precios ('delta_prices') almacenadas en df. \n",
    "model_delta_ar_1_i_1_ma_1 = ARIMA(df.delta_prices[1:], order=(1,0,1))\n",
    "#Se ajusta el modelo ARIMA a los datos de la serie de diferencias diarias\n",
    "results_delta_ar_1_i_1_ma_1 = model_delta_ar_1_i_1_ma_1.fit()\n",
    "#El comando genera un resumen del modelo ajustado, que proporciona información sobre los parámetros estimados.\n",
    "results_delta_ar_1_i_1_ma_1.summary()"
   ]
  },
  {
   "cell_type": "code",
   "execution_count": 34,
   "metadata": {},
   "outputs": [
    {
     "data": {
      "text/plain": [
       "(-10.84020396707081,\n",
       " 1.6232312300435712e-19,\n",
       " 21,\n",
       " 1176,\n",
       " {'1%': -3.4359228156852093,\n",
       "  '5%': -2.8640008242280555,\n",
       "  '10%': -2.5680801943923828},\n",
       " 15816.453434102365)"
      ]
     },
     "execution_count": 34,
     "metadata": {},
     "output_type": "execute_result"
    }
   ],
   "source": [
    "#El comando se utiliza para realizar la prueba de Dickey-Fuller aumentada en una serie de tiempo de las diferencias diarias de los precios\n",
    "sts.adfuller(df.delta_prices[1:])"
   ]
  },
  {
   "cell_type": "code",
   "execution_count": 35,
   "metadata": {},
   "outputs": [
    {
     "data": {
      "text/html": [
       "<table class=\"simpletable\">\n",
       "<caption>SARIMAX Results</caption>\n",
       "<tr>\n",
       "  <th>Dep. Variable:</th>     <td>market_value</td>   <th>  No. Observations:  </th>   <td>1199</td>   \n",
       "</tr>\n",
       "<tr>\n",
       "  <th>Model:</th>            <td>ARIMA(1, 2, 1)</td>  <th>  Log Likelihood     </th> <td>-8128.839</td>\n",
       "</tr>\n",
       "<tr>\n",
       "  <th>Date:</th>            <td>Fri, 13 Oct 2023</td> <th>  AIC                </th> <td>16263.679</td>\n",
       "</tr>\n",
       "<tr>\n",
       "  <th>Time:</th>                <td>15:11:12</td>     <th>  BIC                </th> <td>16278.941</td>\n",
       "</tr>\n",
       "<tr>\n",
       "  <th>Sample:</th>             <td>03-12-2018</td>    <th>  HQIC               </th> <td>16269.429</td>\n",
       "</tr>\n",
       "<tr>\n",
       "  <th></th>                   <td>- 10-13-2022</td>   <th>                     </th>     <td> </td>    \n",
       "</tr>\n",
       "<tr>\n",
       "  <th>Covariance Type:</th>        <td>opg</td>       <th>                     </th>     <td> </td>    \n",
       "</tr>\n",
       "</table>\n",
       "<table class=\"simpletable\">\n",
       "<tr>\n",
       "     <td></td>       <th>coef</th>     <th>std err</th>      <th>z</th>      <th>P>|z|</th>  <th>[0.025</th>    <th>0.975]</th>  \n",
       "</tr>\n",
       "<tr>\n",
       "  <th>ar.L1</th>  <td>   -0.1193</td> <td>    0.015</td> <td>   -8.176</td> <td> 0.000</td> <td>   -0.148</td> <td>   -0.091</td>\n",
       "</tr>\n",
       "<tr>\n",
       "  <th>ma.L1</th>  <td>   -0.9995</td> <td>    0.064</td> <td>  -15.715</td> <td> 0.000</td> <td>   -1.124</td> <td>   -0.875</td>\n",
       "</tr>\n",
       "<tr>\n",
       "  <th>sigma2</th> <td> 4.591e+04</td> <td> 2949.858</td> <td>   15.565</td> <td> 0.000</td> <td> 4.01e+04</td> <td> 5.17e+04</td>\n",
       "</tr>\n",
       "</table>\n",
       "<table class=\"simpletable\">\n",
       "<tr>\n",
       "  <th>Ljung-Box (L1) (Q):</th>     <td>0.80</td> <th>  Jarque-Bera (JB):  </th> <td>41814.11</td>\n",
       "</tr>\n",
       "<tr>\n",
       "  <th>Prob(Q):</th>                <td>0.37</td> <th>  Prob(JB):          </th>   <td>0.00</td>  \n",
       "</tr>\n",
       "<tr>\n",
       "  <th>Heteroskedasticity (H):</th> <td>2.06</td> <th>  Skew:              </th>   <td>-1.01</td> \n",
       "</tr>\n",
       "<tr>\n",
       "  <th>Prob(H) (two-sided):</th>    <td>0.00</td> <th>  Kurtosis:          </th>   <td>31.88</td> \n",
       "</tr>\n",
       "</table><br/><br/>Warnings:<br/>[1] Covariance matrix calculated using the outer product of gradients (complex-step)."
      ],
      "text/latex": [
       "\\begin{center}\n",
       "\\begin{tabular}{lclc}\n",
       "\\toprule\n",
       "\\textbf{Dep. Variable:}          &  market\\_value   & \\textbf{  No. Observations:  } &    1199     \\\\\n",
       "\\textbf{Model:}                  &  ARIMA(1, 2, 1)  & \\textbf{  Log Likelihood     } & -8128.839   \\\\\n",
       "\\textbf{Date:}                   & Fri, 13 Oct 2023 & \\textbf{  AIC                } & 16263.679   \\\\\n",
       "\\textbf{Time:}                   &     15:11:12     & \\textbf{  BIC                } & 16278.941   \\\\\n",
       "\\textbf{Sample:}                 &    03-12-2018    & \\textbf{  HQIC               } & 16269.429   \\\\\n",
       "\\textbf{}                        &   - 10-13-2022   & \\textbf{                     } &             \\\\\n",
       "\\textbf{Covariance Type:}        &       opg        & \\textbf{                     } &             \\\\\n",
       "\\bottomrule\n",
       "\\end{tabular}\n",
       "\\begin{tabular}{lcccccc}\n",
       "                & \\textbf{coef} & \\textbf{std err} & \\textbf{z} & \\textbf{P$> |$z$|$} & \\textbf{[0.025} & \\textbf{0.975]}  \\\\\n",
       "\\midrule\n",
       "\\textbf{ar.L1}  &      -0.1193  &        0.015     &    -8.176  &         0.000        &       -0.148    &       -0.091     \\\\\n",
       "\\textbf{ma.L1}  &      -0.9995  &        0.064     &   -15.715  &         0.000        &       -1.124    &       -0.875     \\\\\n",
       "\\textbf{sigma2} &    4.591e+04  &     2949.858     &    15.565  &         0.000        &     4.01e+04    &     5.17e+04     \\\\\n",
       "\\bottomrule\n",
       "\\end{tabular}\n",
       "\\begin{tabular}{lclc}\n",
       "\\textbf{Ljung-Box (L1) (Q):}     & 0.80 & \\textbf{  Jarque-Bera (JB):  } & 41814.11  \\\\\n",
       "\\textbf{Prob(Q):}                & 0.37 & \\textbf{  Prob(JB):          } &   0.00    \\\\\n",
       "\\textbf{Heteroskedasticity (H):} & 2.06 & \\textbf{  Skew:              } &  -1.01    \\\\\n",
       "\\textbf{Prob(H) (two-sided):}    & 0.00 & \\textbf{  Kurtosis:          } &  31.88    \\\\\n",
       "\\bottomrule\n",
       "\\end{tabular}\n",
       "%\\caption{SARIMAX Results}\n",
       "\\end{center}\n",
       "\n",
       "Warnings: \\newline\n",
       " [1] Covariance matrix calculated using the outer product of gradients (complex-step)."
      ],
      "text/plain": [
       "<class 'statsmodels.iolib.summary.Summary'>\n",
       "\"\"\"\n",
       "                               SARIMAX Results                                \n",
       "==============================================================================\n",
       "Dep. Variable:           market_value   No. Observations:                 1199\n",
       "Model:                 ARIMA(1, 2, 1)   Log Likelihood               -8128.839\n",
       "Date:                Fri, 13 Oct 2023   AIC                          16263.679\n",
       "Time:                        15:11:12   BIC                          16278.941\n",
       "Sample:                    03-12-2018   HQIC                         16269.429\n",
       "                         - 10-13-2022                                         \n",
       "Covariance Type:                  opg                                         \n",
       "==============================================================================\n",
       "                 coef    std err          z      P>|z|      [0.025      0.975]\n",
       "------------------------------------------------------------------------------\n",
       "ar.L1         -0.1193      0.015     -8.176      0.000      -0.148      -0.091\n",
       "ma.L1         -0.9995      0.064    -15.715      0.000      -1.124      -0.875\n",
       "sigma2      4.591e+04   2949.858     15.565      0.000    4.01e+04    5.17e+04\n",
       "===================================================================================\n",
       "Ljung-Box (L1) (Q):                   0.80   Jarque-Bera (JB):             41814.11\n",
       "Prob(Q):                              0.37   Prob(JB):                         0.00\n",
       "Heteroskedasticity (H):               2.06   Skew:                            -1.01\n",
       "Prob(H) (two-sided):                  0.00   Kurtosis:                        31.88\n",
       "===================================================================================\n",
       "\n",
       "Warnings:\n",
       "[1] Covariance matrix calculated using the outer product of gradients (complex-step).\n",
       "\"\"\""
      ]
     },
     "execution_count": 35,
     "metadata": {},
     "output_type": "execute_result"
    }
   ],
   "source": [
    "#Describe un modelo ARIMA (1,2,1) \n",
    "model_ar_1_i_2_ma_1 = ARIMA(df.market_value, order=(1,2,1))\n",
    "#Ajusta el modelo ARIMA a tus datos utilizando el método\n",
    "results_ar_1_i_2_ma_1 = model_ar_1_i_2_ma_1.fit()\n",
    "#Muestra un resumen de los resultados del ajuste del modelo ARIMA\n",
    "results_ar_1_i_2_ma_1.summary()"
   ]
  },
  {
   "cell_type": "code",
   "execution_count": 36,
   "metadata": {},
   "outputs": [
    {
     "data": {
      "image/png": "[encoded data removed]",
      "text/plain": [
       "<Figure size 640x480 with 1 Axes>"
      ]
     },
     "metadata": {},
     "output_type": "display_data"
    }
   ],
   "source": [
    "#Crea una nueva columna y lo completa con los residuos del modelo ARIMA(1,2,1) ajustados previamente.\n",
    "df['res_ar_1_i_2_ma_1'] = results_ar_1_i_2_ma_1.resid.iloc[:]\n",
    "#Calcula y traza la función de autocorrelación (ACF) de los residuos del modelo ARIMA\n",
    "sgt.plot_acf(df.res_ar_1_i_2_ma_1[2:], zero = False, lags = 40)\n",
    "#Establece un título para el gráfico de la función de autocorrelación de los residuos\n",
    "plt.title(\"ACF Of Residuals for ARIMA(1,2,1)\",size=20)\n",
    "#Muestra el gráfico de la ACF de los residuos.\n",
    "plt.show()"
   ]
  },
  {
   "cell_type": "markdown",
   "metadata": {},
   "source": [
    "## ARIMAX "
   ]
  },
  {
   "cell_type": "code",
   "execution_count": 37,
   "metadata": {
    "scrolled": true
   },
   "outputs": [
    {
     "data": {
      "text/html": [
       "<table class=\"simpletable\">\n",
       "<caption>SARIMAX Results</caption>\n",
       "<tr>\n",
       "  <th>Dep. Variable:</th>     <td>market_value</td>   <th>  No. Observations:  </th>   <td>1199</td>   \n",
       "</tr>\n",
       "<tr>\n",
       "  <th>Model:</th>            <td>ARIMA(1, 1, 1)</td>  <th>  Log Likelihood     </th> <td>-7913.635</td>\n",
       "</tr>\n",
       "<tr>\n",
       "  <th>Date:</th>            <td>Fri, 13 Oct 2023</td> <th>  AIC                </th> <td>15835.271</td>\n",
       "</tr>\n",
       "<tr>\n",
       "  <th>Time:</th>                <td>15:11:13</td>     <th>  BIC                </th> <td>15855.625</td>\n",
       "</tr>\n",
       "<tr>\n",
       "  <th>Sample:</th>             <td>03-12-2018</td>    <th>  HQIC               </th> <td>15842.939</td>\n",
       "</tr>\n",
       "<tr>\n",
       "  <th></th>                   <td>- 10-13-2022</td>   <th>                     </th>     <td> </td>    \n",
       "</tr>\n",
       "<tr>\n",
       "  <th>Covariance Type:</th>        <td>opg</td>       <th>                     </th>     <td> </td>    \n",
       "</tr>\n",
       "</table>\n",
       "<table class=\"simpletable\">\n",
       "<tr>\n",
       "     <td></td>       <th>coef</th>     <th>std err</th>      <th>z</th>      <th>P>|z|</th>  <th>[0.025</th>    <th>0.975]</th>  \n",
       "</tr>\n",
       "<tr>\n",
       "  <th>spx </th>   <td>    0.6394</td> <td>    0.018</td> <td>   35.353</td> <td> 0.000</td> <td>    0.604</td> <td>    0.675</td>\n",
       "</tr>\n",
       "<tr>\n",
       "  <th>ar.L1</th>  <td>    0.6677</td> <td>    0.021</td> <td>   31.953</td> <td> 0.000</td> <td>    0.627</td> <td>    0.709</td>\n",
       "</tr>\n",
       "<tr>\n",
       "  <th>ma.L1</th>  <td>   -0.9239</td> <td>    0.011</td> <td>  -82.551</td> <td> 0.000</td> <td>   -0.946</td> <td>   -0.902</td>\n",
       "</tr>\n",
       "<tr>\n",
       "  <th>sigma2</th> <td> 3.198e+04</td> <td>  346.256</td> <td>   92.361</td> <td> 0.000</td> <td> 3.13e+04</td> <td> 3.27e+04</td>\n",
       "</tr>\n",
       "</table>\n",
       "<table class=\"simpletable\">\n",
       "<tr>\n",
       "  <th>Ljung-Box (L1) (Q):</th>     <td>0.62</td> <th>  Jarque-Bera (JB):  </th> <td>72021.88</td>\n",
       "</tr>\n",
       "<tr>\n",
       "  <th>Prob(Q):</th>                <td>0.43</td> <th>  Prob(JB):          </th>   <td>0.00</td>  \n",
       "</tr>\n",
       "<tr>\n",
       "  <th>Heteroskedasticity (H):</th> <td>2.34</td> <th>  Skew:              </th>   <td>2.26</td>  \n",
       "</tr>\n",
       "<tr>\n",
       "  <th>Prob(H) (two-sided):</th>    <td>0.00</td> <th>  Kurtosis:          </th>   <td>40.72</td> \n",
       "</tr>\n",
       "</table><br/><br/>Warnings:<br/>[1] Covariance matrix calculated using the outer product of gradients (complex-step)."
      ],
      "text/latex": [
       "\\begin{center}\n",
       "\\begin{tabular}{lclc}\n",
       "\\toprule\n",
       "\\textbf{Dep. Variable:}          &  market\\_value   & \\textbf{  No. Observations:  } &    1199     \\\\\n",
       "\\textbf{Model:}                  &  ARIMA(1, 1, 1)  & \\textbf{  Log Likelihood     } & -7913.635   \\\\\n",
       "\\textbf{Date:}                   & Fri, 13 Oct 2023 & \\textbf{  AIC                } & 15835.271   \\\\\n",
       "\\textbf{Time:}                   &     15:11:13     & \\textbf{  BIC                } & 15855.625   \\\\\n",
       "\\textbf{Sample:}                 &    03-12-2018    & \\textbf{  HQIC               } & 15842.939   \\\\\n",
       "\\textbf{}                        &   - 10-13-2022   & \\textbf{                     } &             \\\\\n",
       "\\textbf{Covariance Type:}        &       opg        & \\textbf{                     } &             \\\\\n",
       "\\bottomrule\n",
       "\\end{tabular}\n",
       "\\begin{tabular}{lcccccc}\n",
       "                & \\textbf{coef} & \\textbf{std err} & \\textbf{z} & \\textbf{P$> |$z$|$} & \\textbf{[0.025} & \\textbf{0.975]}  \\\\\n",
       "\\midrule\n",
       "\\textbf{spx }   &       0.6394  &        0.018     &    35.353  &         0.000        &        0.604    &        0.675     \\\\\n",
       "\\textbf{ar.L1}  &       0.6677  &        0.021     &    31.953  &         0.000        &        0.627    &        0.709     \\\\\n",
       "\\textbf{ma.L1}  &      -0.9239  &        0.011     &   -82.551  &         0.000        &       -0.946    &       -0.902     \\\\\n",
       "\\textbf{sigma2} &    3.198e+04  &      346.256     &    92.361  &         0.000        &     3.13e+04    &     3.27e+04     \\\\\n",
       "\\bottomrule\n",
       "\\end{tabular}\n",
       "\\begin{tabular}{lclc}\n",
       "\\textbf{Ljung-Box (L1) (Q):}     & 0.62 & \\textbf{  Jarque-Bera (JB):  } & 72021.88  \\\\\n",
       "\\textbf{Prob(Q):}                & 0.43 & \\textbf{  Prob(JB):          } &   0.00    \\\\\n",
       "\\textbf{Heteroskedasticity (H):} & 2.34 & \\textbf{  Skew:              } &   2.26    \\\\\n",
       "\\textbf{Prob(H) (two-sided):}    & 0.00 & \\textbf{  Kurtosis:          } &  40.72    \\\\\n",
       "\\bottomrule\n",
       "\\end{tabular}\n",
       "%\\caption{SARIMAX Results}\n",
       "\\end{center}\n",
       "\n",
       "Warnings: \\newline\n",
       " [1] Covariance matrix calculated using the outer product of gradients (complex-step)."
      ],
      "text/plain": [
       "<class 'statsmodels.iolib.summary.Summary'>\n",
       "\"\"\"\n",
       "                               SARIMAX Results                                \n",
       "==============================================================================\n",
       "Dep. Variable:           market_value   No. Observations:                 1199\n",
       "Model:                 ARIMA(1, 1, 1)   Log Likelihood               -7913.635\n",
       "Date:                Fri, 13 Oct 2023   AIC                          15835.271\n",
       "Time:                        15:11:13   BIC                          15855.625\n",
       "Sample:                    03-12-2018   HQIC                         15842.939\n",
       "                         - 10-13-2022                                         \n",
       "Covariance Type:                  opg                                         \n",
       "==============================================================================\n",
       "                 coef    std err          z      P>|z|      [0.025      0.975]\n",
       "------------------------------------------------------------------------------\n",
       "spx            0.6394      0.018     35.353      0.000       0.604       0.675\n",
       "ar.L1          0.6677      0.021     31.953      0.000       0.627       0.709\n",
       "ma.L1         -0.9239      0.011    -82.551      0.000      -0.946      -0.902\n",
       "sigma2      3.198e+04    346.256     92.361      0.000    3.13e+04    3.27e+04\n",
       "===================================================================================\n",
       "Ljung-Box (L1) (Q):                   0.62   Jarque-Bera (JB):             72021.88\n",
       "Prob(Q):                              0.43   Prob(JB):                         0.00\n",
       "Heteroskedasticity (H):               2.34   Skew:                             2.26\n",
       "Prob(H) (two-sided):                  0.00   Kurtosis:                        40.72\n",
       "===================================================================================\n",
       "\n",
       "Warnings:\n",
       "[1] Covariance matrix calculated using the outer product of gradients (complex-step).\n",
       "\"\"\""
      ]
     },
     "execution_count": 37,
     "metadata": {},
     "output_type": "execute_result"
    }
   ],
   "source": [
    "#El código crea un objeto de modelo ARIMA con un componente autorregresivo, un componente de diferenciación y un componente de media movil\n",
    "model_ar_1_i_1_ma_1_Xspx = ARIMA(df.market_value, exog=df['spx '], order=(1,1,1))\n",
    "#Se ajusta el modelo ARIMA a los datos utilizados.\n",
    "results_ar_1_i_1_ma_1_Xspx = model_ar_1_i_1_ma_1_Xspx.fit()\n",
    "#Muestra un resumen detallado de los resultados del modelo ajustado.\n",
    "results_ar_1_i_1_ma_1_Xspx.summary()"
   ]
  },
  {
   "cell_type": "markdown",
   "metadata": {},
   "source": [
    "## SARIMAX"
   ]
  },
  {
   "cell_type": "code",
   "execution_count": 38,
   "metadata": {},
   "outputs": [],
   "source": [
    "from statsmodels.tsa.statespace.sarimax import SARIMAX"
   ]
  },
  {
   "cell_type": "code",
   "execution_count": 39,
   "metadata": {},
   "outputs": [
    {
     "data": {
      "text/html": [
       "<table class=\"simpletable\">\n",
       "<caption>SARIMAX Results</caption>\n",
       "<tr>\n",
       "  <th>Dep. Variable:</th>           <td>market_value</td>          <th>  No. Observations:  </th>   <td>1199</td>   \n",
       "</tr>\n",
       "<tr>\n",
       "  <th>Model:</th>           <td>SARIMAX(1, 0, 1)x(2, 0, 1, 5)</td> <th>  Log Likelihood     </th> <td>-7976.390</td>\n",
       "</tr>\n",
       "<tr>\n",
       "  <th>Date:</th>                  <td>Fri, 13 Oct 2023</td>        <th>  AIC                </th> <td>15966.779</td>\n",
       "</tr>\n",
       "<tr>\n",
       "  <th>Time:</th>                      <td>15:11:18</td>            <th>  BIC                </th> <td>16002.404</td>\n",
       "</tr>\n",
       "<tr>\n",
       "  <th>Sample:</th>                   <td>03-12-2018</td>           <th>  HQIC               </th> <td>15980.200</td>\n",
       "</tr>\n",
       "<tr>\n",
       "  <th></th>                         <td>- 10-13-2022</td>          <th>                     </th>     <td> </td>    \n",
       "</tr>\n",
       "<tr>\n",
       "  <th>Covariance Type:</th>              <td>opg</td>              <th>                     </th>     <td> </td>    \n",
       "</tr>\n",
       "</table>\n",
       "<table class=\"simpletable\">\n",
       "<tr>\n",
       "      <td></td>        <th>coef</th>     <th>std err</th>      <th>z</th>      <th>P>|z|</th>  <th>[0.025</th>    <th>0.975]</th>  \n",
       "</tr>\n",
       "<tr>\n",
       "  <th>spx </th>     <td>    0.6634</td> <td>    0.017</td> <td>   39.755</td> <td> 0.000</td> <td>    0.631</td> <td>    0.696</td>\n",
       "</tr>\n",
       "<tr>\n",
       "  <th>ar.L1</th>    <td>    1.0000</td> <td>    0.006</td> <td>  159.924</td> <td> 0.000</td> <td>    0.988</td> <td>    1.012</td>\n",
       "</tr>\n",
       "<tr>\n",
       "  <th>ma.L1</th>    <td>   -0.2302</td> <td>    0.011</td> <td>  -21.099</td> <td> 0.000</td> <td>   -0.252</td> <td>   -0.209</td>\n",
       "</tr>\n",
       "<tr>\n",
       "  <th>ar.S.L5</th>  <td>    0.9287</td> <td>    0.090</td> <td>   10.375</td> <td> 0.000</td> <td>    0.753</td> <td>    1.104</td>\n",
       "</tr>\n",
       "<tr>\n",
       "  <th>ar.S.L10</th> <td>    0.0712</td> <td>    0.023</td> <td>    3.106</td> <td> 0.002</td> <td>    0.026</td> <td>    0.116</td>\n",
       "</tr>\n",
       "<tr>\n",
       "  <th>ma.S.L5</th>  <td>   -1.0000</td> <td>    0.084</td> <td>  -11.966</td> <td> 0.000</td> <td>   -1.164</td> <td>   -0.836</td>\n",
       "</tr>\n",
       "<tr>\n",
       "  <th>sigma2</th>   <td> 3.868e+04</td> <td> 1.76e-05</td> <td>  2.2e+09</td> <td> 0.000</td> <td> 3.87e+04</td> <td> 3.87e+04</td>\n",
       "</tr>\n",
       "</table>\n",
       "<table class=\"simpletable\">\n",
       "<tr>\n",
       "  <th>Ljung-Box (L1) (Q):</th>     <td>2.73</td> <th>  Jarque-Bera (JB):  </th> <td>67319.22</td>\n",
       "</tr>\n",
       "<tr>\n",
       "  <th>Prob(Q):</th>                <td>0.10</td> <th>  Prob(JB):          </th>   <td>0.00</td>  \n",
       "</tr>\n",
       "<tr>\n",
       "  <th>Heteroskedasticity (H):</th> <td>2.55</td> <th>  Skew:              </th>   <td>1.66</td>  \n",
       "</tr>\n",
       "<tr>\n",
       "  <th>Prob(H) (two-sided):</th>    <td>0.00</td> <th>  Kurtosis:          </th>   <td>39.56</td> \n",
       "</tr>\n",
       "</table><br/><br/>Warnings:<br/>[1] Covariance matrix calculated using the outer product of gradients (complex-step).<br/>[2] Covariance matrix is singular or near-singular, with condition number 3.12e+23. Standard errors may be unstable."
      ],
      "text/latex": [
       "\\begin{center}\n",
       "\\begin{tabular}{lclc}\n",
       "\\toprule\n",
       "\\textbf{Dep. Variable:}          &         market\\_value         & \\textbf{  No. Observations:  } &    1199     \\\\\n",
       "\\textbf{Model:}                  & SARIMAX(1, 0, 1)x(2, 0, 1, 5) & \\textbf{  Log Likelihood     } & -7976.390   \\\\\n",
       "\\textbf{Date:}                   &        Fri, 13 Oct 2023       & \\textbf{  AIC                } & 15966.779   \\\\\n",
       "\\textbf{Time:}                   &            15:11:18           & \\textbf{  BIC                } & 16002.404   \\\\\n",
       "\\textbf{Sample:}                 &           03-12-2018          & \\textbf{  HQIC               } & 15980.200   \\\\\n",
       "\\textbf{}                        &          - 10-13-2022         & \\textbf{                     } &             \\\\\n",
       "\\textbf{Covariance Type:}        &              opg              & \\textbf{                     } &             \\\\\n",
       "\\bottomrule\n",
       "\\end{tabular}\n",
       "\\begin{tabular}{lcccccc}\n",
       "                  & \\textbf{coef} & \\textbf{std err} & \\textbf{z} & \\textbf{P$> |$z$|$} & \\textbf{[0.025} & \\textbf{0.975]}  \\\\\n",
       "\\midrule\n",
       "\\textbf{spx }     &       0.6634  &        0.017     &    39.755  &         0.000        &        0.631    &        0.696     \\\\\n",
       "\\textbf{ar.L1}    &       1.0000  &        0.006     &   159.924  &         0.000        &        0.988    &        1.012     \\\\\n",
       "\\textbf{ma.L1}    &      -0.2302  &        0.011     &   -21.099  &         0.000        &       -0.252    &       -0.209     \\\\\n",
       "\\textbf{ar.S.L5}  &       0.9287  &        0.090     &    10.375  &         0.000        &        0.753    &        1.104     \\\\\n",
       "\\textbf{ar.S.L10} &       0.0712  &        0.023     &     3.106  &         0.002        &        0.026    &        0.116     \\\\\n",
       "\\textbf{ma.S.L5}  &      -1.0000  &        0.084     &   -11.966  &         0.000        &       -1.164    &       -0.836     \\\\\n",
       "\\textbf{sigma2}   &    3.868e+04  &     1.76e-05     &   2.2e+09  &         0.000        &     3.87e+04    &     3.87e+04     \\\\\n",
       "\\bottomrule\n",
       "\\end{tabular}\n",
       "\\begin{tabular}{lclc}\n",
       "\\textbf{Ljung-Box (L1) (Q):}     & 2.73 & \\textbf{  Jarque-Bera (JB):  } & 67319.22  \\\\\n",
       "\\textbf{Prob(Q):}                & 0.10 & \\textbf{  Prob(JB):          } &   0.00    \\\\\n",
       "\\textbf{Heteroskedasticity (H):} & 2.55 & \\textbf{  Skew:              } &   1.66    \\\\\n",
       "\\textbf{Prob(H) (two-sided):}    & 0.00 & \\textbf{  Kurtosis:          } &  39.56    \\\\\n",
       "\\bottomrule\n",
       "\\end{tabular}\n",
       "%\\caption{SARIMAX Results}\n",
       "\\end{center}\n",
       "\n",
       "Warnings: \\newline\n",
       " [1] Covariance matrix calculated using the outer product of gradients (complex-step). \\newline\n",
       " [2] Covariance matrix is singular or near-singular, with condition number 3.12e+23. Standard errors may be unstable."
      ],
      "text/plain": [
       "<class 'statsmodels.iolib.summary.Summary'>\n",
       "\"\"\"\n",
       "                                     SARIMAX Results                                     \n",
       "=========================================================================================\n",
       "Dep. Variable:                      market_value   No. Observations:                 1199\n",
       "Model:             SARIMAX(1, 0, 1)x(2, 0, 1, 5)   Log Likelihood               -7976.390\n",
       "Date:                           Fri, 13 Oct 2023   AIC                          15966.779\n",
       "Time:                                   15:11:18   BIC                          16002.404\n",
       "Sample:                               03-12-2018   HQIC                         15980.200\n",
       "                                    - 10-13-2022                                         \n",
       "Covariance Type:                             opg                                         \n",
       "==============================================================================\n",
       "                 coef    std err          z      P>|z|      [0.025      0.975]\n",
       "------------------------------------------------------------------------------\n",
       "spx            0.6634      0.017     39.755      0.000       0.631       0.696\n",
       "ar.L1          1.0000      0.006    159.924      0.000       0.988       1.012\n",
       "ma.L1         -0.2302      0.011    -21.099      0.000      -0.252      -0.209\n",
       "ar.S.L5        0.9287      0.090     10.375      0.000       0.753       1.104\n",
       "ar.S.L10       0.0712      0.023      3.106      0.002       0.026       0.116\n",
       "ma.S.L5       -1.0000      0.084    -11.966      0.000      -1.164      -0.836\n",
       "sigma2      3.868e+04   1.76e-05    2.2e+09      0.000    3.87e+04    3.87e+04\n",
       "===================================================================================\n",
       "Ljung-Box (L1) (Q):                   2.73   Jarque-Bera (JB):             67319.22\n",
       "Prob(Q):                              0.10   Prob(JB):                         0.00\n",
       "Heteroskedasticity (H):               2.55   Skew:                             1.66\n",
       "Prob(H) (two-sided):                  0.00   Kurtosis:                        39.56\n",
       "===================================================================================\n",
       "\n",
       "Warnings:\n",
       "[1] Covariance matrix calculated using the outer product of gradients (complex-step).\n",
       "[2] Covariance matrix is singular or near-singular, with condition number 3.12e+23. Standard errors may be unstable.\n",
       "\"\"\""
      ]
     },
     "execution_count": 39,
     "metadata": {},
     "output_type": "execute_result"
    }
   ],
   "source": [
    "#El código crea un modelo SARIMAX según los argumentos d ela serie de tiempo, la variable exógena de la columna 'spx ', los componentes no estacional del modelo SARIMA (2,0,1,5)\n",
    "model_sarimax = SARIMAX(df.market_value, exog=df['spx '], order=(1,0,1), seasonal_order=(2,0,1,5))\n",
    "#El código ajusta el modelo SARIMAX a los datos utilizando el método 'fit()' y almacena los resultados de la variable 'results_sarimax'\n",
    "results_sarimax = model_sarimax.fit()\n",
    "#El código muestra un resumen detallado de los resultados del modelo SARIMAX ajustado, incluyendo estadísticas, coeficientes y diagnósticos del modelo.\n",
    "results_sarimax.summary()"
   ]
  }
 ],
 "metadata": {
  "kernelspec": {
   "display_name": "Python 3",
   "language": "python",
   "name": "python3"
  },
  "language_info": {
   "codemirror_mode": {
    "name": "ipython",
    "version": 3
   },
   "file_extension": ".py",
   "mimetype": "text/x-python",
   "name": "python",
   "nbconvert_exporter": "python",
   "pygments_lexer": "ipython3",
   "version": "3.11.5"
  }
 },
 "nbformat": 4,
 "nbformat_minor": 2
}
