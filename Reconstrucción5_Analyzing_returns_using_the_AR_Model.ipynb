{
  "nbformat": 4,
  "nbformat_minor": 0,
  "metadata": {
    "colab": {
      "provenance": []
    },
    "kernelspec": {
      "name": "python3",
      "display_name": "Python 3"
    },
    "language_info": {
      "name": "python"
    }
  },
  "cells": [
    {
      "cell_type": "code",
      "source": [
        "# Instalamos paquetes\n",
        "!pip install yfinance\n",
        "!pip install pandas-datareader\n",
        "!pip install fix-yahoo-finance"
      ],
      "metadata": {
        "colab": {
          "base_uri": "https://localhost:8080/"
        },
        "id": "QsVBGFfV-kkM",
        "outputId": "51cad2c3-ecc8-4d0f-8080-43c019b3b187"
      },
      "execution_count": 1,
      "outputs": [
        {
          "output_type": "stream",
          "name": "stdout",
          "text": [
            "Requirement already satisfied: yfinance in /usr/local/lib/python3.10/dist-packages (0.2.31)\n",
            "Requirement already satisfied: pandas>=1.3.0 in /usr/local/lib/python3.10/dist-packages (from yfinance) (1.5.3)\n",
            "Requirement already satisfied: numpy>=1.16.5 in /usr/local/lib/python3.10/dist-packages (from yfinance) (1.23.5)\n",
            "Requirement already satisfied: requests>=2.31 in /usr/local/lib/python3.10/dist-packages (from yfinance) (2.31.0)\n",
            "Requirement already satisfied: multitasking>=0.0.7 in /usr/local/lib/python3.10/dist-packages (from yfinance) (0.0.11)\n",
            "Requirement already satisfied: lxml>=4.9.1 in /usr/local/lib/python3.10/dist-packages (from yfinance) (4.9.3)\n",
            "Requirement already satisfied: appdirs>=1.4.4 in /usr/local/lib/python3.10/dist-packages (from yfinance) (1.4.4)\n",
            "Requirement already satisfied: pytz>=2022.5 in /usr/local/lib/python3.10/dist-packages (from yfinance) (2023.3.post1)\n",
            "Requirement already satisfied: frozendict>=2.3.4 in /usr/local/lib/python3.10/dist-packages (from yfinance) (2.3.8)\n",
            "Requirement already satisfied: peewee>=3.16.2 in /usr/local/lib/python3.10/dist-packages (from yfinance) (3.16.3)\n",
            "Requirement already satisfied: beautifulsoup4>=4.11.1 in /usr/local/lib/python3.10/dist-packages (from yfinance) (4.11.2)\n",
            "Requirement already satisfied: html5lib>=1.1 in /usr/local/lib/python3.10/dist-packages (from yfinance) (1.1)\n",
            "Requirement already satisfied: soupsieve>1.2 in /usr/local/lib/python3.10/dist-packages (from beautifulsoup4>=4.11.1->yfinance) (2.5)\n",
            "Requirement already satisfied: six>=1.9 in /usr/local/lib/python3.10/dist-packages (from html5lib>=1.1->yfinance) (1.16.0)\n",
            "Requirement already satisfied: webencodings in /usr/local/lib/python3.10/dist-packages (from html5lib>=1.1->yfinance) (0.5.1)\n",
            "Requirement already satisfied: python-dateutil>=2.8.1 in /usr/local/lib/python3.10/dist-packages (from pandas>=1.3.0->yfinance) (2.8.2)\n",
            "Requirement already satisfied: charset-normalizer<4,>=2 in /usr/local/lib/python3.10/dist-packages (from requests>=2.31->yfinance) (3.3.0)\n",
            "Requirement already satisfied: idna<4,>=2.5 in /usr/local/lib/python3.10/dist-packages (from requests>=2.31->yfinance) (3.4)\n",
            "Requirement already satisfied: urllib3<3,>=1.21.1 in /usr/local/lib/python3.10/dist-packages (from requests>=2.31->yfinance) (2.0.6)\n",
            "Requirement already satisfied: certifi>=2017.4.17 in /usr/local/lib/python3.10/dist-packages (from requests>=2.31->yfinance) (2023.7.22)\n",
            "Requirement already satisfied: pandas-datareader in /usr/local/lib/python3.10/dist-packages (0.10.0)\n",
            "Requirement already satisfied: lxml in /usr/local/lib/python3.10/dist-packages (from pandas-datareader) (4.9.3)\n",
            "Requirement already satisfied: pandas>=0.23 in /usr/local/lib/python3.10/dist-packages (from pandas-datareader) (1.5.3)\n",
            "Requirement already satisfied: requests>=2.19.0 in /usr/local/lib/python3.10/dist-packages (from pandas-datareader) (2.31.0)\n",
            "Requirement already satisfied: python-dateutil>=2.8.1 in /usr/local/lib/python3.10/dist-packages (from pandas>=0.23->pandas-datareader) (2.8.2)\n",
            "Requirement already satisfied: pytz>=2020.1 in /usr/local/lib/python3.10/dist-packages (from pandas>=0.23->pandas-datareader) (2023.3.post1)\n",
            "Requirement already satisfied: numpy>=1.21.0 in /usr/local/lib/python3.10/dist-packages (from pandas>=0.23->pandas-datareader) (1.23.5)\n",
            "Requirement already satisfied: charset-normalizer<4,>=2 in /usr/local/lib/python3.10/dist-packages (from requests>=2.19.0->pandas-datareader) (3.3.0)\n",
            "Requirement already satisfied: idna<4,>=2.5 in /usr/local/lib/python3.10/dist-packages (from requests>=2.19.0->pandas-datareader) (3.4)\n",
            "Requirement already satisfied: urllib3<3,>=1.21.1 in /usr/local/lib/python3.10/dist-packages (from requests>=2.19.0->pandas-datareader) (2.0.6)\n",
            "Requirement already satisfied: certifi>=2017.4.17 in /usr/local/lib/python3.10/dist-packages (from requests>=2.19.0->pandas-datareader) (2023.7.22)\n",
            "Requirement already satisfied: six>=1.5 in /usr/local/lib/python3.10/dist-packages (from python-dateutil>=2.8.1->pandas>=0.23->pandas-datareader) (1.16.0)\n",
            "Collecting fix-yahoo-finance\n",
            "  Downloading fix-yahoo-finance-0.1.37.tar.gz (6.3 kB)\n",
            "  Preparing metadata (setup.py) ... \u001b[?25l\u001b[?25hdone\n",
            "Requirement already satisfied: yfinance in /usr/local/lib/python3.10/dist-packages (from fix-yahoo-finance) (0.2.31)\n",
            "Requirement already satisfied: pandas>=1.3.0 in /usr/local/lib/python3.10/dist-packages (from yfinance->fix-yahoo-finance) (1.5.3)\n",
            "Requirement already satisfied: numpy>=1.16.5 in /usr/local/lib/python3.10/dist-packages (from yfinance->fix-yahoo-finance) (1.23.5)\n",
            "Requirement already satisfied: requests>=2.31 in /usr/local/lib/python3.10/dist-packages (from yfinance->fix-yahoo-finance) (2.31.0)\n",
            "Requirement already satisfied: multitasking>=0.0.7 in /usr/local/lib/python3.10/dist-packages (from yfinance->fix-yahoo-finance) (0.0.11)\n",
            "Requirement already satisfied: lxml>=4.9.1 in /usr/local/lib/python3.10/dist-packages (from yfinance->fix-yahoo-finance) (4.9.3)\n",
            "Requirement already satisfied: appdirs>=1.4.4 in /usr/local/lib/python3.10/dist-packages (from yfinance->fix-yahoo-finance) (1.4.4)\n",
            "Requirement already satisfied: pytz>=2022.5 in /usr/local/lib/python3.10/dist-packages (from yfinance->fix-yahoo-finance) (2023.3.post1)\n",
            "Requirement already satisfied: frozendict>=2.3.4 in /usr/local/lib/python3.10/dist-packages (from yfinance->fix-yahoo-finance) (2.3.8)\n",
            "Requirement already satisfied: peewee>=3.16.2 in /usr/local/lib/python3.10/dist-packages (from yfinance->fix-yahoo-finance) (3.16.3)\n",
            "Requirement already satisfied: beautifulsoup4>=4.11.1 in /usr/local/lib/python3.10/dist-packages (from yfinance->fix-yahoo-finance) (4.11.2)\n",
            "Requirement already satisfied: html5lib>=1.1 in /usr/local/lib/python3.10/dist-packages (from yfinance->fix-yahoo-finance) (1.1)\n",
            "Requirement already satisfied: soupsieve>1.2 in /usr/local/lib/python3.10/dist-packages (from beautifulsoup4>=4.11.1->yfinance->fix-yahoo-finance) (2.5)\n",
            "Requirement already satisfied: six>=1.9 in /usr/local/lib/python3.10/dist-packages (from html5lib>=1.1->yfinance->fix-yahoo-finance) (1.16.0)\n",
            "Requirement already satisfied: webencodings in /usr/local/lib/python3.10/dist-packages (from html5lib>=1.1->yfinance->fix-yahoo-finance) (0.5.1)\n",
            "Requirement already satisfied: python-dateutil>=2.8.1 in /usr/local/lib/python3.10/dist-packages (from pandas>=1.3.0->yfinance->fix-yahoo-finance) (2.8.2)\n",
            "Requirement already satisfied: charset-normalizer<4,>=2 in /usr/local/lib/python3.10/dist-packages (from requests>=2.31->yfinance->fix-yahoo-finance) (3.3.0)\n",
            "Requirement already satisfied: idna<4,>=2.5 in /usr/local/lib/python3.10/dist-packages (from requests>=2.31->yfinance->fix-yahoo-finance) (3.4)\n",
            "Requirement already satisfied: urllib3<3,>=1.21.1 in /usr/local/lib/python3.10/dist-packages (from requests>=2.31->yfinance->fix-yahoo-finance) (2.0.6)\n",
            "Requirement already satisfied: certifi>=2017.4.17 in /usr/local/lib/python3.10/dist-packages (from requests>=2.31->yfinance->fix-yahoo-finance) (2023.7.22)\n",
            "Building wheels for collected packages: fix-yahoo-finance\n",
            "  Building wheel for fix-yahoo-finance (setup.py) ... \u001b[?25l\u001b[?25hdone\n",
            "  Created wheel for fix-yahoo-finance: filename=fix_yahoo_finance-0.1.37-py3-none-any.whl size=7073 sha256=a0fededd0cb19f78a5ebbad3dddfc1a564b6343faec110c783144674897f6175\n",
            "  Stored in directory: /root/.cache/pip/wheels/1e/5e/ca/d9dbe97f5c895289286a5f99311e9e9633c9898f35d42802ca\n",
            "Successfully built fix-yahoo-finance\n",
            "Installing collected packages: fix-yahoo-finance\n",
            "Successfully installed fix-yahoo-finance-0.1.37\n"
          ]
        }
      ]
    },
    {
      "cell_type": "markdown",
      "source": [
        "**UTILIDAD DE LOS PAQUETES**\n",
        "\n",
        "\n",
        "1.   *pandas:* Se utiliza en Python para importar la biblioteca pandas con un alias. La biblioteca pandas es una biblioteca muy popular para el análisis y manipulación de datos en Python, y se utiliza ampliamente en ciencia de datos y análisis de datos.\n",
        "2.   *import numpy as np:* Se utiliza en Python para importar la biblioteca NumPy con un alias. NumPy es una biblioteca fundamental en Python que proporciona soporte para trabajar con matrices y arreglos multidimensionales, junto con una amplia variedad de funciones y operaciones matemáticas y numéricas. La razón principal para importar NumPy con el alias np es simplificar el acceso a sus funciones y métodos, ya que np es un nombre corto y comúnmente utilizado en la comunidad de Python.\n",
        "3. *Matplotlib:* Es una biblioteca muy popular para la creación de gráficos y visualizaciones en Python\n",
        "4. *import statsmodels.graphics.tsaplots as sgt*: Se utiliza en Python para importar un módulo específico de la biblioteca statsmodels llamado graphics.tsaplots con un alias sgt. Este módulo se utiliza para crear y visualizar gráficos y tramas relacionados con el análisis de series temporales.\n",
        "5. *from statsmodels.tsa.arima_model import ARMA*: Se utiliza en Python para importar la clase ARMA del módulo arima_model dentro de la biblioteca statsmodels. ARMA es un acrónimo de \"Media móvil autorregresiva\", y se refiere a un tipo de modelo utilizado en el análisis de series temporales para modelar y predecir datos secuenciales.\n",
        "6. *from scipy.stats.distributions import chi2*: Se utiliza en Python para importar la distribución chi-cuadrado (chi-square) de la biblioteca SciPy.\n",
        "7. *import statsmodels.tsa.stattools as sts*: Se utiliza en Python para importar el módulo stattools dentro de la biblioteca statsmodels con el alias sts. Este módulo proporciona una variedad de herramientas y funciones relacionadas con el análisis de series temporales en estadísticas.\n",
        "8. *import seaborn as sns*: Se utiliza en Python para importar la biblioteca Seaborn con el alias sns. Seaborn es una biblioteca de visualización de datos basada en Matplotlib que simplifica y mejora la creación de gráficos estadísticos y visuales en Python.\n",
        "9. *sns.set()*: Es una función de la biblioteca Seaborn en Python que se utiliza para configurar y personalizar la apariencia de los gráficos generados por Seaborn. Seaborn proporciona una variedad de paletas de colores, estilos y ajustes por defecto que se pueden personalizar según tus preferencias."
      ],
      "metadata": {
        "id": "W2jyjht-17Sv"
      }
    },
    {
      "cell_type": "markdown",
      "source": [
        "#**IMPORTANDO PAQUETES**\n"
      ],
      "metadata": {
        "id": "zK-VTVuy_9Dl"
      }
    },
    {
      "cell_type": "code",
      "execution_count": 16,
      "metadata": {
        "id": "lmE43SDq1het"
      },
      "outputs": [],
      "source": [
        "#Importando los paquetes relevantes\n",
        "import pandas as pd\n",
        "import numpy as np\n",
        "import yfinance\n",
        "import matplotlib.pyplot as plt\n",
        "import statsmodels.api as sm\n",
        "import statsmodels.graphics.tsaplots as sgt\n",
        "from statsmodels.tsa.arima_model import ARMA\n",
        "from statsmodels.tsa.arima_model import ARIMA\n",
        "from scipy.stats.distributions import chi2\n",
        "import statsmodels.tsa.stattools as sts\n",
        "import seaborn as sns\n",
        "sns.set()"
      ]
    },
    {
      "cell_type": "markdown",
      "source": [
        "#**Importación de datos y preprocesamiento**"
      ],
      "metadata": {
        "id": "9YAqXl7QDTYQ"
      }
    },
    {
      "cell_type": "code",
      "source": [
        "raw_csv_data = pd.read_csv('/content/drive/MyDrive/SegundaTarea_VolatilidadenPython/df_comp.csv')\n",
        "df_comp=raw_csv_data.copy()\n",
        "df_comp.date = pd.to_datetime(df_comp.date, dayfirst = True)\n",
        "df_comp.set_index(\"date\", inplace=True)\n",
        "df_comp=df_comp.asfreq('b')\n",
        "df_comp=df_comp.fillna(method='ffill')"
      ],
      "metadata": {
        "id": "xjGWZBr_DHLV"
      },
      "execution_count": 3,
      "outputs": []
    },
    {
      "cell_type": "code",
      "source": [
        "df_comp['market_value']=df_comp.ftse"
      ],
      "metadata": {
        "id": "Q5xYgXLdDaQO"
      },
      "execution_count": 4,
      "outputs": []
    },
    {
      "cell_type": "code",
      "source": [
        "size = int(len(df_comp)*0.8)\n",
        "df, df_test = df_comp.iloc[:size], df_comp.iloc[size:]"
      ],
      "metadata": {
        "id": "hD-RjHoKDdi_"
      },
      "execution_count": 5,
      "outputs": []
    },
    {
      "cell_type": "markdown",
      "source": [
        "**LLR Test**\n",
        "\n",
        "\"Likelihood Ratio Test\" o \"Prueba de Razón de Verosimilitud\" es una técnica estadística utilizada en el contexto de modelos de regresión y análisis de varianza. Esta prueba se utiliza para comparar dos modelos estadísticos, uno de los cuales es un subconjunto del otro, y determinar si el modelo más complejo (con más parámetros) es estadísticamente significativamente mejor que el modelo más simple (con menos parámetros)."
      ],
      "metadata": {
        "id": "DdOD4qmN_4Td"
      }
    },
    {
      "cell_type": "code",
      "source": [
        "def LLR_test(mod_1, mod_2, DF=1):\n",
        "    L1 = mod_1.fit().llf\n",
        "    L2 = mod_2.fit().llf\n",
        "    LR = (2*(L2-L1))\n",
        "    p = chi2.sf(LR, DF).round(3)\n",
        "    return p"
      ],
      "metadata": {
        "id": "bS5JNqJg_6oF"
      },
      "execution_count": 6,
      "outputs": []
    },
    {
      "cell_type": "markdown",
      "source": [
        "**El DF-Test**\n",
        "\n",
        "Dickey-Fuller Test, es una prueba estadística que se utiliza en el contexto de análisis de series temporales para verificar si una serie temporal es estacionaria o no estacionaria. La estacionariedad es una propiedad importante en el análisis de series temporales, ya que muchas técnicas y modelos requieren que los datos sean estacionarios para funcionar correctamente."
      ],
      "metadata": {
        "id": "zp4EEQvKAtxQ"
      }
    },
    {
      "cell_type": "markdown",
      "source": [
        "**Datos extras**\n",
        "\n",
        "El código *sts.adfuller(df.market_value)* es una llamada a la función adfuller de alguna biblioteca o paquete de Python, como Statsmodels. Esta función se utiliza para realizar el Test de Dickey-Fuller Aumentado (Augmented Dickey-Fuller Test o ADF Test, en inglés), que es una prueba estadística utilizada para evaluar la estacionariedad de una serie temporal, especialmente en el contexto de análisis de series financieras."
      ],
      "metadata": {
        "id": "e9Z20dsccVGe"
      }
    },
    {
      "cell_type": "code",
      "source": [
        "sts.adfuller(df.market_value)"
      ],
      "metadata": {
        "id": "Og354CjnAwLe",
        "outputId": "939ced6a-2e81-4b12-b9df-f37015dac904",
        "colab": {
          "base_uri": "https://localhost:8080/"
        }
      },
      "execution_count": 7,
      "outputs": [
        {
          "output_type": "execute_result",
          "data": {
            "text/plain": [
              "(-2.1953112298839157,\n",
              " 0.20795160917921918,\n",
              " 7,\n",
              " 988,\n",
              " {'1%': -3.4369860032923145,\n",
              "  '5%': -2.8644697838498376,\n",
              "  '10%': -2.5683299626694422},\n",
              " 11213.149733515938)"
            ]
          },
          "metadata": {},
          "execution_count": 7
        }
      ]
    },
    {
      "cell_type": "markdown",
      "source": [
        "#**Usando devoluciones**\n",
        "\n",
        "\n",
        "\n",
        "1.  *df['returns'] = df.market_value.pct_change(1).mul(100)*: Esta línea crea una nueva columna llamada \"returns\" en el DataFrame df. La columna \"returns\" contendrá los rendimientos diarios de la serie de datos \"market_value\". Para calcular los rendimientos diarios, se utilizan los siguientes pasos:\n",
        "\n",
        "\n",
        "*   df.market_value: Se accede a la columna \"market_value\" en el DataFrame df, que se supone contiene los valores diarios de algún instrumento financiero, como una acción o un índice.\n",
        "*   .pct_change(1): Esta función calcula el cambio porcentual entre un día y el día siguiente para cada valor en la columna \"market_value\". El argumento \"1\" indica que se está calculando el cambio en un período de un día.\n",
        "*   .mul(100): Multiplica el resultado por 100 para expresar los rendimientos en términos porcentuales. Esto convierte los cambios relativos en porcentajes.\n",
        "\n",
        "\n",
        "2.  *df = df.iloc[1:]*: Después de calcular los rendimientos diarios y almacenarlos en la columna \"returns\", esta línea elimina la primera fila de datos en el DataFrame df. Esto se hace utilizando df.iloc[1:], que selecciona todas las filas a partir de la segunda fila en adelante, descartando la primera fila. Esto es común en el análisis de series temporales financieras, ya que la primera fila generalmente contiene valores nulos o no se pueden calcular rendimientos debido a la falta de datos previos."
      ],
      "metadata": {
        "id": "cOhqxuP-cVC8"
      }
    },
    {
      "cell_type": "code",
      "source": [
        "df['returns'] = df.market_value.pct_change(1).mul(100)\n",
        "df = df.iloc[1:]"
      ],
      "metadata": {
        "colab": {
          "base_uri": "https://localhost:8080/"
        },
        "id": "2FnactoCcXdF",
        "outputId": "4718c6aa-e0ee-487f-d006-0354ffb22da6"
      },
      "execution_count": 8,
      "outputs": [
        {
          "output_type": "stream",
          "name": "stderr",
          "text": [
            "<ipython-input-8-fca9bc180084>:1: SettingWithCopyWarning: \n",
            "A value is trying to be set on a copy of a slice from a DataFrame.\n",
            "Try using .loc[row_indexer,col_indexer] = value instead\n",
            "\n",
            "See the caveats in the documentation: https://pandas.pydata.org/pandas-docs/stable/user_guide/indexing.html#returning-a-view-versus-a-copy\n",
            "  df['returns'] = df.market_value.pct_change(1).mul(100)\n"
          ]
        }
      ]
    },
    {
      "cell_type": "code",
      "source": [
        "sts.adfuller(df.returns)"
      ],
      "metadata": {
        "colab": {
          "base_uri": "https://localhost:8080/"
        },
        "id": "RYu8X_V_f6RI",
        "outputId": "17563dbc-5b34-4904-96b0-90d3c7aae4ef"
      },
      "execution_count": 9,
      "outputs": [
        {
          "output_type": "execute_result",
          "data": {
            "text/plain": [
              "(-11.301555663436806,\n",
              " 1.3036968744849428e-20,\n",
              " 7,\n",
              " 987,\n",
              " {'1%': -3.4369927443074353,\n",
              "  '5%': -2.864472756705845,\n",
              "  '10%': -2.568331546097238},\n",
              " 3086.055887783363)"
            ]
          },
          "metadata": {},
          "execution_count": 9
        }
      ]
    },
    {
      "cell_type": "markdown",
      "source": [
        "#**ACF and PACF for Returns**\n",
        "\n",
        "\n",
        "1.  *sgt.plot_acf(df.returns, lags=40, zero=False)*: Este código utiliza una función o método llamado sgt.plot_acf para trazar la función de autocorrelación (ACF) de los rendimientos diarios. La ACF muestra cómo están correlacionados los valores en la serie consigo mismos a medida que se desplazan en el tiempo (lags). En este caso, se trazarán los valores de ACF para un máximo de 40 lags. El argumento zero=False significa que no se mostrará la autocorrelación en el lag 0, que generalmente es igual a 1.\n",
        "\n",
        "2. *plt.title(\"ACF FTSE Returns\", size=24)*: Esta línea establece el título del gráfico. El título es \"ACF FTSE Returns\", lo que indica que el gráfico representa la función de autocorrelación de los rendimientos del índice FTSE.\n",
        "\n",
        "3. *plt.show()*: Esta línea muestra el gráfico en la pantalla.\n",
        "\n",
        "\n"
      ],
      "metadata": {
        "id": "Q3D7XiNTgBTO"
      }
    },
    {
      "cell_type": "code",
      "source": [
        "sgt.plot_acf(df.returns, lags=40, zero = False)\n",
        "plt.title(\"Función de autocorrelación FTSE Returns\", size=24)\n",
        "plt.show()"
      ],
      "metadata": {
        "colab": {
          "base_uri": "https://localhost:8080/",
          "height": 469
        },
        "id": "3ItYzaSNgD0e",
        "outputId": "602fcbf0-8af0-4947-d412-f1a8ef4e5295"
      },
      "execution_count": 11,
      "outputs": [
        {
          "output_type": "display_data",
          "data": {
            "text/plain": [
              "<Figure size 640x480 with 1 Axes>"
            ],
            "image/png": "[encoded data removed]"
          },
          "metadata": {}
        }
      ]
    },
    {
      "cell_type": "markdown",
      "source": [
        "\n",
        "\n",
        "1.  *sgt.plot_pacf(df.returns, lags=40, zero=False, method='ols')*: Esta línea utiliza una función o método llamado sgt.plot_pacf para trazar la función de autocorrelación parcial (PACF) de los rendimientos diarios. La PACF muestra la correlación entre un valor en un lag específico y los valores en lags anteriores, teniendo en cuenta los efectos de los lags intermedios. En este caso, se trazarán los valores de PACF para un máximo de 40 lags. El argumento zero=False significa que no se mostrará la autocorrelación parcial en el lag 0, que generalmente es igual a 1. El argumento method='ols' indica que se está utilizando el método de Mínimos Cuadrados Ordinarios (OLS) para estimar los coeficientes de la PACF.\n",
        "\n",
        "2. *plt.title(\"PACF FTSE Returns\", size=24)*: Esta línea establece el título del gráfico. El título es \"PACF FTSE Returns\", lo que indica que el gráfico representa la función de autocorrelación parcial de los rendimientos del índice FTSE.\n",
        "\n",
        "3. *plt.show()*: Esta línea muestra el gráfico en la pantalla.\n",
        "\n"
      ],
      "metadata": {
        "id": "vPSENZO9fyEL"
      }
    },
    {
      "cell_type": "code",
      "source": [
        "sgt.plot_pacf(df.returns, lags = 40, zero = False, method = ('ols'))\n",
        "plt.title(\"Función de autocorrelación parcial FTSE Returns\", size=24)\n",
        "plt.show()"
      ],
      "metadata": {
        "colab": {
          "base_uri": "https://localhost:8080/",
          "height": 470
        },
        "id": "BYd3hyhUgNoB",
        "outputId": "489fbb26-16d8-4594-9ebe-19c4da694c2a"
      },
      "execution_count": 12,
      "outputs": [
        {
          "output_type": "display_data",
          "data": {
            "text/plain": [
              "<Figure size 640x480 with 1 Axes>"
            ],
            "image/png": "[encoded data removed]"
          },
          "metadata": {}
        }
      ]
    },
    {
      "cell_type": "markdown",
      "source": [
        "#**AR(1) for Returns**\n",
        "\n",
        "\n",
        "1.   *import statsmodels.api as sm*: Esta línea importa la biblioteca statsmodels bajo el alias sm. Esta biblioteca proporciona herramientas para realizar análisis de series temporales, incluyendo la construcción de modelos ARIMA.\n",
        "2.   *order = (1, 0, 0)*: Aquí se especifica el orden del modelo ARIMA que se va a ajustar. El orden (1, 0, 0) indica que se trata de un modelo ARIMA(p, d, q) donde:\n",
        "\n",
        "\n",
        "*   p: Es el orden del componente autorregresivo (AR) y se establece en 1.\n",
        "*   d: Es el orden de diferenciación (I) y se establece en 0, lo que significa que los datos de entrada ya son estacionarios.\n",
        "*   q: Es el orden del componente de media móvil (MA) y se establece en 0.\n",
        "\n",
        "3. *model_ret_ar_1 = sm.tsa.ARIMA(df.returns, order=order)*: Aquí se crea un objeto ARIMA utilizando el orden especificado. df.returns se utiliza como la serie temporal de entrada que se va a modelar.\n",
        "\n",
        "4. *results_ret_ar_1 = model_ret_ar_1.fit()*: Esta línea ajusta el modelo ARIMA a los datos de la serie temporal df.returns utilizando el orden especificado. El resultado del ajuste se almacena en la variable results_ret_ar_1.\n",
        "\n",
        "5. *results_ret_ar_1.summary()*: Finalmente, esta línea muestra un resumen estadístico del modelo ARIMA ajustado. El resumen incluye información importante sobre los parámetros del modelo, la calidad del ajuste y las estadísticas de diagnóstico.\n",
        "\n",
        "\n",
        "\n"
      ],
      "metadata": {
        "id": "9aWdmRewhWWh"
      }
    },
    {
      "cell_type": "code",
      "source": [
        "import statsmodels.api as sm\n",
        "# Especifica el orden del modelo ARMA (1, 0)\n",
        "order = (1, 0, 0)\n",
        "# Crea el modelo ARIMA\n",
        "model_ret_ar_1 = sm.tsa.ARIMA(df.returns, order=order)\n",
        "# Ajusta el modelo a tus datos\n",
        "results_ret_ar_1 = model_ret_ar_1.fit()\n",
        "# Para ver el resumen estadístico\n",
        "results_ret_ar_1.summary()"
      ],
      "metadata": {
        "colab": {
          "base_uri": "https://localhost:8080/",
          "height": 423
        },
        "outputId": "6ce05bd5-0ac0-486f-cba5-7a81301e5ed6",
        "id": "vB8uGywnmDvZ"
      },
      "execution_count": 18,
      "outputs": [
        {
          "output_type": "execute_result",
          "data": {
            "text/plain": [
              "<class 'statsmodels.iolib.summary.Summary'>\n",
              "\"\"\"\n",
              "                               SARIMAX Results                                \n",
              "==============================================================================\n",
              "Dep. Variable:                returns   No. Observations:                  995\n",
              "Model:                 ARIMA(1, 0, 0)   Log Likelihood               -1588.975\n",
              "Date:                Wed, 11 Oct 2023   AIC                           3183.951\n",
              "Time:                        02:55:12   BIC                           3198.659\n",
              "Sample:                    12-04-2018   HQIC                          3189.542\n",
              "                         - 09-26-2022                                         \n",
              "Covariance Type:                  opg                                         \n",
              "==============================================================================\n",
              "                 coef    std err          z      P>|z|      [0.025      0.975]\n",
              "------------------------------------------------------------------------------\n",
              "const          0.0066      0.038      0.172      0.863      -0.069       0.082\n",
              "ar.L1         -0.0282      0.017     -1.623      0.105      -0.062       0.006\n",
              "sigma2         1.4276      0.024     59.371      0.000       1.381       1.475\n",
              "===================================================================================\n",
              "Ljung-Box (L1) (Q):                   0.00   Jarque-Bera (JB):              7156.74\n",
              "Prob(Q):                              1.00   Prob(JB):                         0.00\n",
              "Heteroskedasticity (H):               1.00   Skew:                            -0.90\n",
              "Prob(H) (two-sided):                  0.97   Kurtosis:                        16.01\n",
              "===================================================================================\n",
              "\n",
              "Warnings:\n",
              "[1] Covariance matrix calculated using the outer product of gradients (complex-step).\n",
              "\"\"\""
            ],
            "text/html": [
              "<table class=\"simpletable\">\n",
              "<caption>SARIMAX Results</caption>\n",
              "<tr>\n",
              "  <th>Dep. Variable:</th>        <td>returns</td>     <th>  No. Observations:  </th>    <td>995</td>   \n",
              "</tr>\n",
              "<tr>\n",
              "  <th>Model:</th>            <td>ARIMA(1, 0, 0)</td>  <th>  Log Likelihood     </th> <td>-1588.975</td>\n",
              "</tr>\n",
              "<tr>\n",
              "  <th>Date:</th>            <td>Wed, 11 Oct 2023</td> <th>  AIC                </th> <td>3183.951</td> \n",
              "</tr>\n",
              "<tr>\n",
              "  <th>Time:</th>                <td>02:55:12</td>     <th>  BIC                </th> <td>3198.659</td> \n",
              "</tr>\n",
              "<tr>\n",
              "  <th>Sample:</th>             <td>12-04-2018</td>    <th>  HQIC               </th> <td>3189.542</td> \n",
              "</tr>\n",
              "<tr>\n",
              "  <th></th>                   <td>- 09-26-2022</td>   <th>                     </th>     <td> </td>    \n",
              "</tr>\n",
              "<tr>\n",
              "  <th>Covariance Type:</th>        <td>opg</td>       <th>                     </th>     <td> </td>    \n",
              "</tr>\n",
              "</table>\n",
              "<table class=\"simpletable\">\n",
              "<tr>\n",
              "     <td></td>       <th>coef</th>     <th>std err</th>      <th>z</th>      <th>P>|z|</th>  <th>[0.025</th>    <th>0.975]</th>  \n",
              "</tr>\n",
              "<tr>\n",
              "  <th>const</th>  <td>    0.0066</td> <td>    0.038</td> <td>    0.172</td> <td> 0.863</td> <td>   -0.069</td> <td>    0.082</td>\n",
              "</tr>\n",
              "<tr>\n",
              "  <th>ar.L1</th>  <td>   -0.0282</td> <td>    0.017</td> <td>   -1.623</td> <td> 0.105</td> <td>   -0.062</td> <td>    0.006</td>\n",
              "</tr>\n",
              "<tr>\n",
              "  <th>sigma2</th> <td>    1.4276</td> <td>    0.024</td> <td>   59.371</td> <td> 0.000</td> <td>    1.381</td> <td>    1.475</td>\n",
              "</tr>\n",
              "</table>\n",
              "<table class=\"simpletable\">\n",
              "<tr>\n",
              "  <th>Ljung-Box (L1) (Q):</th>     <td>0.00</td> <th>  Jarque-Bera (JB):  </th> <td>7156.74</td>\n",
              "</tr>\n",
              "<tr>\n",
              "  <th>Prob(Q):</th>                <td>1.00</td> <th>  Prob(JB):          </th>  <td>0.00</td>  \n",
              "</tr>\n",
              "<tr>\n",
              "  <th>Heteroskedasticity (H):</th> <td>1.00</td> <th>  Skew:              </th>  <td>-0.90</td> \n",
              "</tr>\n",
              "<tr>\n",
              "  <th>Prob(H) (two-sided):</th>    <td>0.97</td> <th>  Kurtosis:          </th>  <td>16.01</td> \n",
              "</tr>\n",
              "</table><br/><br/>Warnings:<br/>[1] Covariance matrix calculated using the outer product of gradients (complex-step)."
            ],
            "text/latex": "\\begin{center}\n\\begin{tabular}{lclc}\n\\toprule\n\\textbf{Dep. Variable:}          &     returns      & \\textbf{  No. Observations:  } &    995      \\\\\n\\textbf{Model:}                  &  ARIMA(1, 0, 0)  & \\textbf{  Log Likelihood     } & -1588.975   \\\\\n\\textbf{Date:}                   & Wed, 11 Oct 2023 & \\textbf{  AIC                } &  3183.951   \\\\\n\\textbf{Time:}                   &     02:55:12     & \\textbf{  BIC                } &  3198.659   \\\\\n\\textbf{Sample:}                 &    12-04-2018    & \\textbf{  HQIC               } &  3189.542   \\\\\n\\textbf{}                        &   - 09-26-2022   & \\textbf{                     } &             \\\\\n\\textbf{Covariance Type:}        &       opg        & \\textbf{                     } &             \\\\\n\\bottomrule\n\\end{tabular}\n\\begin{tabular}{lcccccc}\n                & \\textbf{coef} & \\textbf{std err} & \\textbf{z} & \\textbf{P$> |$z$|$} & \\textbf{[0.025} & \\textbf{0.975]}  \\\\\n\\midrule\n\\textbf{const}  &       0.0066  &        0.038     &     0.172  &         0.863        &       -0.069    &        0.082     \\\\\n\\textbf{ar.L1}  &      -0.0282  &        0.017     &    -1.623  &         0.105        &       -0.062    &        0.006     \\\\\n\\textbf{sigma2} &       1.4276  &        0.024     &    59.371  &         0.000        &        1.381    &        1.475     \\\\\n\\bottomrule\n\\end{tabular}\n\\begin{tabular}{lclc}\n\\textbf{Ljung-Box (L1) (Q):}     & 0.00 & \\textbf{  Jarque-Bera (JB):  } & 7156.74  \\\\\n\\textbf{Prob(Q):}                & 1.00 & \\textbf{  Prob(JB):          } &   0.00   \\\\\n\\textbf{Heteroskedasticity (H):} & 1.00 & \\textbf{  Skew:              } &  -0.90   \\\\\n\\textbf{Prob(H) (two-sided):}    & 0.97 & \\textbf{  Kurtosis:          } &  16.01   \\\\\n\\bottomrule\n\\end{tabular}\n%\\caption{SARIMAX Results}\n\\end{center}\n\nWarnings: \\newline\n [1] Covariance matrix calculated using the outer product of gradients (complex-step)."
          },
          "metadata": {},
          "execution_count": 18
        }
      ]
    },
    {
      "cell_type": "markdown",
      "source": [
        "#**Modelos AR de mayor retraso para devoluciones**"
      ],
      "metadata": {
        "id": "zYstuQhpnj9y"
      }
    },
    {
      "cell_type": "markdown",
      "source": [
        "**AR(2)**"
      ],
      "metadata": {
        "id": "FbfKlmwrn-Qn"
      }
    },
    {
      "cell_type": "code",
      "source": [
        "#AR(2)\n",
        "# Especifica el orden del modelo ARMA (2, 0)\n",
        "order = (2, 0, 0)\n",
        "# Crea el modelo ARIMA\n",
        "model_ret_ar_2 = sm.tsa.ARIMA(df.returns, order=order)\n",
        "# Ajusta el modelo a tus datos\n",
        "results_ret_ar_2 = model_ret_ar_2.fit()\n",
        "# Para ver el resumen estadístico\n",
        "results_ret_ar_2.summary()\n",
        "\n"
      ],
      "metadata": {
        "colab": {
          "base_uri": "https://localhost:8080/",
          "height": 444
        },
        "id": "FmSACkTSn54u",
        "outputId": "3fb6d1ca-e60e-4012-b813-4c84a451b0d9"
      },
      "execution_count": 14,
      "outputs": [
        {
          "output_type": "execute_result",
          "data": {
            "text/plain": [
              "<class 'statsmodels.iolib.summary.Summary'>\n",
              "\"\"\"\n",
              "                               SARIMAX Results                                \n",
              "==============================================================================\n",
              "Dep. Variable:                returns   No. Observations:                  995\n",
              "Model:                 ARIMA(2, 0, 0)   Log Likelihood               -1588.968\n",
              "Date:                Wed, 11 Oct 2023   AIC                           3185.935\n",
              "Time:                        02:46:36   BIC                           3205.546\n",
              "Sample:                    12-04-2018   HQIC                          3193.390\n",
              "                         - 09-26-2022                                         \n",
              "Covariance Type:                  opg                                         \n",
              "==============================================================================\n",
              "                 coef    std err          z      P>|z|      [0.025      0.975]\n",
              "------------------------------------------------------------------------------\n",
              "const          0.0066      0.039      0.171      0.864      -0.069       0.082\n",
              "ar.L1         -0.0280      0.018     -1.595      0.111      -0.062       0.006\n",
              "ar.L2          0.0040      0.020      0.203      0.839      -0.034       0.042\n",
              "sigma2         1.4276      0.024     59.180      0.000       1.380       1.475\n",
              "===================================================================================\n",
              "Ljung-Box (L1) (Q):                   0.00   Jarque-Bera (JB):              7146.91\n",
              "Prob(Q):                              1.00   Prob(JB):                         0.00\n",
              "Heteroskedasticity (H):               1.01   Skew:                            -0.90\n",
              "Prob(H) (two-sided):                  0.96   Kurtosis:                        16.00\n",
              "===================================================================================\n",
              "\n",
              "Warnings:\n",
              "[1] Covariance matrix calculated using the outer product of gradients (complex-step).\n",
              "\"\"\""
            ],
            "text/html": [
              "<table class=\"simpletable\">\n",
              "<caption>SARIMAX Results</caption>\n",
              "<tr>\n",
              "  <th>Dep. Variable:</th>        <td>returns</td>     <th>  No. Observations:  </th>    <td>995</td>   \n",
              "</tr>\n",
              "<tr>\n",
              "  <th>Model:</th>            <td>ARIMA(2, 0, 0)</td>  <th>  Log Likelihood     </th> <td>-1588.968</td>\n",
              "</tr>\n",
              "<tr>\n",
              "  <th>Date:</th>            <td>Wed, 11 Oct 2023</td> <th>  AIC                </th> <td>3185.935</td> \n",
              "</tr>\n",
              "<tr>\n",
              "  <th>Time:</th>                <td>02:46:36</td>     <th>  BIC                </th> <td>3205.546</td> \n",
              "</tr>\n",
              "<tr>\n",
              "  <th>Sample:</th>             <td>12-04-2018</td>    <th>  HQIC               </th> <td>3193.390</td> \n",
              "</tr>\n",
              "<tr>\n",
              "  <th></th>                   <td>- 09-26-2022</td>   <th>                     </th>     <td> </td>    \n",
              "</tr>\n",
              "<tr>\n",
              "  <th>Covariance Type:</th>        <td>opg</td>       <th>                     </th>     <td> </td>    \n",
              "</tr>\n",
              "</table>\n",
              "<table class=\"simpletable\">\n",
              "<tr>\n",
              "     <td></td>       <th>coef</th>     <th>std err</th>      <th>z</th>      <th>P>|z|</th>  <th>[0.025</th>    <th>0.975]</th>  \n",
              "</tr>\n",
              "<tr>\n",
              "  <th>const</th>  <td>    0.0066</td> <td>    0.039</td> <td>    0.171</td> <td> 0.864</td> <td>   -0.069</td> <td>    0.082</td>\n",
              "</tr>\n",
              "<tr>\n",
              "  <th>ar.L1</th>  <td>   -0.0280</td> <td>    0.018</td> <td>   -1.595</td> <td> 0.111</td> <td>   -0.062</td> <td>    0.006</td>\n",
              "</tr>\n",
              "<tr>\n",
              "  <th>ar.L2</th>  <td>    0.0040</td> <td>    0.020</td> <td>    0.203</td> <td> 0.839</td> <td>   -0.034</td> <td>    0.042</td>\n",
              "</tr>\n",
              "<tr>\n",
              "  <th>sigma2</th> <td>    1.4276</td> <td>    0.024</td> <td>   59.180</td> <td> 0.000</td> <td>    1.380</td> <td>    1.475</td>\n",
              "</tr>\n",
              "</table>\n",
              "<table class=\"simpletable\">\n",
              "<tr>\n",
              "  <th>Ljung-Box (L1) (Q):</th>     <td>0.00</td> <th>  Jarque-Bera (JB):  </th> <td>7146.91</td>\n",
              "</tr>\n",
              "<tr>\n",
              "  <th>Prob(Q):</th>                <td>1.00</td> <th>  Prob(JB):          </th>  <td>0.00</td>  \n",
              "</tr>\n",
              "<tr>\n",
              "  <th>Heteroskedasticity (H):</th> <td>1.01</td> <th>  Skew:              </th>  <td>-0.90</td> \n",
              "</tr>\n",
              "<tr>\n",
              "  <th>Prob(H) (two-sided):</th>    <td>0.96</td> <th>  Kurtosis:          </th>  <td>16.00</td> \n",
              "</tr>\n",
              "</table><br/><br/>Warnings:<br/>[1] Covariance matrix calculated using the outer product of gradients (complex-step)."
            ],
            "text/latex": "\\begin{center}\n\\begin{tabular}{lclc}\n\\toprule\n\\textbf{Dep. Variable:}          &     returns      & \\textbf{  No. Observations:  } &    995      \\\\\n\\textbf{Model:}                  &  ARIMA(2, 0, 0)  & \\textbf{  Log Likelihood     } & -1588.968   \\\\\n\\textbf{Date:}                   & Wed, 11 Oct 2023 & \\textbf{  AIC                } &  3185.935   \\\\\n\\textbf{Time:}                   &     02:46:36     & \\textbf{  BIC                } &  3205.546   \\\\\n\\textbf{Sample:}                 &    12-04-2018    & \\textbf{  HQIC               } &  3193.390   \\\\\n\\textbf{}                        &   - 09-26-2022   & \\textbf{                     } &             \\\\\n\\textbf{Covariance Type:}        &       opg        & \\textbf{                     } &             \\\\\n\\bottomrule\n\\end{tabular}\n\\begin{tabular}{lcccccc}\n                & \\textbf{coef} & \\textbf{std err} & \\textbf{z} & \\textbf{P$> |$z$|$} & \\textbf{[0.025} & \\textbf{0.975]}  \\\\\n\\midrule\n\\textbf{const}  &       0.0066  &        0.039     &     0.171  &         0.864        &       -0.069    &        0.082     \\\\\n\\textbf{ar.L1}  &      -0.0280  &        0.018     &    -1.595  &         0.111        &       -0.062    &        0.006     \\\\\n\\textbf{ar.L2}  &       0.0040  &        0.020     &     0.203  &         0.839        &       -0.034    &        0.042     \\\\\n\\textbf{sigma2} &       1.4276  &        0.024     &    59.180  &         0.000        &        1.380    &        1.475     \\\\\n\\bottomrule\n\\end{tabular}\n\\begin{tabular}{lclc}\n\\textbf{Ljung-Box (L1) (Q):}     & 0.00 & \\textbf{  Jarque-Bera (JB):  } & 7146.91  \\\\\n\\textbf{Prob(Q):}                & 1.00 & \\textbf{  Prob(JB):          } &   0.00   \\\\\n\\textbf{Heteroskedasticity (H):} & 1.01 & \\textbf{  Skew:              } &  -0.90   \\\\\n\\textbf{Prob(H) (two-sided):}    & 0.96 & \\textbf{  Kurtosis:          } &  16.00   \\\\\n\\bottomrule\n\\end{tabular}\n%\\caption{SARIMAX Results}\n\\end{center}\n\nWarnings: \\newline\n [1] Covariance matrix calculated using the outer product of gradients (complex-step)."
          },
          "metadata": {},
          "execution_count": 14
        }
      ]
    },
    {
      "cell_type": "markdown",
      "source": [
        "**LLR-Test entre el model_ret_ar_1 y el model_ret_ar_2**\n",
        "\n",
        "Es una prueba estadística utilizada en el contexto de modelos econométricos y estadísticos para comparar la bondad de ajuste de dos modelos diferentes, generalmente un modelo más simple con uno más complejo. La prueba compara si el modelo más complejo mejora significativamente la calidad del ajuste en comparación con el modelo más simple.\n",
        "\n",
        "Si el valor p es menor que un nivel de significancia dado (generalmente 0.05), se podría concluir que el modelo model_ret_ar_2 es estadísticamente mejor que el modelo model_ret_ar_1 en términos de ajuste."
      ],
      "metadata": {
        "id": "JP07KMNLrQGG"
      }
    },
    {
      "cell_type": "code",
      "source": [
        "#LLR-Test\n",
        "LLR_test(model_ret_ar_1, model_ret_ar_2)"
      ],
      "metadata": {
        "colab": {
          "base_uri": "https://localhost:8080/"
        },
        "id": "KARqE_B8rRkR",
        "outputId": "814f8691-3ccc-4517-cdf2-23cc998c2315"
      },
      "execution_count": 19,
      "outputs": [
        {
          "output_type": "execute_result",
          "data": {
            "text/plain": [
              "0.9"
            ]
          },
          "metadata": {},
          "execution_count": 19
        }
      ]
    },
    {
      "cell_type": "markdown",
      "source": [
        "**AR(3)**\n"
      ],
      "metadata": {
        "id": "HxCnGo-ZsDlo"
      }
    },
    {
      "cell_type": "code",
      "source": [
        "#AR(3)\n",
        "# Especifica el orden del modelo ARMA (3, 0)\n",
        "order = (3, 0, 0)\n",
        "# Crea el modelo ARIMA\n",
        "model_ret_ar_3 = sm.tsa.ARIMA(df.returns, order=order)\n",
        "# Ajusta el modelo a tus datos\n",
        "results_ret_ar_3 = model_ret_ar_3.fit()\n",
        "# Para ver el resumen estadístico\n",
        "results_ret_ar_3.summary()"
      ],
      "metadata": {
        "colab": {
          "base_uri": "https://localhost:8080/",
          "height": 465
        },
        "id": "dEur-oPnsGNo",
        "outputId": "6dfa7878-7aa2-4269-895e-b2a369f76d96"
      },
      "execution_count": 20,
      "outputs": [
        {
          "output_type": "execute_result",
          "data": {
            "text/plain": [
              "<class 'statsmodels.iolib.summary.Summary'>\n",
              "\"\"\"\n",
              "                               SARIMAX Results                                \n",
              "==============================================================================\n",
              "Dep. Variable:                returns   No. Observations:                  995\n",
              "Model:                 ARIMA(3, 0, 0)   Log Likelihood               -1588.437\n",
              "Date:                Wed, 11 Oct 2023   AIC                           3186.875\n",
              "Time:                        03:04:10   BIC                           3211.389\n",
              "Sample:                    12-04-2018   HQIC                          3196.194\n",
              "                         - 09-26-2022                                         \n",
              "Covariance Type:                  opg                                         \n",
              "==============================================================================\n",
              "                 coef    std err          z      P>|z|      [0.025      0.975]\n",
              "------------------------------------------------------------------------------\n",
              "const          0.0069      0.038      0.182      0.855      -0.067       0.081\n",
              "ar.L1         -0.0280      0.018     -1.580      0.114      -0.063       0.007\n",
              "ar.L2          0.0029      0.020      0.146      0.884      -0.036       0.042\n",
              "ar.L3         -0.0328      0.015     -2.230      0.026      -0.062      -0.004\n",
              "sigma2         1.4261      0.027     52.790      0.000       1.373       1.479\n",
              "===================================================================================\n",
              "Ljung-Box (L1) (Q):                   0.00   Jarque-Bera (JB):              7907.39\n",
              "Prob(Q):                              0.99   Prob(JB):                         0.00\n",
              "Heteroskedasticity (H):               1.01   Skew:                            -0.95\n",
              "Prob(H) (two-sided):                  0.93   Kurtosis:                        16.68\n",
              "===================================================================================\n",
              "\n",
              "Warnings:\n",
              "[1] Covariance matrix calculated using the outer product of gradients (complex-step).\n",
              "\"\"\""
            ],
            "text/html": [
              "<table class=\"simpletable\">\n",
              "<caption>SARIMAX Results</caption>\n",
              "<tr>\n",
              "  <th>Dep. Variable:</th>        <td>returns</td>     <th>  No. Observations:  </th>    <td>995</td>   \n",
              "</tr>\n",
              "<tr>\n",
              "  <th>Model:</th>            <td>ARIMA(3, 0, 0)</td>  <th>  Log Likelihood     </th> <td>-1588.437</td>\n",
              "</tr>\n",
              "<tr>\n",
              "  <th>Date:</th>            <td>Wed, 11 Oct 2023</td> <th>  AIC                </th> <td>3186.875</td> \n",
              "</tr>\n",
              "<tr>\n",
              "  <th>Time:</th>                <td>03:04:10</td>     <th>  BIC                </th> <td>3211.389</td> \n",
              "</tr>\n",
              "<tr>\n",
              "  <th>Sample:</th>             <td>12-04-2018</td>    <th>  HQIC               </th> <td>3196.194</td> \n",
              "</tr>\n",
              "<tr>\n",
              "  <th></th>                   <td>- 09-26-2022</td>   <th>                     </th>     <td> </td>    \n",
              "</tr>\n",
              "<tr>\n",
              "  <th>Covariance Type:</th>        <td>opg</td>       <th>                     </th>     <td> </td>    \n",
              "</tr>\n",
              "</table>\n",
              "<table class=\"simpletable\">\n",
              "<tr>\n",
              "     <td></td>       <th>coef</th>     <th>std err</th>      <th>z</th>      <th>P>|z|</th>  <th>[0.025</th>    <th>0.975]</th>  \n",
              "</tr>\n",
              "<tr>\n",
              "  <th>const</th>  <td>    0.0069</td> <td>    0.038</td> <td>    0.182</td> <td> 0.855</td> <td>   -0.067</td> <td>    0.081</td>\n",
              "</tr>\n",
              "<tr>\n",
              "  <th>ar.L1</th>  <td>   -0.0280</td> <td>    0.018</td> <td>   -1.580</td> <td> 0.114</td> <td>   -0.063</td> <td>    0.007</td>\n",
              "</tr>\n",
              "<tr>\n",
              "  <th>ar.L2</th>  <td>    0.0029</td> <td>    0.020</td> <td>    0.146</td> <td> 0.884</td> <td>   -0.036</td> <td>    0.042</td>\n",
              "</tr>\n",
              "<tr>\n",
              "  <th>ar.L3</th>  <td>   -0.0328</td> <td>    0.015</td> <td>   -2.230</td> <td> 0.026</td> <td>   -0.062</td> <td>   -0.004</td>\n",
              "</tr>\n",
              "<tr>\n",
              "  <th>sigma2</th> <td>    1.4261</td> <td>    0.027</td> <td>   52.790</td> <td> 0.000</td> <td>    1.373</td> <td>    1.479</td>\n",
              "</tr>\n",
              "</table>\n",
              "<table class=\"simpletable\">\n",
              "<tr>\n",
              "  <th>Ljung-Box (L1) (Q):</th>     <td>0.00</td> <th>  Jarque-Bera (JB):  </th> <td>7907.39</td>\n",
              "</tr>\n",
              "<tr>\n",
              "  <th>Prob(Q):</th>                <td>0.99</td> <th>  Prob(JB):          </th>  <td>0.00</td>  \n",
              "</tr>\n",
              "<tr>\n",
              "  <th>Heteroskedasticity (H):</th> <td>1.01</td> <th>  Skew:              </th>  <td>-0.95</td> \n",
              "</tr>\n",
              "<tr>\n",
              "  <th>Prob(H) (two-sided):</th>    <td>0.93</td> <th>  Kurtosis:          </th>  <td>16.68</td> \n",
              "</tr>\n",
              "</table><br/><br/>Warnings:<br/>[1] Covariance matrix calculated using the outer product of gradients (complex-step)."
            ],
            "text/latex": "\\begin{center}\n\\begin{tabular}{lclc}\n\\toprule\n\\textbf{Dep. Variable:}          &     returns      & \\textbf{  No. Observations:  } &    995      \\\\\n\\textbf{Model:}                  &  ARIMA(3, 0, 0)  & \\textbf{  Log Likelihood     } & -1588.437   \\\\\n\\textbf{Date:}                   & Wed, 11 Oct 2023 & \\textbf{  AIC                } &  3186.875   \\\\\n\\textbf{Time:}                   &     03:04:10     & \\textbf{  BIC                } &  3211.389   \\\\\n\\textbf{Sample:}                 &    12-04-2018    & \\textbf{  HQIC               } &  3196.194   \\\\\n\\textbf{}                        &   - 09-26-2022   & \\textbf{                     } &             \\\\\n\\textbf{Covariance Type:}        &       opg        & \\textbf{                     } &             \\\\\n\\bottomrule\n\\end{tabular}\n\\begin{tabular}{lcccccc}\n                & \\textbf{coef} & \\textbf{std err} & \\textbf{z} & \\textbf{P$> |$z$|$} & \\textbf{[0.025} & \\textbf{0.975]}  \\\\\n\\midrule\n\\textbf{const}  &       0.0069  &        0.038     &     0.182  &         0.855        &       -0.067    &        0.081     \\\\\n\\textbf{ar.L1}  &      -0.0280  &        0.018     &    -1.580  &         0.114        &       -0.063    &        0.007     \\\\\n\\textbf{ar.L2}  &       0.0029  &        0.020     &     0.146  &         0.884        &       -0.036    &        0.042     \\\\\n\\textbf{ar.L3}  &      -0.0328  &        0.015     &    -2.230  &         0.026        &       -0.062    &       -0.004     \\\\\n\\textbf{sigma2} &       1.4261  &        0.027     &    52.790  &         0.000        &        1.373    &        1.479     \\\\\n\\bottomrule\n\\end{tabular}\n\\begin{tabular}{lclc}\n\\textbf{Ljung-Box (L1) (Q):}     & 0.00 & \\textbf{  Jarque-Bera (JB):  } & 7907.39  \\\\\n\\textbf{Prob(Q):}                & 0.99 & \\textbf{  Prob(JB):          } &   0.00   \\\\\n\\textbf{Heteroskedasticity (H):} & 1.01 & \\textbf{  Skew:              } &  -0.95   \\\\\n\\textbf{Prob(H) (two-sided):}    & 0.93 & \\textbf{  Kurtosis:          } &  16.68   \\\\\n\\bottomrule\n\\end{tabular}\n%\\caption{SARIMAX Results}\n\\end{center}\n\nWarnings: \\newline\n [1] Covariance matrix calculated using the outer product of gradients (complex-step)."
          },
          "metadata": {},
          "execution_count": 20
        }
      ]
    },
    {
      "cell_type": "markdown",
      "source": [
        "**LLR-Test entre el model_ret_ar_2 y el model_ret_ar_3**\n"
      ],
      "metadata": {
        "id": "qb0OBHeOskld"
      }
    },
    {
      "cell_type": "code",
      "source": [
        "#LLR-Test\n",
        "LLR_test(model_ret_ar_2, model_ret_ar_3)"
      ],
      "metadata": {
        "colab": {
          "base_uri": "https://localhost:8080/"
        },
        "id": "D-u8N3chspdh",
        "outputId": "9bb0e542-43ce-4f6b-a068-d07ffb838783"
      },
      "execution_count": 21,
      "outputs": [
        {
          "output_type": "execute_result",
          "data": {
            "text/plain": [
              "0.303"
            ]
          },
          "metadata": {},
          "execution_count": 21
        }
      ]
    },
    {
      "cell_type": "markdown",
      "source": [
        "**AR(4)**\n"
      ],
      "metadata": {
        "id": "tZVKfbeGsxPx"
      }
    },
    {
      "cell_type": "code",
      "source": [
        "#AR(4)\n",
        "# Especifica el orden del modelo ARMA (4, 0)\n",
        "order = (4, 0, 0)\n",
        "# Crea el modelo ARIMA\n",
        "model_ret_ar_4= sm.tsa.ARIMA(df.returns, order=order)\n",
        "# Ajusta el modelo a tus datos\n",
        "results_ret_ar_4 = model_ret_ar_4.fit()\n",
        "print(results_ret_ar_4.summary())\n",
        "print (\"LLR test: \" + str(LLR_test(model_ret_ar_3, model_ret_ar_4)))"
      ],
      "metadata": {
        "colab": {
          "base_uri": "https://localhost:8080/"
        },
        "id": "JK2mMW3Dsy9x",
        "outputId": "04a2d8d1-e4f4-40d6-c4d9-34b6718ba159"
      },
      "execution_count": 24,
      "outputs": [
        {
          "output_type": "stream",
          "name": "stdout",
          "text": [
            "                               SARIMAX Results                                \n",
            "==============================================================================\n",
            "Dep. Variable:                returns   No. Observations:                  995\n",
            "Model:                 ARIMA(4, 0, 0)   Log Likelihood               -1588.387\n",
            "Date:                Wed, 11 Oct 2023   AIC                           3188.773\n",
            "Time:                        03:08:45   BIC                           3218.190\n",
            "Sample:                    12-04-2018   HQIC                          3199.956\n",
            "                         - 09-26-2022                                         \n",
            "Covariance Type:                  opg                                         \n",
            "==============================================================================\n",
            "                 coef    std err          z      P>|z|      [0.025      0.975]\n",
            "------------------------------------------------------------------------------\n",
            "const          0.0068      0.039      0.175      0.861      -0.069       0.083\n",
            "ar.L1         -0.0276      0.018     -1.536      0.124      -0.063       0.008\n",
            "ar.L2          0.0028      0.020      0.143      0.886      -0.036       0.042\n",
            "ar.L3         -0.0325      0.015     -2.196      0.028      -0.061      -0.003\n",
            "ar.L4          0.0102      0.017      0.584      0.559      -0.024       0.044\n",
            "sigma2         1.4260      0.027     52.740      0.000       1.373       1.479\n",
            "===================================================================================\n",
            "Ljung-Box (L1) (Q):                   0.00   Jarque-Bera (JB):              7842.54\n",
            "Prob(Q):                              0.98   Prob(JB):                         0.00\n",
            "Heteroskedasticity (H):               1.01   Skew:                            -0.94\n",
            "Prob(H) (two-sided):                  0.93   Kurtosis:                        16.63\n",
            "===================================================================================\n",
            "\n",
            "Warnings:\n",
            "[1] Covariance matrix calculated using the outer product of gradients (complex-step).\n",
            "LLR test: 0.75\n"
          ]
        }
      ]
    },
    {
      "cell_type": "markdown",
      "source": [
        "**AR(5)**"
      ],
      "metadata": {
        "id": "d3CV8RPftm-t"
      }
    },
    {
      "cell_type": "code",
      "source": [
        "#AR(5)\n",
        "# Especifica el orden del modelo ARMA (5, 0)\n",
        "order = (5, 0, 0)\n",
        "# Crea el modelo ARIMA\n",
        "model_ret_ar_5= sm.tsa.ARIMA(df.returns, order=order)\n",
        "# Ajusta el modelo a tus datos\n",
        "results_ret_ar_5 = model_ret_ar_5.fit()\n",
        "print(results_ret_ar_5.summary())\n",
        "print (\"LLR test: \" + str(LLR_test(model_ret_ar_4, model_ret_ar_5)))"
      ],
      "metadata": {
        "colab": {
          "base_uri": "https://localhost:8080/"
        },
        "id": "U9qZ7EXqtpKB",
        "outputId": "f4d535c6-099f-46e0-f743-4e4bad08a39c"
      },
      "execution_count": 25,
      "outputs": [
        {
          "output_type": "stream",
          "name": "stdout",
          "text": [
            "                               SARIMAX Results                                \n",
            "==============================================================================\n",
            "Dep. Variable:                returns   No. Observations:                  995\n",
            "Model:                 ARIMA(5, 0, 0)   Log Likelihood               -1586.154\n",
            "Date:                Wed, 11 Oct 2023   AIC                           3186.308\n",
            "Time:                        03:10:48   BIC                           3220.627\n",
            "Sample:                    12-04-2018   HQIC                          3199.355\n",
            "                         - 09-26-2022                                         \n",
            "Covariance Type:                  opg                                         \n",
            "==============================================================================\n",
            "                 coef    std err          z      P>|z|      [0.025      0.975]\n",
            "------------------------------------------------------------------------------\n",
            "const          0.0063      0.041      0.151      0.880      -0.075       0.088\n",
            "ar.L1         -0.0283      0.018     -1.574      0.115      -0.064       0.007\n",
            "ar.L2          0.0051      0.021      0.238      0.812      -0.037       0.047\n",
            "ar.L3         -0.0325      0.015     -2.203      0.028      -0.061      -0.004\n",
            "ar.L4          0.0122      0.018      0.694      0.488      -0.022       0.047\n",
            "ar.L5          0.0672      0.023      2.980      0.003       0.023       0.111\n",
            "sigma2         1.4195      0.027     51.642      0.000       1.366       1.473\n",
            "===================================================================================\n",
            "Ljung-Box (L1) (Q):                   0.08   Jarque-Bera (JB):              7445.09\n",
            "Prob(Q):                              0.78   Prob(JB):                         0.00\n",
            "Heteroskedasticity (H):               1.01   Skew:                            -0.93\n",
            "Prob(H) (two-sided):                  0.93   Kurtosis:                        16.27\n",
            "===================================================================================\n",
            "\n",
            "Warnings:\n",
            "[1] Covariance matrix calculated using the outer product of gradients (complex-step).\n",
            "LLR test: 0.035\n"
          ]
        }
      ]
    },
    {
      "cell_type": "markdown",
      "source": [
        "**AR(6)**"
      ],
      "metadata": {
        "id": "xksnMHqmt9kH"
      }
    },
    {
      "cell_type": "code",
      "source": [
        "#AR(6)\n",
        "# Especifica el orden del modelo ARMA (6, 0)\n",
        "order = (6, 0, 0)\n",
        "# Crea el modelo ARIMA\n",
        "model_ret_ar_6= sm.tsa.ARIMA(df.returns, order=order)\n",
        "# Ajusta el modelo a tus datos\n",
        "results_ret_ar_6 = model_ret_ar_6.fit()\n",
        "print(results_ret_ar_6.summary())\n",
        "print (\"LLR test: \" + str(LLR_test(model_ret_ar_5, model_ret_ar_6)))"
      ],
      "metadata": {
        "colab": {
          "base_uri": "https://localhost:8080/"
        },
        "id": "buZkHWhOt_pZ",
        "outputId": "268cd997-f4a3-43ba-db00-5c89547c318b"
      },
      "execution_count": 26,
      "outputs": [
        {
          "output_type": "stream",
          "name": "stdout",
          "text": [
            "                               SARIMAX Results                                \n",
            "==============================================================================\n",
            "Dep. Variable:                returns   No. Observations:                  995\n",
            "Model:                 ARIMA(6, 0, 0)   Log Likelihood               -1577.426\n",
            "Date:                Wed, 11 Oct 2023   AIC                           3170.852\n",
            "Time:                        03:12:17   BIC                           3210.074\n",
            "Sample:                    12-04-2018   HQIC                          3185.763\n",
            "                         - 09-26-2022                                         \n",
            "Covariance Type:                  opg                                         \n",
            "==============================================================================\n",
            "                 coef    std err          z      P>|z|      [0.025      0.975]\n",
            "------------------------------------------------------------------------------\n",
            "const          0.0071      0.036      0.196      0.845      -0.064       0.079\n",
            "ar.L1         -0.0193      0.021     -0.913      0.361      -0.061       0.022\n",
            "ar.L2          0.0068      0.022      0.310      0.756      -0.036       0.050\n",
            "ar.L3         -0.0367      0.016     -2.298      0.022      -0.068      -0.005\n",
            "ar.L4          0.0125      0.018      0.708      0.479      -0.022       0.047\n",
            "ar.L5          0.0633      0.023      2.707      0.007       0.017       0.109\n",
            "ar.L6         -0.1325      0.023     -5.652      0.000      -0.178      -0.087\n",
            "sigma2         1.3947      0.028     50.161      0.000       1.340       1.449\n",
            "===================================================================================\n",
            "Ljung-Box (L1) (Q):                   0.22   Jarque-Bera (JB):              7245.65\n",
            "Prob(Q):                              0.64   Prob(JB):                         0.00\n",
            "Heteroskedasticity (H):               1.01   Skew:                            -0.99\n",
            "Prob(H) (two-sided):                  0.92   Kurtosis:                        16.07\n",
            "===================================================================================\n",
            "\n",
            "Warnings:\n",
            "[1] Covariance matrix calculated using the outer product of gradients (complex-step).\n",
            "LLR test: 0.0\n"
          ]
        }
      ]
    },
    {
      "cell_type": "markdown",
      "source": [
        "**AR(7)**"
      ],
      "metadata": {
        "id": "sldZb_NkuNLV"
      }
    },
    {
      "cell_type": "code",
      "source": [
        "#AR(7)\n",
        "# Especifica el orden del modelo ARMA (7, 0)\n",
        "order = (7, 0, 0)\n",
        "# Crea el modelo ARIMA\n",
        "model_ret_ar_7= sm.tsa.ARIMA(df.returns, order=order)\n",
        "# Ajusta el modelo a tus datos\n",
        "results_ret_ar_7 = model_ret_ar_7.fit()\n",
        "results_ret_ar_7.summary()\n"
      ],
      "metadata": {
        "colab": {
          "base_uri": "https://localhost:8080/",
          "height": 549
        },
        "id": "n296I9shuPdr",
        "outputId": "c76132bc-9de8-4316-9e51-7ffa9f50ca24"
      },
      "execution_count": 28,
      "outputs": [
        {
          "output_type": "execute_result",
          "data": {
            "text/plain": [
              "<class 'statsmodels.iolib.summary.Summary'>\n",
              "\"\"\"\n",
              "                               SARIMAX Results                                \n",
              "==============================================================================\n",
              "Dep. Variable:                returns   No. Observations:                  995\n",
              "Model:                 ARIMA(7, 0, 0)   Log Likelihood               -1571.137\n",
              "Date:                Wed, 11 Oct 2023   AIC                           3160.274\n",
              "Time:                        03:13:57   BIC                           3204.398\n",
              "Sample:                    12-04-2018   HQIC                          3177.048\n",
              "                         - 09-26-2022                                         \n",
              "Covariance Type:                  opg                                         \n",
              "==============================================================================\n",
              "                 coef    std err          z      P>|z|      [0.025      0.975]\n",
              "------------------------------------------------------------------------------\n",
              "const          0.0065      0.041      0.158      0.875      -0.074       0.087\n",
              "ar.L1         -0.0045      0.022     -0.206      0.837      -0.048       0.039\n",
              "ar.L2         -0.0004      0.023     -0.019      0.985      -0.045       0.044\n",
              "ar.L3         -0.0385      0.018     -2.180      0.029      -0.073      -0.004\n",
              "ar.L4          0.0166      0.019      0.877      0.381      -0.020       0.054\n",
              "ar.L5          0.0628      0.024      2.660      0.008       0.017       0.109\n",
              "ar.L6         -0.1300      0.024     -5.501      0.000      -0.176      -0.084\n",
              "ar.L7          0.1126      0.024      4.761      0.000       0.066       0.159\n",
              "sigma2         1.3771      0.030     45.524      0.000       1.318       1.436\n",
              "===================================================================================\n",
              "Ljung-Box (L1) (Q):                   0.04   Jarque-Bera (JB):              7035.94\n",
              "Prob(Q):                              0.83   Prob(JB):                         0.00\n",
              "Heteroskedasticity (H):               1.06   Skew:                            -0.93\n",
              "Prob(H) (two-sided):                  0.58   Kurtosis:                        15.89\n",
              "===================================================================================\n",
              "\n",
              "Warnings:\n",
              "[1] Covariance matrix calculated using the outer product of gradients (complex-step).\n",
              "\"\"\""
            ],
            "text/html": [
              "<table class=\"simpletable\">\n",
              "<caption>SARIMAX Results</caption>\n",
              "<tr>\n",
              "  <th>Dep. Variable:</th>        <td>returns</td>     <th>  No. Observations:  </th>    <td>995</td>   \n",
              "</tr>\n",
              "<tr>\n",
              "  <th>Model:</th>            <td>ARIMA(7, 0, 0)</td>  <th>  Log Likelihood     </th> <td>-1571.137</td>\n",
              "</tr>\n",
              "<tr>\n",
              "  <th>Date:</th>            <td>Wed, 11 Oct 2023</td> <th>  AIC                </th> <td>3160.274</td> \n",
              "</tr>\n",
              "<tr>\n",
              "  <th>Time:</th>                <td>03:13:57</td>     <th>  BIC                </th> <td>3204.398</td> \n",
              "</tr>\n",
              "<tr>\n",
              "  <th>Sample:</th>             <td>12-04-2018</td>    <th>  HQIC               </th> <td>3177.048</td> \n",
              "</tr>\n",
              "<tr>\n",
              "  <th></th>                   <td>- 09-26-2022</td>   <th>                     </th>     <td> </td>    \n",
              "</tr>\n",
              "<tr>\n",
              "  <th>Covariance Type:</th>        <td>opg</td>       <th>                     </th>     <td> </td>    \n",
              "</tr>\n",
              "</table>\n",
              "<table class=\"simpletable\">\n",
              "<tr>\n",
              "     <td></td>       <th>coef</th>     <th>std err</th>      <th>z</th>      <th>P>|z|</th>  <th>[0.025</th>    <th>0.975]</th>  \n",
              "</tr>\n",
              "<tr>\n",
              "  <th>const</th>  <td>    0.0065</td> <td>    0.041</td> <td>    0.158</td> <td> 0.875</td> <td>   -0.074</td> <td>    0.087</td>\n",
              "</tr>\n",
              "<tr>\n",
              "  <th>ar.L1</th>  <td>   -0.0045</td> <td>    0.022</td> <td>   -0.206</td> <td> 0.837</td> <td>   -0.048</td> <td>    0.039</td>\n",
              "</tr>\n",
              "<tr>\n",
              "  <th>ar.L2</th>  <td>   -0.0004</td> <td>    0.023</td> <td>   -0.019</td> <td> 0.985</td> <td>   -0.045</td> <td>    0.044</td>\n",
              "</tr>\n",
              "<tr>\n",
              "  <th>ar.L3</th>  <td>   -0.0385</td> <td>    0.018</td> <td>   -2.180</td> <td> 0.029</td> <td>   -0.073</td> <td>   -0.004</td>\n",
              "</tr>\n",
              "<tr>\n",
              "  <th>ar.L4</th>  <td>    0.0166</td> <td>    0.019</td> <td>    0.877</td> <td> 0.381</td> <td>   -0.020</td> <td>    0.054</td>\n",
              "</tr>\n",
              "<tr>\n",
              "  <th>ar.L5</th>  <td>    0.0628</td> <td>    0.024</td> <td>    2.660</td> <td> 0.008</td> <td>    0.017</td> <td>    0.109</td>\n",
              "</tr>\n",
              "<tr>\n",
              "  <th>ar.L6</th>  <td>   -0.1300</td> <td>    0.024</td> <td>   -5.501</td> <td> 0.000</td> <td>   -0.176</td> <td>   -0.084</td>\n",
              "</tr>\n",
              "<tr>\n",
              "  <th>ar.L7</th>  <td>    0.1126</td> <td>    0.024</td> <td>    4.761</td> <td> 0.000</td> <td>    0.066</td> <td>    0.159</td>\n",
              "</tr>\n",
              "<tr>\n",
              "  <th>sigma2</th> <td>    1.3771</td> <td>    0.030</td> <td>   45.524</td> <td> 0.000</td> <td>    1.318</td> <td>    1.436</td>\n",
              "</tr>\n",
              "</table>\n",
              "<table class=\"simpletable\">\n",
              "<tr>\n",
              "  <th>Ljung-Box (L1) (Q):</th>     <td>0.04</td> <th>  Jarque-Bera (JB):  </th> <td>7035.94</td>\n",
              "</tr>\n",
              "<tr>\n",
              "  <th>Prob(Q):</th>                <td>0.83</td> <th>  Prob(JB):          </th>  <td>0.00</td>  \n",
              "</tr>\n",
              "<tr>\n",
              "  <th>Heteroskedasticity (H):</th> <td>1.06</td> <th>  Skew:              </th>  <td>-0.93</td> \n",
              "</tr>\n",
              "<tr>\n",
              "  <th>Prob(H) (two-sided):</th>    <td>0.58</td> <th>  Kurtosis:          </th>  <td>15.89</td> \n",
              "</tr>\n",
              "</table><br/><br/>Warnings:<br/>[1] Covariance matrix calculated using the outer product of gradients (complex-step)."
            ],
            "text/latex": "\\begin{center}\n\\begin{tabular}{lclc}\n\\toprule\n\\textbf{Dep. Variable:}          &     returns      & \\textbf{  No. Observations:  } &    995      \\\\\n\\textbf{Model:}                  &  ARIMA(7, 0, 0)  & \\textbf{  Log Likelihood     } & -1571.137   \\\\\n\\textbf{Date:}                   & Wed, 11 Oct 2023 & \\textbf{  AIC                } &  3160.274   \\\\\n\\textbf{Time:}                   &     03:13:57     & \\textbf{  BIC                } &  3204.398   \\\\\n\\textbf{Sample:}                 &    12-04-2018    & \\textbf{  HQIC               } &  3177.048   \\\\\n\\textbf{}                        &   - 09-26-2022   & \\textbf{                     } &             \\\\\n\\textbf{Covariance Type:}        &       opg        & \\textbf{                     } &             \\\\\n\\bottomrule\n\\end{tabular}\n\\begin{tabular}{lcccccc}\n                & \\textbf{coef} & \\textbf{std err} & \\textbf{z} & \\textbf{P$> |$z$|$} & \\textbf{[0.025} & \\textbf{0.975]}  \\\\\n\\midrule\n\\textbf{const}  &       0.0065  &        0.041     &     0.158  &         0.875        &       -0.074    &        0.087     \\\\\n\\textbf{ar.L1}  &      -0.0045  &        0.022     &    -0.206  &         0.837        &       -0.048    &        0.039     \\\\\n\\textbf{ar.L2}  &      -0.0004  &        0.023     &    -0.019  &         0.985        &       -0.045    &        0.044     \\\\\n\\textbf{ar.L3}  &      -0.0385  &        0.018     &    -2.180  &         0.029        &       -0.073    &       -0.004     \\\\\n\\textbf{ar.L4}  &       0.0166  &        0.019     &     0.877  &         0.381        &       -0.020    &        0.054     \\\\\n\\textbf{ar.L5}  &       0.0628  &        0.024     &     2.660  &         0.008        &        0.017    &        0.109     \\\\\n\\textbf{ar.L6}  &      -0.1300  &        0.024     &    -5.501  &         0.000        &       -0.176    &       -0.084     \\\\\n\\textbf{ar.L7}  &       0.1126  &        0.024     &     4.761  &         0.000        &        0.066    &        0.159     \\\\\n\\textbf{sigma2} &       1.3771  &        0.030     &    45.524  &         0.000        &        1.318    &        1.436     \\\\\n\\bottomrule\n\\end{tabular}\n\\begin{tabular}{lclc}\n\\textbf{Ljung-Box (L1) (Q):}     & 0.04 & \\textbf{  Jarque-Bera (JB):  } & 7035.94  \\\\\n\\textbf{Prob(Q):}                & 0.83 & \\textbf{  Prob(JB):          } &   0.00   \\\\\n\\textbf{Heteroskedasticity (H):} & 1.06 & \\textbf{  Skew:              } &  -0.93   \\\\\n\\textbf{Prob(H) (two-sided):}    & 0.58 & \\textbf{  Kurtosis:          } &  15.89   \\\\\n\\bottomrule\n\\end{tabular}\n%\\caption{SARIMAX Results}\n\\end{center}\n\nWarnings: \\newline\n [1] Covariance matrix calculated using the outer product of gradients (complex-step)."
          },
          "metadata": {},
          "execution_count": 28
        }
      ]
    },
    {
      "cell_type": "markdown",
      "source": [
        "**LLR-Test entre el model_ret_ar_6 y el model_ret_ar_7**"
      ],
      "metadata": {
        "id": "6cUeGVl-umNR"
      }
    },
    {
      "cell_type": "code",
      "source": [
        "#LLR-Test\n",
        "print (LLR_test(model_ret_ar_6, model_ret_ar_7))"
      ],
      "metadata": {
        "colab": {
          "base_uri": "https://localhost:8080/"
        },
        "id": "VaIR99qxurS9",
        "outputId": "0c088dc8-0055-4a1e-bc5b-2cde2a70e950"
      },
      "execution_count": 29,
      "outputs": [
        {
          "output_type": "stream",
          "name": "stdout",
          "text": [
            "0.0\n"
          ]
        }
      ]
    },
    {
      "cell_type": "markdown",
      "source": [
        "#**Normalizar valores**\n",
        "\n",
        "\n",
        "1.   *benchmark = df.market_value.iloc[0]*: Se utiliza para asignar el valor del primer elemento de la columna \"market_value\" en el DataFrame df a la variable benchmark. En otras palabras, está extrayendo el valor del primer día o período de la serie de datos contenida en la columna \"market_value\" y almacenándolo en la variable benchmark.\n",
        "2.  *df['norm'] = df.market_value.div(benchmark).mul(100)*: Se utiliza para crear una nueva columna llamada \"norm\" en el DataFrame df. El propósito de esta línea de código es normalizar los valores en la columna \"market_value\" dividiéndolos por el valor almacenado en la variable benchmark y luego multiplicando el resultado por 100.\n",
        "3. *sts.adfuller(df.norm)*: Se utiliza para aplicar el Test de Dickey-Fuller Aumentado (Augmented Dickey-Fuller Test o ADF Test) a la serie de datos contenida en la columna \"norm\" del DataFrame df\n"
      ],
      "metadata": {
        "id": "-DBVPuzKuzTX"
      }
    },
    {
      "cell_type": "code",
      "source": [
        "benchmark = df.market_value.iloc[0]"
      ],
      "metadata": {
        "id": "Ro21hXtbu0oO"
      },
      "execution_count": 30,
      "outputs": []
    },
    {
      "cell_type": "code",
      "source": [
        "df['norm'] = df.market_value.div(benchmark).mul(100)"
      ],
      "metadata": {
        "id": "DEOge9o5vNOh"
      },
      "execution_count": 31,
      "outputs": []
    },
    {
      "cell_type": "code",
      "source": [
        "sts.adfuller(df.norm)"
      ],
      "metadata": {
        "colab": {
          "base_uri": "https://localhost:8080/"
        },
        "id": "VTL1QII1vPpK",
        "outputId": "034c0709-955e-46f6-d225-daa641ac932c"
      },
      "execution_count": 32,
      "outputs": [
        {
          "output_type": "execute_result",
          "data": {
            "text/plain": [
              "(-2.1941964231600024,\n",
              " 0.20835855953055665,\n",
              " 7,\n",
              " 987,\n",
              " {'1%': -3.4369927443074353,\n",
              "  '5%': -2.864472756705845,\n",
              "  '10%': -2.568331546097238},\n",
              " 2936.9506057692042)"
            ]
          },
          "metadata": {},
          "execution_count": 32
        }
      ]
    },
    {
      "cell_type": "markdown",
      "source": [
        "\n",
        "\n",
        "1.   *bench_ret = df.returns.iloc[0]*: En esta línea, se asigna el valor del primer rendimiento diario de la columna \"returns\" del DataFrame df a la variable bench_ret. Este valor se utilizará como punto de referencia para normalizar los rendimientos diarios posteriores.\n",
        "2.   *df['norm_ret'] = df.returns.div(bench_ret).mul(100)*: En esta línea, se crea una nueva columna llamada \"norm_ret\" en el DataFrame df. Los rendimientos diarios se normalizan dividiéndolos por el valor almacenado en bench_ret (el primer rendimiento diario) y luego se multiplican por 100 para expresar los rendimientos normalizados en términos porcentuales. Esto normaliza los rendimientos en relación con el rendimiento del primer día.\n",
        "3. *sts.adfuller(df.norm_ret)*: Finalmente, se aplica el Test de Dickey-Fuller Aumentado (ADF Test) a la serie normalizada de rendimientos diarios contenida en la columna \"norm_ret\" del DataFrame df. El resultado de esta prueba proporcionará información sobre si la serie de rendimientos normalizados es estacionaria o no estacionaria.\n"
      ],
      "metadata": {
        "id": "8YWRxB7Bw1Jc"
      }
    },
    {
      "cell_type": "code",
      "source": [
        "bench_ret = df.returns.iloc[0]\n",
        "df['norm_ret'] = df.returns.div(bench_ret).mul(100)\n",
        "sts.adfuller(df.norm_ret)"
      ],
      "metadata": {
        "colab": {
          "base_uri": "https://localhost:8080/"
        },
        "id": "EVRQXZ3EvSfl",
        "outputId": "13a4a74f-5ca7-4908-9901-e041a2887b82"
      },
      "execution_count": 33,
      "outputs": [
        {
          "output_type": "execute_result",
          "data": {
            "text/plain": [
              "(-11.301555663436789,\n",
              " 1.3036968744850832e-20,\n",
              " 7,\n",
              " 987,\n",
              " {'1%': -3.4369927443074353,\n",
              "  '5%': -2.864472756705845,\n",
              "  '10%': -2.568331546097238},\n",
              " 13163.185441001326)"
            ]
          },
          "metadata": {},
          "execution_count": 33
        }
      ]
    },
    {
      "cell_type": "markdown",
      "source": [
        "#**Devoluciones normalizadas**"
      ],
      "metadata": {
        "id": "vakgU3pTxJBU"
      }
    },
    {
      "cell_type": "code",
      "source": [
        "# Especifica el orden del modelo ARMA (1, 0)\n",
        "order = (1, 0, 0)\n",
        "# Crea el modelo ARIMA\n",
        "model_norm_ret_ar_1= sm.tsa.ARIMA(df.norm_ret, order=order)\n",
        "# Ajusta el modelo a tus datos\n",
        "results_norm_ret_ar_1 = model_norm_ret_ar_1.fit()\n",
        "results_norm_ret_ar_1.summary()"
      ],
      "metadata": {
        "colab": {
          "base_uri": "https://localhost:8080/",
          "height": 423
        },
        "id": "LQri2gwYxeMj",
        "outputId": "8a3b7bd8-9dee-4010-f23d-36ca6827b505"
      },
      "execution_count": 36,
      "outputs": [
        {
          "output_type": "execute_result",
          "data": {
            "text/plain": [
              "<class 'statsmodels.iolib.summary.Summary'>\n",
              "\"\"\"\n",
              "                               SARIMAX Results                                \n",
              "==============================================================================\n",
              "Dep. Variable:               norm_ret   No. Observations:                  995\n",
              "Model:                 ARIMA(1, 0, 0)   Log Likelihood               -6746.766\n",
              "Date:                Wed, 11 Oct 2023   AIC                          13499.531\n",
              "Time:                        03:30:54   BIC                          13514.239\n",
              "Sample:                    12-04-2018   HQIC                         13505.123\n",
              "                         - 09-26-2022                                         \n",
              "Covariance Type:                  opg                                         \n",
              "==============================================================================\n",
              "                 coef    std err          z      P>|z|      [0.025      0.975]\n",
              "------------------------------------------------------------------------------\n",
              "const         -1.1790      6.855     -0.172      0.863     -14.614      12.256\n",
              "ar.L1         -0.0282      0.017     -1.621      0.105      -0.062       0.006\n",
              "sigma2      4.544e+04    766.030     59.324      0.000    4.39e+04    4.69e+04\n",
              "===================================================================================\n",
              "Ljung-Box (L1) (Q):                   0.00   Jarque-Bera (JB):              7156.72\n",
              "Prob(Q):                              1.00   Prob(JB):                         0.00\n",
              "Heteroskedasticity (H):               1.00   Skew:                             0.90\n",
              "Prob(H) (two-sided):                  0.97   Kurtosis:                        16.01\n",
              "===================================================================================\n",
              "\n",
              "Warnings:\n",
              "[1] Covariance matrix calculated using the outer product of gradients (complex-step).\n",
              "\"\"\""
            ],
            "text/html": [
              "<table class=\"simpletable\">\n",
              "<caption>SARIMAX Results</caption>\n",
              "<tr>\n",
              "  <th>Dep. Variable:</th>       <td>norm_ret</td>     <th>  No. Observations:  </th>    <td>995</td>   \n",
              "</tr>\n",
              "<tr>\n",
              "  <th>Model:</th>            <td>ARIMA(1, 0, 0)</td>  <th>  Log Likelihood     </th> <td>-6746.766</td>\n",
              "</tr>\n",
              "<tr>\n",
              "  <th>Date:</th>            <td>Wed, 11 Oct 2023</td> <th>  AIC                </th> <td>13499.531</td>\n",
              "</tr>\n",
              "<tr>\n",
              "  <th>Time:</th>                <td>03:30:54</td>     <th>  BIC                </th> <td>13514.239</td>\n",
              "</tr>\n",
              "<tr>\n",
              "  <th>Sample:</th>             <td>12-04-2018</td>    <th>  HQIC               </th> <td>13505.123</td>\n",
              "</tr>\n",
              "<tr>\n",
              "  <th></th>                   <td>- 09-26-2022</td>   <th>                     </th>     <td> </td>    \n",
              "</tr>\n",
              "<tr>\n",
              "  <th>Covariance Type:</th>        <td>opg</td>       <th>                     </th>     <td> </td>    \n",
              "</tr>\n",
              "</table>\n",
              "<table class=\"simpletable\">\n",
              "<tr>\n",
              "     <td></td>       <th>coef</th>     <th>std err</th>      <th>z</th>      <th>P>|z|</th>  <th>[0.025</th>    <th>0.975]</th>  \n",
              "</tr>\n",
              "<tr>\n",
              "  <th>const</th>  <td>   -1.1790</td> <td>    6.855</td> <td>   -0.172</td> <td> 0.863</td> <td>  -14.614</td> <td>   12.256</td>\n",
              "</tr>\n",
              "<tr>\n",
              "  <th>ar.L1</th>  <td>   -0.0282</td> <td>    0.017</td> <td>   -1.621</td> <td> 0.105</td> <td>   -0.062</td> <td>    0.006</td>\n",
              "</tr>\n",
              "<tr>\n",
              "  <th>sigma2</th> <td> 4.544e+04</td> <td>  766.030</td> <td>   59.324</td> <td> 0.000</td> <td> 4.39e+04</td> <td> 4.69e+04</td>\n",
              "</tr>\n",
              "</table>\n",
              "<table class=\"simpletable\">\n",
              "<tr>\n",
              "  <th>Ljung-Box (L1) (Q):</th>     <td>0.00</td> <th>  Jarque-Bera (JB):  </th> <td>7156.72</td>\n",
              "</tr>\n",
              "<tr>\n",
              "  <th>Prob(Q):</th>                <td>1.00</td> <th>  Prob(JB):          </th>  <td>0.00</td>  \n",
              "</tr>\n",
              "<tr>\n",
              "  <th>Heteroskedasticity (H):</th> <td>1.00</td> <th>  Skew:              </th>  <td>0.90</td>  \n",
              "</tr>\n",
              "<tr>\n",
              "  <th>Prob(H) (two-sided):</th>    <td>0.97</td> <th>  Kurtosis:          </th>  <td>16.01</td> \n",
              "</tr>\n",
              "</table><br/><br/>Warnings:<br/>[1] Covariance matrix calculated using the outer product of gradients (complex-step)."
            ],
            "text/latex": "\\begin{center}\n\\begin{tabular}{lclc}\n\\toprule\n\\textbf{Dep. Variable:}          &    norm\\_ret     & \\textbf{  No. Observations:  } &    995      \\\\\n\\textbf{Model:}                  &  ARIMA(1, 0, 0)  & \\textbf{  Log Likelihood     } & -6746.766   \\\\\n\\textbf{Date:}                   & Wed, 11 Oct 2023 & \\textbf{  AIC                } & 13499.531   \\\\\n\\textbf{Time:}                   &     03:30:54     & \\textbf{  BIC                } & 13514.239   \\\\\n\\textbf{Sample:}                 &    12-04-2018    & \\textbf{  HQIC               } & 13505.123   \\\\\n\\textbf{}                        &   - 09-26-2022   & \\textbf{                     } &             \\\\\n\\textbf{Covariance Type:}        &       opg        & \\textbf{                     } &             \\\\\n\\bottomrule\n\\end{tabular}\n\\begin{tabular}{lcccccc}\n                & \\textbf{coef} & \\textbf{std err} & \\textbf{z} & \\textbf{P$> |$z$|$} & \\textbf{[0.025} & \\textbf{0.975]}  \\\\\n\\midrule\n\\textbf{const}  &      -1.1790  &        6.855     &    -0.172  &         0.863        &      -14.614    &       12.256     \\\\\n\\textbf{ar.L1}  &      -0.0282  &        0.017     &    -1.621  &         0.105        &       -0.062    &        0.006     \\\\\n\\textbf{sigma2} &    4.544e+04  &      766.030     &    59.324  &         0.000        &     4.39e+04    &     4.69e+04     \\\\\n\\bottomrule\n\\end{tabular}\n\\begin{tabular}{lclc}\n\\textbf{Ljung-Box (L1) (Q):}     & 0.00 & \\textbf{  Jarque-Bera (JB):  } & 7156.72  \\\\\n\\textbf{Prob(Q):}                & 1.00 & \\textbf{  Prob(JB):          } &   0.00   \\\\\n\\textbf{Heteroskedasticity (H):} & 1.00 & \\textbf{  Skew:              } &   0.90   \\\\\n\\textbf{Prob(H) (two-sided):}    & 0.97 & \\textbf{  Kurtosis:          } &  16.01   \\\\\n\\bottomrule\n\\end{tabular}\n%\\caption{SARIMAX Results}\n\\end{center}\n\nWarnings: \\newline\n [1] Covariance matrix calculated using the outer product of gradients (complex-step)."
          },
          "metadata": {},
          "execution_count": 36
        }
      ]
    },
    {
      "cell_type": "code",
      "source": [
        "# Especifica el orden del modelo ARMA (2, 0)\n",
        "order = (2, 0, 0)\n",
        "# Crea el modelo ARIMA\n",
        "model_norm_ret_ar_2= sm.tsa.ARIMA(df.norm_ret, order=order)\n",
        "# Ajusta el modelo a tus datos\n",
        "results_norm_ret_ar_2 = model_norm_ret_ar_2.fit()\n",
        "results_norm_ret_ar_2.summary()"
      ],
      "metadata": {
        "colab": {
          "base_uri": "https://localhost:8080/",
          "height": 444
        },
        "id": "IFK-9-AIyiBx",
        "outputId": "0f3acda7-969c-4e63-94c6-d10f55c3e6cf"
      },
      "execution_count": 37,
      "outputs": [
        {
          "output_type": "execute_result",
          "data": {
            "text/plain": [
              "<class 'statsmodels.iolib.summary.Summary'>\n",
              "\"\"\"\n",
              "                               SARIMAX Results                                \n",
              "==============================================================================\n",
              "Dep. Variable:               norm_ret   No. Observations:                  995\n",
              "Model:                 ARIMA(2, 0, 0)   Log Likelihood               -6746.758\n",
              "Date:                Wed, 11 Oct 2023   AIC                          13501.515\n",
              "Time:                        03:32:11   BIC                          13521.126\n",
              "Sample:                    12-04-2018   HQIC                         13508.971\n",
              "                         - 09-26-2022                                         \n",
              "Covariance Type:                  opg                                         \n",
              "==============================================================================\n",
              "                 coef    std err          z      P>|z|      [0.025      0.975]\n",
              "------------------------------------------------------------------------------\n",
              "const         -1.1790      6.901     -0.171      0.864     -14.705      12.347\n",
              "ar.L1         -0.0280      0.018     -1.595      0.111      -0.063       0.006\n",
              "ar.L2          0.0040      0.020      0.203      0.839      -0.034       0.042\n",
              "sigma2      4.542e+04    767.724     59.163      0.000    4.39e+04    4.69e+04\n",
              "===================================================================================\n",
              "Ljung-Box (L1) (Q):                   0.00   Jarque-Bera (JB):              7146.91\n",
              "Prob(Q):                              1.00   Prob(JB):                         0.00\n",
              "Heteroskedasticity (H):               1.01   Skew:                             0.90\n",
              "Prob(H) (two-sided):                  0.96   Kurtosis:                        16.00\n",
              "===================================================================================\n",
              "\n",
              "Warnings:\n",
              "[1] Covariance matrix calculated using the outer product of gradients (complex-step).\n",
              "\"\"\""
            ],
            "text/html": [
              "<table class=\"simpletable\">\n",
              "<caption>SARIMAX Results</caption>\n",
              "<tr>\n",
              "  <th>Dep. Variable:</th>       <td>norm_ret</td>     <th>  No. Observations:  </th>    <td>995</td>   \n",
              "</tr>\n",
              "<tr>\n",
              "  <th>Model:</th>            <td>ARIMA(2, 0, 0)</td>  <th>  Log Likelihood     </th> <td>-6746.758</td>\n",
              "</tr>\n",
              "<tr>\n",
              "  <th>Date:</th>            <td>Wed, 11 Oct 2023</td> <th>  AIC                </th> <td>13501.515</td>\n",
              "</tr>\n",
              "<tr>\n",
              "  <th>Time:</th>                <td>03:32:11</td>     <th>  BIC                </th> <td>13521.126</td>\n",
              "</tr>\n",
              "<tr>\n",
              "  <th>Sample:</th>             <td>12-04-2018</td>    <th>  HQIC               </th> <td>13508.971</td>\n",
              "</tr>\n",
              "<tr>\n",
              "  <th></th>                   <td>- 09-26-2022</td>   <th>                     </th>     <td> </td>    \n",
              "</tr>\n",
              "<tr>\n",
              "  <th>Covariance Type:</th>        <td>opg</td>       <th>                     </th>     <td> </td>    \n",
              "</tr>\n",
              "</table>\n",
              "<table class=\"simpletable\">\n",
              "<tr>\n",
              "     <td></td>       <th>coef</th>     <th>std err</th>      <th>z</th>      <th>P>|z|</th>  <th>[0.025</th>    <th>0.975]</th>  \n",
              "</tr>\n",
              "<tr>\n",
              "  <th>const</th>  <td>   -1.1790</td> <td>    6.901</td> <td>   -0.171</td> <td> 0.864</td> <td>  -14.705</td> <td>   12.347</td>\n",
              "</tr>\n",
              "<tr>\n",
              "  <th>ar.L1</th>  <td>   -0.0280</td> <td>    0.018</td> <td>   -1.595</td> <td> 0.111</td> <td>   -0.063</td> <td>    0.006</td>\n",
              "</tr>\n",
              "<tr>\n",
              "  <th>ar.L2</th>  <td>    0.0040</td> <td>    0.020</td> <td>    0.203</td> <td> 0.839</td> <td>   -0.034</td> <td>    0.042</td>\n",
              "</tr>\n",
              "<tr>\n",
              "  <th>sigma2</th> <td> 4.542e+04</td> <td>  767.724</td> <td>   59.163</td> <td> 0.000</td> <td> 4.39e+04</td> <td> 4.69e+04</td>\n",
              "</tr>\n",
              "</table>\n",
              "<table class=\"simpletable\">\n",
              "<tr>\n",
              "  <th>Ljung-Box (L1) (Q):</th>     <td>0.00</td> <th>  Jarque-Bera (JB):  </th> <td>7146.91</td>\n",
              "</tr>\n",
              "<tr>\n",
              "  <th>Prob(Q):</th>                <td>1.00</td> <th>  Prob(JB):          </th>  <td>0.00</td>  \n",
              "</tr>\n",
              "<tr>\n",
              "  <th>Heteroskedasticity (H):</th> <td>1.01</td> <th>  Skew:              </th>  <td>0.90</td>  \n",
              "</tr>\n",
              "<tr>\n",
              "  <th>Prob(H) (two-sided):</th>    <td>0.96</td> <th>  Kurtosis:          </th>  <td>16.00</td> \n",
              "</tr>\n",
              "</table><br/><br/>Warnings:<br/>[1] Covariance matrix calculated using the outer product of gradients (complex-step)."
            ],
            "text/latex": "\\begin{center}\n\\begin{tabular}{lclc}\n\\toprule\n\\textbf{Dep. Variable:}          &    norm\\_ret     & \\textbf{  No. Observations:  } &    995      \\\\\n\\textbf{Model:}                  &  ARIMA(2, 0, 0)  & \\textbf{  Log Likelihood     } & -6746.758   \\\\\n\\textbf{Date:}                   & Wed, 11 Oct 2023 & \\textbf{  AIC                } & 13501.515   \\\\\n\\textbf{Time:}                   &     03:32:11     & \\textbf{  BIC                } & 13521.126   \\\\\n\\textbf{Sample:}                 &    12-04-2018    & \\textbf{  HQIC               } & 13508.971   \\\\\n\\textbf{}                        &   - 09-26-2022   & \\textbf{                     } &             \\\\\n\\textbf{Covariance Type:}        &       opg        & \\textbf{                     } &             \\\\\n\\bottomrule\n\\end{tabular}\n\\begin{tabular}{lcccccc}\n                & \\textbf{coef} & \\textbf{std err} & \\textbf{z} & \\textbf{P$> |$z$|$} & \\textbf{[0.025} & \\textbf{0.975]}  \\\\\n\\midrule\n\\textbf{const}  &      -1.1790  &        6.901     &    -0.171  &         0.864        &      -14.705    &       12.347     \\\\\n\\textbf{ar.L1}  &      -0.0280  &        0.018     &    -1.595  &         0.111        &       -0.063    &        0.006     \\\\\n\\textbf{ar.L2}  &       0.0040  &        0.020     &     0.203  &         0.839        &       -0.034    &        0.042     \\\\\n\\textbf{sigma2} &    4.542e+04  &      767.724     &    59.163  &         0.000        &     4.39e+04    &     4.69e+04     \\\\\n\\bottomrule\n\\end{tabular}\n\\begin{tabular}{lclc}\n\\textbf{Ljung-Box (L1) (Q):}     & 0.00 & \\textbf{  Jarque-Bera (JB):  } & 7146.91  \\\\\n\\textbf{Prob(Q):}                & 1.00 & \\textbf{  Prob(JB):          } &   0.00   \\\\\n\\textbf{Heteroskedasticity (H):} & 1.01 & \\textbf{  Skew:              } &   0.90   \\\\\n\\textbf{Prob(H) (two-sided):}    & 0.96 & \\textbf{  Kurtosis:          } &  16.00   \\\\\n\\bottomrule\n\\end{tabular}\n%\\caption{SARIMAX Results}\n\\end{center}\n\nWarnings: \\newline\n [1] Covariance matrix calculated using the outer product of gradients (complex-step)."
          },
          "metadata": {},
          "execution_count": 37
        }
      ]
    },
    {
      "cell_type": "code",
      "source": [
        "# Especifica el orden del modelo ARMA (7, 0)\n",
        "order = (7, 0, 0)\n",
        "# Crea el modelo ARIMA\n",
        "model_norm_ret_ar_7= sm.tsa.ARIMA(df.norm_ret, order=order)\n",
        "# Ajusta el modelo a tus datos\n",
        "results_norm_ret_ar_7 = model_norm_ret_ar_7.fit()\n",
        "results_norm_ret_ar_7.summary()"
      ],
      "metadata": {
        "colab": {
          "base_uri": "https://localhost:8080/",
          "height": 549
        },
        "id": "xV1-GAs5yyvs",
        "outputId": "60942f15-eaa3-400a-ad11-ed9d559db920"
      },
      "execution_count": 38,
      "outputs": [
        {
          "output_type": "execute_result",
          "data": {
            "text/plain": [
              "<class 'statsmodels.iolib.summary.Summary'>\n",
              "\"\"\"\n",
              "                               SARIMAX Results                                \n",
              "==============================================================================\n",
              "Dep. Variable:               norm_ret   No. Observations:                  995\n",
              "Model:                 ARIMA(7, 0, 0)   Log Likelihood               -6728.934\n",
              "Date:                Wed, 11 Oct 2023   AIC                          13475.867\n",
              "Time:                        03:33:04   BIC                          13519.992\n",
              "Sample:                    12-04-2018   HQIC                         13492.642\n",
              "                         - 09-26-2022                                         \n",
              "Covariance Type:                  opg                                         \n",
              "==============================================================================\n",
              "                 coef    std err          z      P>|z|      [0.025      0.975]\n",
              "------------------------------------------------------------------------------\n",
              "const         -1.1790      7.298     -0.162      0.872     -15.483      13.125\n",
              "ar.L1         -0.0045      0.022     -0.206      0.837      -0.048       0.038\n",
              "ar.L2         -0.0005      0.023     -0.020      0.984      -0.045       0.044\n",
              "ar.L3         -0.0385      0.018     -2.191      0.028      -0.073      -0.004\n",
              "ar.L4          0.0166      0.019      0.883      0.377      -0.020       0.053\n",
              "ar.L5          0.0628      0.023      2.673      0.008       0.017       0.109\n",
              "ar.L6         -0.1300      0.024     -5.529      0.000      -0.176      -0.084\n",
              "ar.L7          0.1126      0.024      4.786      0.000       0.067       0.159\n",
              "sigma2      4.357e+04    952.255     45.759      0.000    4.17e+04    4.54e+04\n",
              "===================================================================================\n",
              "Ljung-Box (L1) (Q):                   0.04   Jarque-Bera (JB):              7035.89\n",
              "Prob(Q):                              0.83   Prob(JB):                         0.00\n",
              "Heteroskedasticity (H):               1.06   Skew:                             0.93\n",
              "Prob(H) (two-sided):                  0.58   Kurtosis:                        15.89\n",
              "===================================================================================\n",
              "\n",
              "Warnings:\n",
              "[1] Covariance matrix calculated using the outer product of gradients (complex-step).\n",
              "\"\"\""
            ],
            "text/html": [
              "<table class=\"simpletable\">\n",
              "<caption>SARIMAX Results</caption>\n",
              "<tr>\n",
              "  <th>Dep. Variable:</th>       <td>norm_ret</td>     <th>  No. Observations:  </th>    <td>995</td>   \n",
              "</tr>\n",
              "<tr>\n",
              "  <th>Model:</th>            <td>ARIMA(7, 0, 0)</td>  <th>  Log Likelihood     </th> <td>-6728.934</td>\n",
              "</tr>\n",
              "<tr>\n",
              "  <th>Date:</th>            <td>Wed, 11 Oct 2023</td> <th>  AIC                </th> <td>13475.867</td>\n",
              "</tr>\n",
              "<tr>\n",
              "  <th>Time:</th>                <td>03:33:04</td>     <th>  BIC                </th> <td>13519.992</td>\n",
              "</tr>\n",
              "<tr>\n",
              "  <th>Sample:</th>             <td>12-04-2018</td>    <th>  HQIC               </th> <td>13492.642</td>\n",
              "</tr>\n",
              "<tr>\n",
              "  <th></th>                   <td>- 09-26-2022</td>   <th>                     </th>     <td> </td>    \n",
              "</tr>\n",
              "<tr>\n",
              "  <th>Covariance Type:</th>        <td>opg</td>       <th>                     </th>     <td> </td>    \n",
              "</tr>\n",
              "</table>\n",
              "<table class=\"simpletable\">\n",
              "<tr>\n",
              "     <td></td>       <th>coef</th>     <th>std err</th>      <th>z</th>      <th>P>|z|</th>  <th>[0.025</th>    <th>0.975]</th>  \n",
              "</tr>\n",
              "<tr>\n",
              "  <th>const</th>  <td>   -1.1790</td> <td>    7.298</td> <td>   -0.162</td> <td> 0.872</td> <td>  -15.483</td> <td>   13.125</td>\n",
              "</tr>\n",
              "<tr>\n",
              "  <th>ar.L1</th>  <td>   -0.0045</td> <td>    0.022</td> <td>   -0.206</td> <td> 0.837</td> <td>   -0.048</td> <td>    0.038</td>\n",
              "</tr>\n",
              "<tr>\n",
              "  <th>ar.L2</th>  <td>   -0.0005</td> <td>    0.023</td> <td>   -0.020</td> <td> 0.984</td> <td>   -0.045</td> <td>    0.044</td>\n",
              "</tr>\n",
              "<tr>\n",
              "  <th>ar.L3</th>  <td>   -0.0385</td> <td>    0.018</td> <td>   -2.191</td> <td> 0.028</td> <td>   -0.073</td> <td>   -0.004</td>\n",
              "</tr>\n",
              "<tr>\n",
              "  <th>ar.L4</th>  <td>    0.0166</td> <td>    0.019</td> <td>    0.883</td> <td> 0.377</td> <td>   -0.020</td> <td>    0.053</td>\n",
              "</tr>\n",
              "<tr>\n",
              "  <th>ar.L5</th>  <td>    0.0628</td> <td>    0.023</td> <td>    2.673</td> <td> 0.008</td> <td>    0.017</td> <td>    0.109</td>\n",
              "</tr>\n",
              "<tr>\n",
              "  <th>ar.L6</th>  <td>   -0.1300</td> <td>    0.024</td> <td>   -5.529</td> <td> 0.000</td> <td>   -0.176</td> <td>   -0.084</td>\n",
              "</tr>\n",
              "<tr>\n",
              "  <th>ar.L7</th>  <td>    0.1126</td> <td>    0.024</td> <td>    4.786</td> <td> 0.000</td> <td>    0.067</td> <td>    0.159</td>\n",
              "</tr>\n",
              "<tr>\n",
              "  <th>sigma2</th> <td> 4.357e+04</td> <td>  952.255</td> <td>   45.759</td> <td> 0.000</td> <td> 4.17e+04</td> <td> 4.54e+04</td>\n",
              "</tr>\n",
              "</table>\n",
              "<table class=\"simpletable\">\n",
              "<tr>\n",
              "  <th>Ljung-Box (L1) (Q):</th>     <td>0.04</td> <th>  Jarque-Bera (JB):  </th> <td>7035.89</td>\n",
              "</tr>\n",
              "<tr>\n",
              "  <th>Prob(Q):</th>                <td>0.83</td> <th>  Prob(JB):          </th>  <td>0.00</td>  \n",
              "</tr>\n",
              "<tr>\n",
              "  <th>Heteroskedasticity (H):</th> <td>1.06</td> <th>  Skew:              </th>  <td>0.93</td>  \n",
              "</tr>\n",
              "<tr>\n",
              "  <th>Prob(H) (two-sided):</th>    <td>0.58</td> <th>  Kurtosis:          </th>  <td>15.89</td> \n",
              "</tr>\n",
              "</table><br/><br/>Warnings:<br/>[1] Covariance matrix calculated using the outer product of gradients (complex-step)."
            ],
            "text/latex": "\\begin{center}\n\\begin{tabular}{lclc}\n\\toprule\n\\textbf{Dep. Variable:}          &    norm\\_ret     & \\textbf{  No. Observations:  } &    995      \\\\\n\\textbf{Model:}                  &  ARIMA(7, 0, 0)  & \\textbf{  Log Likelihood     } & -6728.934   \\\\\n\\textbf{Date:}                   & Wed, 11 Oct 2023 & \\textbf{  AIC                } & 13475.867   \\\\\n\\textbf{Time:}                   &     03:33:04     & \\textbf{  BIC                } & 13519.992   \\\\\n\\textbf{Sample:}                 &    12-04-2018    & \\textbf{  HQIC               } & 13492.642   \\\\\n\\textbf{}                        &   - 09-26-2022   & \\textbf{                     } &             \\\\\n\\textbf{Covariance Type:}        &       opg        & \\textbf{                     } &             \\\\\n\\bottomrule\n\\end{tabular}\n\\begin{tabular}{lcccccc}\n                & \\textbf{coef} & \\textbf{std err} & \\textbf{z} & \\textbf{P$> |$z$|$} & \\textbf{[0.025} & \\textbf{0.975]}  \\\\\n\\midrule\n\\textbf{const}  &      -1.1790  &        7.298     &    -0.162  &         0.872        &      -15.483    &       13.125     \\\\\n\\textbf{ar.L1}  &      -0.0045  &        0.022     &    -0.206  &         0.837        &       -0.048    &        0.038     \\\\\n\\textbf{ar.L2}  &      -0.0005  &        0.023     &    -0.020  &         0.984        &       -0.045    &        0.044     \\\\\n\\textbf{ar.L3}  &      -0.0385  &        0.018     &    -2.191  &         0.028        &       -0.073    &       -0.004     \\\\\n\\textbf{ar.L4}  &       0.0166  &        0.019     &     0.883  &         0.377        &       -0.020    &        0.053     \\\\\n\\textbf{ar.L5}  &       0.0628  &        0.023     &     2.673  &         0.008        &        0.017    &        0.109     \\\\\n\\textbf{ar.L6}  &      -0.1300  &        0.024     &    -5.529  &         0.000        &       -0.176    &       -0.084     \\\\\n\\textbf{ar.L7}  &       0.1126  &        0.024     &     4.786  &         0.000        &        0.067    &        0.159     \\\\\n\\textbf{sigma2} &    4.357e+04  &      952.255     &    45.759  &         0.000        &     4.17e+04    &     4.54e+04     \\\\\n\\bottomrule\n\\end{tabular}\n\\begin{tabular}{lclc}\n\\textbf{Ljung-Box (L1) (Q):}     & 0.04 & \\textbf{  Jarque-Bera (JB):  } & 7035.89  \\\\\n\\textbf{Prob(Q):}                & 0.83 & \\textbf{  Prob(JB):          } &   0.00   \\\\\n\\textbf{Heteroskedasticity (H):} & 1.06 & \\textbf{  Skew:              } &   0.93   \\\\\n\\textbf{Prob(H) (two-sided):}    & 0.58 & \\textbf{  Kurtosis:          } &  15.89   \\\\\n\\bottomrule\n\\end{tabular}\n%\\caption{SARIMAX Results}\n\\end{center}\n\nWarnings: \\newline\n [1] Covariance matrix calculated using the outer product of gradients (complex-step)."
          },
          "metadata": {},
          "execution_count": 38
        }
      ]
    },
    {
      "cell_type": "markdown",
      "source": [
        "#**Analizando los residuos**\n",
        "\n",
        "\n",
        "1.   *df['res_ret'] = results_ret_ar_6.resid*: Se utiliza para crear una nueva columna llamada \"res_ret\" en el DataFrame df. En esta columna, se almacenan los residuos del modelo ARIMA results_ret_ar_6, que parece ser un modelo de series temporales ajustado a los datos de rendimientos diarios.\n",
        "2.  *df.res_ret.mean()*: Calcula la media de los residuos almacenados en la columna \"res_ret\" del DataFrame df. Los residuos son las diferencias entre los valores observados y los valores predichos por un modelo, en este caso, un modelo ARIMA ajustado a la serie de rendimientos diarios.\n",
        "\n",
        "3. *df.res_ret.var()*:Calcula la varianza de los residuos almacenados en la columna \"res_ret\" del DataFrame df. La varianza es una medida de la dispersión o la variabilidad de los datos, en este caso, los residuos del modelo ARIMA.\n",
        "4.  *sts.adfuller(df.res_ret)*: Se utiliza el Test de Dickey-Fuller Aumentado (ADF Test) para evaluar la estacionariedad de la serie de residuos almacenada en la columna \"res_ret\" del DataFrame df. Este test es comúnmente utilizado para verificar si una serie temporal es estacionaria o no estacionaria."
      ],
      "metadata": {
        "id": "RU8n6Gt1y7uG"
      }
    },
    {
      "cell_type": "code",
      "source": [
        "df['res_ret'] = results_ret_ar_6.resid"
      ],
      "metadata": {
        "id": "jQrYIHXvzEod"
      },
      "execution_count": 39,
      "outputs": []
    },
    {
      "cell_type": "code",
      "source": [
        "df.res_ret.mean()"
      ],
      "metadata": {
        "colab": {
          "base_uri": "https://localhost:8080/"
        },
        "id": "qcNaKwdgzG6e",
        "outputId": "915b3c33-2ff5-493b-8956-be5dc968cd8a"
      },
      "execution_count": 40,
      "outputs": [
        {
          "output_type": "execute_result",
          "data": {
            "text/plain": [
              "-0.0003450325270662195"
            ]
          },
          "metadata": {},
          "execution_count": 40
        }
      ]
    },
    {
      "cell_type": "code",
      "source": [
        "df.res_ret.var()"
      ],
      "metadata": {
        "colab": {
          "base_uri": "https://localhost:8080/"
        },
        "id": "g__G5d4-zI-4",
        "outputId": "9cafb624-79fe-4d44-b8e8-31334ae8ab30"
      },
      "execution_count": 41,
      "outputs": [
        {
          "output_type": "execute_result",
          "data": {
            "text/plain": [
              "1.3964807272137931"
            ]
          },
          "metadata": {},
          "execution_count": 41
        }
      ]
    },
    {
      "cell_type": "code",
      "source": [
        "sts.adfuller(df.res_ret)"
      ],
      "metadata": {
        "colab": {
          "base_uri": "https://localhost:8080/"
        },
        "id": "lV_DiDbrzMlJ",
        "outputId": "4c5077c7-d554-48e2-d6f3-bdffd5233101"
      },
      "execution_count": 42,
      "outputs": [
        {
          "output_type": "execute_result",
          "data": {
            "text/plain": [
              "(-31.039090106428027,\n",
              " 0.0,\n",
              " 0,\n",
              " 994,\n",
              " {'1%': -3.43694584277544,\n",
              "  '5%': -2.8644520725172873,\n",
              "  '10%': -2.5683205291305176},\n",
              " 3088.054241896413)"
            ]
          },
          "metadata": {},
          "execution_count": 42
        }
      ]
    },
    {
      "cell_type": "markdown",
      "source": [
        "\n",
        "\n",
        "1.   *sgt.plot_acf(df.res_ret, zero=False, lags=40)*: Esta línea utiliza la función plot_acf de la biblioteca statsmodels.graphics.tsaplots (generalmente abreviada como sgt) para trazar la ACF de los residuos. Los argumentos df.res_ret especifican la serie de residuos que se va a analizar. zero=False indica que no se mostrará la autocorrelación en el lag 0, y lags=40 establece el número de lags que se mostrarán en el gráfico, en este caso, un máximo de 40 lags.\n",
        "2.   *plt.title(\"ACF Of Residuals for Returns\", size=24)*: Esta línea establece un título para el gráfico. El título es \"ACF Of Residuals for Returns\", lo que indica que el gráfico representa la función de autocorrelación de los residuos en relación con los rendimientos diarios.\n",
        "3. *plt.show()*: Finalmente, esta línea muestra el gráfico en la pantalla utilizando la biblioteca matplotlib.\n",
        "\n"
      ],
      "metadata": {
        "id": "GxIS-3y50KXq"
      }
    },
    {
      "cell_type": "code",
      "source": [
        "sgt.plot_acf(df.res_ret, zero = False, lags = 40)\n",
        "plt.title(\"ACF de los residuos en relación con los rendimientos diarios\",size=24)\n",
        "plt.show()"
      ],
      "metadata": {
        "colab": {
          "base_uri": "https://localhost:8080/",
          "height": 469
        },
        "id": "xV96-e8XzPLr",
        "outputId": "50357a53-a1bc-46d7-cb57-a56ef11bc1e6"
      },
      "execution_count": 45,
      "outputs": [
        {
          "output_type": "display_data",
          "data": {
            "text/plain": [
              "<Figure size 640x480 with 1 Axes>"
            ],
            "image/png": "[encoded data removed]"
          },
          "metadata": {}
        }
      ]
    },
    {
      "cell_type": "markdown",
      "source": [
        "\n",
        "\n",
        "1.   *df.res_ret.plot(figsize=(20, 5))*: Esta línea utiliza la función plot en la columna \"res_ret\" del DataFrame df para trazar la serie temporal de los residuos. El argumento figsize establece el tamaño de la figura del gráfico en 20 pulgadas de ancho y 5 pulgadas de alto. Esto controla las dimensiones del gráfico en la visualización.\n",
        "2.   *plt.title(\"Residuals of Returns\", size=24)*: Esta línea establece un título para el gráfico. El título es \"Residuals of Returns,\" lo que indica que el gráfico representa la serie de residuos relacionados con los rendimientos diarios.\n",
        "3. *plt.show()*: Finalmente, esta línea muestra el gráfico en la pantalla utilizando la biblioteca matplotlib.\n",
        "\n"
      ],
      "metadata": {
        "id": "ViZeruTG0ebr"
      }
    },
    {
      "cell_type": "code",
      "source": [
        "df.res_ret.plot(figsize=(20,5))\n",
        "plt.title(\"Residuos relacionados con los rendimientos diarios\", size=24)\n",
        "plt.show()"
      ],
      "metadata": {
        "colab": {
          "base_uri": "https://localhost:8080/",
          "height": 443
        },
        "id": "bw2zpJSGzR3-",
        "outputId": "ff3061a6-a2ea-41c4-a000-a8cb61d2478a"
      },
      "execution_count": 46,
      "outputs": [
        {
          "output_type": "display_data",
          "data": {
            "text/plain": [
              "<Figure size 2000x500 with 1 Axes>"
            ],
            "image/png": "[encoded data removed]"
          },
          "metadata": {}
        }
      ]
    }
  ]
}