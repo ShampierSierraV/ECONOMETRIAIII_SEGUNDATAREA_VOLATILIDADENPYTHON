{
  "nbformat": 4,
  "nbformat_minor": 0,
  "metadata": {
    "colab": {
      "provenance": []
    },
    "kernelspec": {
      "name": "python3",
      "display_name": "Python 3"
    },
    "language_info": {
      "name": "python"
    }
  },
  "cells": [
    {
      "cell_type": "markdown",
      "source": [
        "**MODELO GARCH**"
      ],
      "metadata": {
        "id": "afR12fA5rYBV"
      }
    },
    {
      "cell_type": "markdown",
      "source": [
        "**IMPORTANDO PAQUETES IMPORTANTES**"
      ],
      "metadata": {
        "id": "hNULEf7arc9W"
      }
    },
    {
      "cell_type": "markdown",
      "source": [
        "En este primera sección se realiza un la importación de paquetes que nos sesrvirán para hacer los respecitvos cálculos para este modelo. Primero, importamo la biblioteca de Python, pandas, para acceder a las herramientas de datos como DataFrames y Series de tiempo que se encuentra en el diferentes formatos, en nuestro caso un csv \"Index 18-23\". Luego utilizamos importamos paquetes para realizar operaciones lógicas en arreglos multidimensionales, crear gráficos y visualizaciones tanto estáticas como animadas. Además de funciones para graficar características de las series temporales como la autocorrelación y  utilizar herramientas estáticas para series temporales -test de estacionariedad-. Después cargamos el módulo que contiene a los modelos ARIMA y ARMA que nos permitirpa modelar y predecir series temporales usando el modelo Modelo Autoregresivo de Media Móvil. El comando de scipy al indicarle import chi2 consideramos la distribución chi-cuadrado. También, gracias a math nos proporciona funciones matemáticas como la función raíz cuadrada. Finalmente, seaborn tiene una interfaz de alto nivel para crear gráficos estadísticos atractivos.\n"
      ],
      "metadata": {
        "id": "_f76BmdRt1j8"
      }
    },
    {
      "cell_type": "code",
      "execution_count": 2,
      "metadata": {
        "id": "P-xEn48YqYvn",
        "colab": {
          "base_uri": "https://localhost:8080/"
        },
        "outputId": "8700e756-af36-4b90-fc9d-4896dc87c677"
      },
      "outputs": [
        {
          "output_type": "stream",
          "name": "stdout",
          "text": [
            "Collecting arch\n",
            "  Downloading arch-6.2.0-cp310-cp310-manylinux_2_17_x86_64.manylinux2014_x86_64.whl (981 kB)\n",
            "\u001b[2K     \u001b[90m━━━━━━━━━━━━━━━━━━━━━━━━━━━━━━━━━━━━━━━━\u001b[0m \u001b[32m981.7/981.7 kB\u001b[0m \u001b[31m12.1 MB/s\u001b[0m eta \u001b[36m0:00:00\u001b[0m\n",
            "\u001b[?25hRequirement already satisfied: numpy>=1.19 in /usr/local/lib/python3.10/dist-packages (from arch) (1.23.5)\n",
            "Requirement already satisfied: scipy>=1.5 in /usr/local/lib/python3.10/dist-packages (from arch) (1.11.3)\n",
            "Requirement already satisfied: pandas>=1.1 in /usr/local/lib/python3.10/dist-packages (from arch) (1.5.3)\n",
            "Requirement already satisfied: statsmodels>=0.12 in /usr/local/lib/python3.10/dist-packages (from arch) (0.14.0)\n",
            "Requirement already satisfied: python-dateutil>=2.8.1 in /usr/local/lib/python3.10/dist-packages (from pandas>=1.1->arch) (2.8.2)\n",
            "Requirement already satisfied: pytz>=2020.1 in /usr/local/lib/python3.10/dist-packages (from pandas>=1.1->arch) (2023.3.post1)\n",
            "Requirement already satisfied: patsy>=0.5.2 in /usr/local/lib/python3.10/dist-packages (from statsmodels>=0.12->arch) (0.5.3)\n",
            "Requirement already satisfied: packaging>=21.3 in /usr/local/lib/python3.10/dist-packages (from statsmodels>=0.12->arch) (23.2)\n",
            "Requirement already satisfied: six in /usr/local/lib/python3.10/dist-packages (from patsy>=0.5.2->statsmodels>=0.12->arch) (1.16.0)\n",
            "Installing collected packages: arch\n",
            "Successfully installed arch-6.2.0\n"
          ]
        }
      ],
      "source": [
        "import pandas as pd\n",
        "import numpy as np\n",
        "import matplotlib.pyplot as plt\n",
        "import statsmodels.graphics.tsaplots as sgt\n",
        "import statsmodels.tsa.stattools as sts\n",
        "from statsmodels.tsa.arima_model import ARIMA\n",
        "from scipy.stats.distributions import chi2\n",
        "!pip install arch\n",
        "from arch import arch_model\n",
        "from math import sqrt\n",
        "import seaborn as sns\n",
        "sns.set()"
      ]
    },
    {
      "cell_type": "markdown",
      "source": [
        "**IMPORTACIÓN Y PREPROCESAMIENTO DE LA DATA**"
      ],
      "metadata": {
        "id": "Zn6ZH39VwHD9"
      }
    },
    {
      "cell_type": "markdown",
      "source": [
        "Estos primeros comando sirven para leer el archico CSV llamdno \"df_comp.cvs\". Luego crea una copia independiente del dataframe y se almacena en la variable \"df_comp\". Se convierte la columna 'date' del DataFrame a un tipo de dato de fecha (datetime), asumiendo que el día aparece primero en la fecha. Se establece la columna 'date' como el índice del DataFrame df_comp. También se cambia la frecuencia del DataFrame a días hábiles, donde 'b' representa los días hábiles. Luego con el método \"ffill\" se completan los datos faltantes por \"NaN\". Lo siguiente es crear una columna llamada 'market_value' en el DataFrame con los valores de la columna 'ftse'. Posterior a ello, eliminamos las siguientes columnas del dataframe df_comp: 'spx', 'dax','ftse' y 'nikkei'. Ya para finalizar almacenamos el valor del 80% del número de filas en el DataFrame en la variable size. Finalmente, dividimos el DataFrame en dos partes basándose en la variable size. El DataFrame df contendrá las primeras filas hasta el índice size, mientras que df_test contendrá las filas restantes desde el índice size en adelante."
      ],
      "metadata": {
        "id": "oSDwRpGUwS9a"
      }
    },
    {
      "cell_type": "code",
      "source": [
        "raw_csv_data = pd.read_csv(\"df_comp.csv\")\n",
        "df_comp=raw_csv_data.copy()\n",
        "df_comp.date = pd.to_datetime(df_comp.date, dayfirst = True)\n",
        "df_comp.set_index(\"date\", inplace=True)\n",
        "df_comp=df_comp.asfreq('b')\n",
        "df_comp=df_comp.fillna(method='ffill')"
      ],
      "metadata": {
        "id": "_4jSqRRurqDk"
      },
      "execution_count": 3,
      "outputs": []
    },
    {
      "cell_type": "markdown",
      "source": [
        "El siguiente comando duplica la columna llamada 'ftse' del DataFrame y lo renombra como 'market_value'."
      ],
      "metadata": {
        "id": "EV4RzPFmwYzx"
      }
    },
    {
      "cell_type": "code",
      "source": [
        "df_comp['market_value']=df_comp.ftse"
      ],
      "metadata": {
        "id": "yj7VjADPrsR-"
      },
      "execution_count": 4,
      "outputs": []
    },
    {
      "cell_type": "markdown",
      "source": [
        "Los primeros cuatro comandos sirven para eliminar las columnas 'spx', 'dax', 'ftse' y 'nikkei' del DataFrame 'df_comp'. Luego, calcula el 80% del número de filas en df_comp y lo almaceno en la variable size como un número entero. Finalmente, divide el DataFrame df_comp en dos partes usando la técnica de segmentación con iloc.[:size]: Selecciona las filas desde el inicio hasta el índice size (sin incluir el índice size). [size:]: Selecciona las filas desde el índice size hasta el final del DataFrame. Luego, estas dos segmentaciones se asignan a dos nuevos DataFrames: df, que contiene el 80% de los datos y df_test, un conjunto de prueba que contiene el 20% restante de los datos."
      ],
      "metadata": {
        "id": "X1fetrfAwfpy"
      }
    },
    {
      "cell_type": "code",
      "source": [
        "del df_comp[\"ftse\"]\n",
        "del df_comp[\" dax \"]\n",
        "del df_comp[\"spx \"]\n",
        "del df_comp[\"nikkei\"]\n",
        "size = int(len(df_comp)*0.8)\n",
        "df, df_test = df_comp.iloc[:size], df_comp.iloc[size:]"
      ],
      "metadata": {
        "id": "kAq6hfWwrvuT"
      },
      "execution_count": 5,
      "outputs": []
    },
    {
      "cell_type": "markdown",
      "source": [
        "Lo siguiente es importar el módulo warnings para advertir sobre cambios que puedan afectar su programa en futuras versiones de Python, o sobre prácticas que no son recomendables. Estas advertencias no detienen la ejecución del programa pero se muestran en la consola para informar al desarrollador. Al incluir \"ignore\", le decimos que no nos muestre las advertencia y las oculte."
      ],
      "metadata": {
        "id": "E9I-83sBw8E2"
      }
    },
    {
      "cell_type": "code",
      "source": [
        "import warnings\n",
        "warnings.filterwarnings(\"ignore\")"
      ],
      "metadata": {
        "id": "ddbEWApYrx8q"
      },
      "execution_count": 6,
      "outputs": []
    },
    {
      "cell_type": "markdown",
      "source": [
        "**TEST LLR (Likelihood Ratio)**"
      ],
      "metadata": {
        "id": "9hbY4JuFsEor"
      }
    },
    {
      "cell_type": "markdown",
      "source": [
        "Este test permite comparar la bondad de ajuste de dos modelos, prueva de razón de verosimilitud. Contrasto la adecuación de un modelo restringido en comparación con un modelo más general (o no restringido)."
      ],
      "metadata": {
        "id": "73oC7-wdwprZ"
      }
    },
    {
      "cell_type": "markdown",
      "source": [
        "Definimos una función llamada LLR_test que toma tres argumentos: mod_1, mod_2 y DF con un valor predeterminado de 1 grado de libertad. Luego se ajustan el modelo mod_1 y mod_2 usando el método fit() y luego se obtiene la función logarítmica de verosimilitud (log likelihood function) usando .llf. El valor resultante se almacena en la variable L1 y L2. Después, se calcula la razón de verosimilitud (LR), la cual es la diferencia entre las dos funciones logarítmicas de verosimilitud (L2 - L1) y la multiplica por 2. Finalmente, calculo el valor de p-value asociados al LR y el GL y se redonde su valor a 3 decimales."
      ],
      "metadata": {
        "id": "uEkiOcNowvU9"
      }
    },
    {
      "cell_type": "code",
      "source": [
        "def LLR_test(mod_1, mod_2, DF = 1):\n",
        "    L1 = mod_1.fit(start_ar_lags = 11).llf\n",
        "    L2 = mod_2.fit(start_ar_lags = 11).llf\n",
        "    LR = (2*(L2-L1))\n",
        "    p = chi2.sf(LR, DF).round(3)\n",
        "    return p"
      ],
      "metadata": {
        "id": "_Hyx4QH4sHRS"
      },
      "execution_count": 7,
      "outputs": []
    },
    {
      "cell_type": "markdown",
      "source": [
        "**CREACIÓN DE RETORNOS**"
      ],
      "metadata": {
        "id": "uzsH9_yjsKaB"
      }
    },
    {
      "cell_type": "markdown",
      "source": [
        "Aquí se está accediendo a la columna market_value del DataFrame df. para calcular el cambio porcentual entre el elemento actual y al usar el argumento 1, calcula el cambio porcentual respecto al elemento anterior. Entonces con este comando se está creando la variable returns en el DataFrame df, y asignándole los valores del cambio porcentual calculado de la columna market_value."
      ],
      "metadata": {
        "id": "Gugb2TMqxDDI"
      }
    },
    {
      "cell_type": "code",
      "source": [
        "df['returns'] = df.market_value.pct_change(1)*100"
      ],
      "metadata": {
        "id": "-VBCTy8GsJjQ"
      },
      "execution_count": 8,
      "outputs": []
    },
    {
      "cell_type": "markdown",
      "source": [
        "**MODELO GARCH SIMPLE**"
      ],
      "metadata": {
        "id": "JS7gXNY3sSzb"
      }
    },
    {
      "cell_type": "code",
      "source": [
        "model_garch_1_1 = arch_model(df.returns[1:], mean = \"Constant\", vol = \"GARCH\", p = 1, q = 1)\n",
        "results_garch_1_1 = model_garch_1_1.fit(update_freq = 5)\n",
        "results_garch_1_1.summary()"
      ],
      "metadata": {
        "id": "ZRukbdhfsQ8u",
        "colab": {
          "base_uri": "https://localhost:8080/",
          "height": 539
        },
        "outputId": "53409b21-8deb-4e48-9702-0538ff48448c"
      },
      "execution_count": 9,
      "outputs": [
        {
          "output_type": "stream",
          "name": "stdout",
          "text": [
            "Iteration:      5,   Func. Count:     38,   Neg. LLF: 1409.5869366024106\n",
            "Iteration:     10,   Func. Count:     64,   Neg. LLF: 1401.7748877256067\n",
            "Optimization terminated successfully    (Exit mode 0)\n",
            "            Current function value: 1401.7748844130797\n",
            "            Iterations: 12\n",
            "            Function evaluations: 73\n",
            "            Gradient evaluations: 12\n"
          ]
        },
        {
          "output_type": "execute_result",
          "data": {
            "text/plain": [
              "<class 'statsmodels.iolib.summary.Summary'>\n",
              "\"\"\"\n",
              "                     Constant Mean - GARCH Model Results                      \n",
              "==============================================================================\n",
              "Dep. Variable:                returns   R-squared:                       0.000\n",
              "Mean Model:             Constant Mean   Adj. R-squared:                  0.000\n",
              "Vol Model:                      GARCH   Log-Likelihood:               -1401.77\n",
              "Distribution:                  Normal   AIC:                           2811.55\n",
              "Method:            Maximum Likelihood   BIC:                           2831.16\n",
              "                                        No. Observations:                  995\n",
              "Date:                Sat, Oct 14 2023   Df Residuals:                      994\n",
              "Time:                        01:18:02   Df Model:                            1\n",
              "                                  Mean Model                                 \n",
              "=============================================================================\n",
              "                 coef    std err          t      P>|t|       95.0% Conf. Int.\n",
              "-----------------------------------------------------------------------------\n",
              "mu             0.0249  2.631e-02      0.945      0.345 [-2.671e-02,7.643e-02]\n",
              "                             Volatility Model                             \n",
              "==========================================================================\n",
              "                 coef    std err          t      P>|t|    95.0% Conf. Int.\n",
              "--------------------------------------------------------------------------\n",
              "omega          0.0666  2.447e-02      2.722  6.485e-03 [1.865e-02,  0.115]\n",
              "alpha[1]       0.1451  4.132e-02      3.511  4.469e-04 [6.408e-02,  0.226]\n",
              "beta[1]        0.8013  4.603e-02     17.406  7.383e-68   [  0.711,  0.892]\n",
              "==========================================================================\n",
              "\n",
              "Covariance estimator: robust\n",
              "\"\"\""
            ],
            "text/html": [
              "<table class=\"simpletable\">\n",
              "<caption>Constant Mean - GARCH Model Results</caption>\n",
              "<tr>\n",
              "  <th>Dep. Variable:</th>       <td>returns</td>      <th>  R-squared:         </th>  <td>   0.000</td> \n",
              "</tr>\n",
              "<tr>\n",
              "  <th>Mean Model:</th>       <td>Constant Mean</td>   <th>  Adj. R-squared:    </th>  <td>   0.000</td> \n",
              "</tr>\n",
              "<tr>\n",
              "  <th>Vol Model:</th>            <td>GARCH</td>       <th>  Log-Likelihood:    </th> <td>  -1401.77</td>\n",
              "</tr>\n",
              "<tr>\n",
              "  <th>Distribution:</th>        <td>Normal</td>       <th>  AIC:               </th> <td>   2811.55</td>\n",
              "</tr>\n",
              "<tr>\n",
              "  <th>Method:</th>        <td>Maximum Likelihood</td> <th>  BIC:               </th> <td>   2831.16</td>\n",
              "</tr>\n",
              "<tr>\n",
              "  <th></th>                        <td></td>          <th>  No. Observations:  </th>     <td>995</td>   \n",
              "</tr>\n",
              "<tr>\n",
              "  <th>Date:</th>           <td>Sat, Oct 14 2023</td>  <th>  Df Residuals:      </th>     <td>994</td>   \n",
              "</tr>\n",
              "<tr>\n",
              "  <th>Time:</th>               <td>01:18:02</td>      <th>  Df Model:          </th>      <td>1</td>    \n",
              "</tr>\n",
              "</table>\n",
              "<table class=\"simpletable\">\n",
              "<caption>Mean Model</caption>\n",
              "<tr>\n",
              "   <td></td>     <th>coef</th>     <th>std err</th>      <th>t</th>       <th>P>|t|</th>      <th>95.0% Conf. Int.</th>   \n",
              "</tr>\n",
              "<tr>\n",
              "  <th>mu</th> <td>    0.0249</td> <td>2.631e-02</td> <td>    0.945</td> <td>    0.345</td> <td>[-2.671e-02,7.643e-02]</td>\n",
              "</tr>\n",
              "</table>\n",
              "<table class=\"simpletable\">\n",
              "<caption>Volatility Model</caption>\n",
              "<tr>\n",
              "      <td></td>        <th>coef</th>     <th>std err</th>      <th>t</th>       <th>P>|t|</th>    <th>95.0% Conf. Int.</th>  \n",
              "</tr>\n",
              "<tr>\n",
              "  <th>omega</th>    <td>    0.0666</td> <td>2.447e-02</td> <td>    2.722</td> <td>6.485e-03</td> <td>[1.865e-02,  0.115]</td>\n",
              "</tr>\n",
              "<tr>\n",
              "  <th>alpha[1]</th> <td>    0.1451</td> <td>4.132e-02</td> <td>    3.511</td> <td>4.469e-04</td> <td>[6.408e-02,  0.226]</td>\n",
              "</tr>\n",
              "<tr>\n",
              "  <th>beta[1]</th>  <td>    0.8013</td> <td>4.603e-02</td> <td>   17.406</td> <td>7.383e-68</td>  <td>[  0.711,  0.892]</td> \n",
              "</tr>\n",
              "</table><br/><br/>Covariance estimator: robust"
            ],
            "text/latex": "\\begin{center}\n\\begin{tabular}{lclc}\n\\toprule\n\\textbf{Dep. Variable:} &      returns       & \\textbf{  R-squared:         } &     0.000   \\\\\n\\textbf{Mean Model:}    &   Constant Mean    & \\textbf{  Adj. R-squared:    } &     0.000   \\\\\n\\textbf{Vol Model:}     &       GARCH        & \\textbf{  Log-Likelihood:    } &   -1401.77  \\\\\n\\textbf{Distribution:}  &       Normal       & \\textbf{  AIC:               } &    2811.55  \\\\\n\\textbf{Method:}        & Maximum Likelihood & \\textbf{  BIC:               } &    2831.16  \\\\\n\\textbf{}               &                    & \\textbf{  No. Observations:  } &    995      \\\\\n\\textbf{Date:}          &  Sat, Oct 14 2023  & \\textbf{  Df Residuals:      } &    994      \\\\\n\\textbf{Time:}          &      01:18:02      & \\textbf{  Df Model:          } &     1       \\\\\n\\bottomrule\n\\end{tabular}\n\\begin{tabular}{lccccc}\n            & \\textbf{coef} & \\textbf{std err} & \\textbf{t} & \\textbf{P$> |$t$|$} & \\textbf{95.0\\% Conf. Int.}  \\\\\n\\midrule\n\\textbf{mu} &       0.0249  &    2.631e-02     &     0.945  &          0.345       &   [-2.671e-02,7.643e-02]    \\\\\n                  & \\textbf{coef} & \\textbf{std err} & \\textbf{t} & \\textbf{P$> |$t$|$} & \\textbf{95.0\\% Conf. Int.}  \\\\\n\\midrule\n\\textbf{omega}    &       0.0666  &    2.447e-02     &     2.722  &      6.485e-03       &    [1.865e-02,  0.115]      \\\\\n\\textbf{alpha[1]} &       0.1451  &    4.132e-02     &     3.511  &      4.469e-04       &    [6.408e-02,  0.226]      \\\\\n\\textbf{beta[1]}  &       0.8013  &    4.603e-02     &    17.406  &      7.383e-68       &     [  0.711,  0.892]       \\\\\n\\bottomrule\n\\end{tabular}\n%\\caption{Constant Mean - GARCH Model Results}\n\\end{center}\n\nCovariance estimator: robust"
          },
          "metadata": {},
          "execution_count": 9
        }
      ]
    },
    {
      "cell_type": "markdown",
      "source": [
        "**MODELOS GARCH CON MAYORES REZAGOS**"
      ],
      "metadata": {
        "id": "1ON2vEXjsj6f"
      }
    },
    {
      "cell_type": "code",
      "source": [
        "model_garch_1_2 = arch_model(df.returns[1:], mean = \"Constant\",  vol = \"GARCH\", p = 1, q = 2)\n",
        "results_garch_1_2 = model_garch_1_2.fit(update_freq = 5)\n",
        "results_garch_1_2.summary()"
      ],
      "metadata": {
        "id": "sl2MO6KHsuXd",
        "colab": {
          "base_uri": "https://localhost:8080/",
          "height": 560
        },
        "outputId": "d02df6b0-360d-49dc-9a38-cd38310a61b7"
      },
      "execution_count": 10,
      "outputs": [
        {
          "output_type": "stream",
          "name": "stdout",
          "text": [
            "Iteration:      5,   Func. Count:     39,   Neg. LLF: 1459.038814609465\n",
            "Iteration:     10,   Func. Count:     73,   Neg. LLF: 1400.5562463369524\n",
            "Optimization terminated successfully    (Exit mode 0)\n",
            "            Current function value: 1400.5562142290696\n",
            "            Iterations: 13\n",
            "            Function evaluations: 90\n",
            "            Gradient evaluations: 13\n"
          ]
        },
        {
          "output_type": "execute_result",
          "data": {
            "text/plain": [
              "<class 'statsmodels.iolib.summary.Summary'>\n",
              "\"\"\"\n",
              "                     Constant Mean - GARCH Model Results                      \n",
              "==============================================================================\n",
              "Dep. Variable:                returns   R-squared:                       0.000\n",
              "Mean Model:             Constant Mean   Adj. R-squared:                  0.000\n",
              "Vol Model:                      GARCH   Log-Likelihood:               -1400.56\n",
              "Distribution:                  Normal   AIC:                           2811.11\n",
              "Method:            Maximum Likelihood   BIC:                           2835.63\n",
              "                                        No. Observations:                  995\n",
              "Date:                Sat, Oct 14 2023   Df Residuals:                      994\n",
              "Time:                        01:18:08   Df Model:                            1\n",
              "                                  Mean Model                                 \n",
              "=============================================================================\n",
              "                 coef    std err          t      P>|t|       95.0% Conf. Int.\n",
              "-----------------------------------------------------------------------------\n",
              "mu             0.0235  2.617e-02      0.898      0.369 [-2.779e-02,7.480e-02]\n",
              "                             Volatility Model                             \n",
              "==========================================================================\n",
              "                 coef    std err          t      P>|t|    95.0% Conf. Int.\n",
              "--------------------------------------------------------------------------\n",
              "omega          0.0834  3.127e-02      2.667  7.653e-03 [2.211e-02,  0.145]\n",
              "alpha[1]       0.1879  5.219e-02      3.601  3.172e-04 [8.564e-02,  0.290]\n",
              "beta[1]        0.4033      0.130      3.099  1.940e-03   [  0.148,  0.658]\n",
              "beta[2]        0.3419      0.116      2.950  3.173e-03   [  0.115,  0.569]\n",
              "==========================================================================\n",
              "\n",
              "Covariance estimator: robust\n",
              "\"\"\""
            ],
            "text/html": [
              "<table class=\"simpletable\">\n",
              "<caption>Constant Mean - GARCH Model Results</caption>\n",
              "<tr>\n",
              "  <th>Dep. Variable:</th>       <td>returns</td>      <th>  R-squared:         </th>  <td>   0.000</td> \n",
              "</tr>\n",
              "<tr>\n",
              "  <th>Mean Model:</th>       <td>Constant Mean</td>   <th>  Adj. R-squared:    </th>  <td>   0.000</td> \n",
              "</tr>\n",
              "<tr>\n",
              "  <th>Vol Model:</th>            <td>GARCH</td>       <th>  Log-Likelihood:    </th> <td>  -1400.56</td>\n",
              "</tr>\n",
              "<tr>\n",
              "  <th>Distribution:</th>        <td>Normal</td>       <th>  AIC:               </th> <td>   2811.11</td>\n",
              "</tr>\n",
              "<tr>\n",
              "  <th>Method:</th>        <td>Maximum Likelihood</td> <th>  BIC:               </th> <td>   2835.63</td>\n",
              "</tr>\n",
              "<tr>\n",
              "  <th></th>                        <td></td>          <th>  No. Observations:  </th>     <td>995</td>   \n",
              "</tr>\n",
              "<tr>\n",
              "  <th>Date:</th>           <td>Sat, Oct 14 2023</td>  <th>  Df Residuals:      </th>     <td>994</td>   \n",
              "</tr>\n",
              "<tr>\n",
              "  <th>Time:</th>               <td>01:18:08</td>      <th>  Df Model:          </th>      <td>1</td>    \n",
              "</tr>\n",
              "</table>\n",
              "<table class=\"simpletable\">\n",
              "<caption>Mean Model</caption>\n",
              "<tr>\n",
              "   <td></td>     <th>coef</th>     <th>std err</th>      <th>t</th>       <th>P>|t|</th>      <th>95.0% Conf. Int.</th>   \n",
              "</tr>\n",
              "<tr>\n",
              "  <th>mu</th> <td>    0.0235</td> <td>2.617e-02</td> <td>    0.898</td> <td>    0.369</td> <td>[-2.779e-02,7.480e-02]</td>\n",
              "</tr>\n",
              "</table>\n",
              "<table class=\"simpletable\">\n",
              "<caption>Volatility Model</caption>\n",
              "<tr>\n",
              "      <td></td>        <th>coef</th>     <th>std err</th>      <th>t</th>       <th>P>|t|</th>    <th>95.0% Conf. Int.</th>  \n",
              "</tr>\n",
              "<tr>\n",
              "  <th>omega</th>    <td>    0.0834</td> <td>3.127e-02</td> <td>    2.667</td> <td>7.653e-03</td> <td>[2.211e-02,  0.145]</td>\n",
              "</tr>\n",
              "<tr>\n",
              "  <th>alpha[1]</th> <td>    0.1879</td> <td>5.219e-02</td> <td>    3.601</td> <td>3.172e-04</td> <td>[8.564e-02,  0.290]</td>\n",
              "</tr>\n",
              "<tr>\n",
              "  <th>beta[1]</th>  <td>    0.4033</td> <td>    0.130</td> <td>    3.099</td> <td>1.940e-03</td>  <td>[  0.148,  0.658]</td> \n",
              "</tr>\n",
              "<tr>\n",
              "  <th>beta[2]</th>  <td>    0.3419</td> <td>    0.116</td> <td>    2.950</td> <td>3.173e-03</td>  <td>[  0.115,  0.569]</td> \n",
              "</tr>\n",
              "</table><br/><br/>Covariance estimator: robust"
            ],
            "text/latex": "\\begin{center}\n\\begin{tabular}{lclc}\n\\toprule\n\\textbf{Dep. Variable:} &      returns       & \\textbf{  R-squared:         } &     0.000   \\\\\n\\textbf{Mean Model:}    &   Constant Mean    & \\textbf{  Adj. R-squared:    } &     0.000   \\\\\n\\textbf{Vol Model:}     &       GARCH        & \\textbf{  Log-Likelihood:    } &   -1400.56  \\\\\n\\textbf{Distribution:}  &       Normal       & \\textbf{  AIC:               } &    2811.11  \\\\\n\\textbf{Method:}        & Maximum Likelihood & \\textbf{  BIC:               } &    2835.63  \\\\\n\\textbf{}               &                    & \\textbf{  No. Observations:  } &    995      \\\\\n\\textbf{Date:}          &  Sat, Oct 14 2023  & \\textbf{  Df Residuals:      } &    994      \\\\\n\\textbf{Time:}          &      01:18:08      & \\textbf{  Df Model:          } &     1       \\\\\n\\bottomrule\n\\end{tabular}\n\\begin{tabular}{lccccc}\n            & \\textbf{coef} & \\textbf{std err} & \\textbf{t} & \\textbf{P$> |$t$|$} & \\textbf{95.0\\% Conf. Int.}  \\\\\n\\midrule\n\\textbf{mu} &       0.0235  &    2.617e-02     &     0.898  &          0.369       &   [-2.779e-02,7.480e-02]    \\\\\n                  & \\textbf{coef} & \\textbf{std err} & \\textbf{t} & \\textbf{P$> |$t$|$} & \\textbf{95.0\\% Conf. Int.}  \\\\\n\\midrule\n\\textbf{omega}    &       0.0834  &    3.127e-02     &     2.667  &      7.653e-03       &    [2.211e-02,  0.145]      \\\\\n\\textbf{alpha[1]} &       0.1879  &    5.219e-02     &     3.601  &      3.172e-04       &    [8.564e-02,  0.290]      \\\\\n\\textbf{beta[1]}  &       0.4033  &        0.130     &     3.099  &      1.940e-03       &     [  0.148,  0.658]       \\\\\n\\textbf{beta[2]}  &       0.3419  &        0.116     &     2.950  &      3.173e-03       &     [  0.115,  0.569]       \\\\\n\\bottomrule\n\\end{tabular}\n%\\caption{Constant Mean - GARCH Model Results}\n\\end{center}\n\nCovariance estimator: robust"
          },
          "metadata": {},
          "execution_count": 10
        }
      ]
    },
    {
      "cell_type": "code",
      "source": [
        "model_garch_2_1 = arch_model(df.returns[1:], mean = \"Constant\",  vol = \"GARCH\", p = 2, q = 1)\n",
        "results_garch_2_1 = model_garch_2_1.fit(update_freq = 5)\n",
        "results_garch_2_1.summary()"
      ],
      "metadata": {
        "id": "xC2qrVRCs0ze",
        "colab": {
          "base_uri": "https://localhost:8080/",
          "height": 560
        },
        "outputId": "83c87854-9bdf-494b-b9b5-31d1688f3285"
      },
      "execution_count": 11,
      "outputs": [
        {
          "output_type": "stream",
          "name": "stdout",
          "text": [
            "Iteration:      5,   Func. Count:     39,   Neg. LLF: 1433.3806314861254\n",
            "Iteration:     10,   Func. Count:     73,   Neg. LLF: 1403.1371217490164\n",
            "Optimization terminated successfully    (Exit mode 0)\n",
            "            Current function value: 1401.7748843856016\n",
            "            Iterations: 14\n",
            "            Function evaluations: 97\n",
            "            Gradient evaluations: 14\n"
          ]
        },
        {
          "output_type": "execute_result",
          "data": {
            "text/plain": [
              "<class 'statsmodels.iolib.summary.Summary'>\n",
              "\"\"\"\n",
              "                     Constant Mean - GARCH Model Results                      \n",
              "==============================================================================\n",
              "Dep. Variable:                returns   R-squared:                       0.000\n",
              "Mean Model:             Constant Mean   Adj. R-squared:                  0.000\n",
              "Vol Model:                      GARCH   Log-Likelihood:               -1401.77\n",
              "Distribution:                  Normal   AIC:                           2813.55\n",
              "Method:            Maximum Likelihood   BIC:                           2838.06\n",
              "                                        No. Observations:                  995\n",
              "Date:                Sat, Oct 14 2023   Df Residuals:                      994\n",
              "Time:                        01:18:12   Df Model:                            1\n",
              "                                  Mean Model                                 \n",
              "=============================================================================\n",
              "                 coef    std err          t      P>|t|       95.0% Conf. Int.\n",
              "-----------------------------------------------------------------------------\n",
              "mu             0.0249  2.624e-02      0.947      0.343 [-2.657e-02,7.629e-02]\n",
              "                             Volatility Model                             \n",
              "==========================================================================\n",
              "                 coef    std err          t      P>|t|    95.0% Conf. Int.\n",
              "--------------------------------------------------------------------------\n",
              "omega          0.0666  2.680e-02      2.485  1.296e-02 [1.407e-02,  0.119]\n",
              "alpha[1]       0.1451  5.801e-02      2.501  1.239e-02 [3.138e-02,  0.259]\n",
              "alpha[2]   5.0958e-14  5.865e-02  8.688e-13      1.000   [ -0.115,  0.115]\n",
              "beta[1]        0.8013  5.209e-02     15.382  2.160e-53   [  0.699,  0.903]\n",
              "==========================================================================\n",
              "\n",
              "Covariance estimator: robust\n",
              "\"\"\""
            ],
            "text/html": [
              "<table class=\"simpletable\">\n",
              "<caption>Constant Mean - GARCH Model Results</caption>\n",
              "<tr>\n",
              "  <th>Dep. Variable:</th>       <td>returns</td>      <th>  R-squared:         </th>  <td>   0.000</td> \n",
              "</tr>\n",
              "<tr>\n",
              "  <th>Mean Model:</th>       <td>Constant Mean</td>   <th>  Adj. R-squared:    </th>  <td>   0.000</td> \n",
              "</tr>\n",
              "<tr>\n",
              "  <th>Vol Model:</th>            <td>GARCH</td>       <th>  Log-Likelihood:    </th> <td>  -1401.77</td>\n",
              "</tr>\n",
              "<tr>\n",
              "  <th>Distribution:</th>        <td>Normal</td>       <th>  AIC:               </th> <td>   2813.55</td>\n",
              "</tr>\n",
              "<tr>\n",
              "  <th>Method:</th>        <td>Maximum Likelihood</td> <th>  BIC:               </th> <td>   2838.06</td>\n",
              "</tr>\n",
              "<tr>\n",
              "  <th></th>                        <td></td>          <th>  No. Observations:  </th>     <td>995</td>   \n",
              "</tr>\n",
              "<tr>\n",
              "  <th>Date:</th>           <td>Sat, Oct 14 2023</td>  <th>  Df Residuals:      </th>     <td>994</td>   \n",
              "</tr>\n",
              "<tr>\n",
              "  <th>Time:</th>               <td>01:18:12</td>      <th>  Df Model:          </th>      <td>1</td>    \n",
              "</tr>\n",
              "</table>\n",
              "<table class=\"simpletable\">\n",
              "<caption>Mean Model</caption>\n",
              "<tr>\n",
              "   <td></td>     <th>coef</th>     <th>std err</th>      <th>t</th>       <th>P>|t|</th>      <th>95.0% Conf. Int.</th>   \n",
              "</tr>\n",
              "<tr>\n",
              "  <th>mu</th> <td>    0.0249</td> <td>2.624e-02</td> <td>    0.947</td> <td>    0.343</td> <td>[-2.657e-02,7.629e-02]</td>\n",
              "</tr>\n",
              "</table>\n",
              "<table class=\"simpletable\">\n",
              "<caption>Volatility Model</caption>\n",
              "<tr>\n",
              "      <td></td>        <th>coef</th>     <th>std err</th>      <th>t</th>       <th>P>|t|</th>    <th>95.0% Conf. Int.</th>  \n",
              "</tr>\n",
              "<tr>\n",
              "  <th>omega</th>    <td>    0.0666</td> <td>2.680e-02</td> <td>    2.485</td> <td>1.296e-02</td> <td>[1.407e-02,  0.119]</td>\n",
              "</tr>\n",
              "<tr>\n",
              "  <th>alpha[1]</th> <td>    0.1451</td> <td>5.801e-02</td> <td>    2.501</td> <td>1.239e-02</td> <td>[3.138e-02,  0.259]</td>\n",
              "</tr>\n",
              "<tr>\n",
              "  <th>alpha[2]</th> <td>5.0958e-14</td> <td>5.865e-02</td> <td>8.688e-13</td> <td>    1.000</td>  <td>[ -0.115,  0.115]</td> \n",
              "</tr>\n",
              "<tr>\n",
              "  <th>beta[1]</th>  <td>    0.8013</td> <td>5.209e-02</td> <td>   15.382</td> <td>2.160e-53</td>  <td>[  0.699,  0.903]</td> \n",
              "</tr>\n",
              "</table><br/><br/>Covariance estimator: robust"
            ],
            "text/latex": "\\begin{center}\n\\begin{tabular}{lclc}\n\\toprule\n\\textbf{Dep. Variable:} &      returns       & \\textbf{  R-squared:         } &     0.000   \\\\\n\\textbf{Mean Model:}    &   Constant Mean    & \\textbf{  Adj. R-squared:    } &     0.000   \\\\\n\\textbf{Vol Model:}     &       GARCH        & \\textbf{  Log-Likelihood:    } &   -1401.77  \\\\\n\\textbf{Distribution:}  &       Normal       & \\textbf{  AIC:               } &    2813.55  \\\\\n\\textbf{Method:}        & Maximum Likelihood & \\textbf{  BIC:               } &    2838.06  \\\\\n\\textbf{}               &                    & \\textbf{  No. Observations:  } &    995      \\\\\n\\textbf{Date:}          &  Sat, Oct 14 2023  & \\textbf{  Df Residuals:      } &    994      \\\\\n\\textbf{Time:}          &      01:18:12      & \\textbf{  Df Model:          } &     1       \\\\\n\\bottomrule\n\\end{tabular}\n\\begin{tabular}{lccccc}\n            & \\textbf{coef} & \\textbf{std err} & \\textbf{t} & \\textbf{P$> |$t$|$} & \\textbf{95.0\\% Conf. Int.}  \\\\\n\\midrule\n\\textbf{mu} &       0.0249  &    2.624e-02     &     0.947  &          0.343       &   [-2.657e-02,7.629e-02]    \\\\\n                  & \\textbf{coef} & \\textbf{std err} & \\textbf{t} & \\textbf{P$> |$t$|$} & \\textbf{95.0\\% Conf. Int.}  \\\\\n\\midrule\n\\textbf{omega}    &       0.0666  &    2.680e-02     &     2.485  &      1.296e-02       &    [1.407e-02,  0.119]      \\\\\n\\textbf{alpha[1]} &       0.1451  &    5.801e-02     &     2.501  &      1.239e-02       &    [3.138e-02,  0.259]      \\\\\n\\textbf{alpha[2]} &   5.0958e-14  &    5.865e-02     & 8.688e-13  &          1.000       &     [ -0.115,  0.115]       \\\\\n\\textbf{beta[1]}  &       0.8013  &    5.209e-02     &    15.382  &      2.160e-53       &     [  0.699,  0.903]       \\\\\n\\bottomrule\n\\end{tabular}\n%\\caption{Constant Mean - GARCH Model Results}\n\\end{center}\n\nCovariance estimator: robust"
          },
          "metadata": {},
          "execution_count": 11
        }
      ]
    },
    {
      "cell_type": "code",
      "source": [
        "model_garch_3_1 = arch_model(df.returns[1:], mean = \"Constant\",  vol = \"GARCH\", p = 3, q = 1)\n",
        "results_garch_3_1 = model_garch_3_1.fit(update_freq = 5)\n",
        "results_garch_3_1.summary()"
      ],
      "metadata": {
        "id": "V4Yeq1NSs43l",
        "colab": {
          "base_uri": "https://localhost:8080/",
          "height": 598
        },
        "outputId": "ac2fab31-13fa-48ed-f3f0-a3c9184222a1"
      },
      "execution_count": 12,
      "outputs": [
        {
          "output_type": "stream",
          "name": "stdout",
          "text": [
            "Iteration:      5,   Func. Count:     43,   Neg. LLF: 1833.149478602304\n",
            "Iteration:     10,   Func. Count:     84,   Neg. LLF: 1400.942377455051\n",
            "Iteration:     15,   Func. Count:    118,   Neg. LLF: 1400.9313577527419\n",
            "Optimization terminated successfully    (Exit mode 0)\n",
            "            Current function value: 1400.9313577529579\n",
            "            Iterations: 15\n",
            "            Function evaluations: 118\n",
            "            Gradient evaluations: 15\n"
          ]
        },
        {
          "output_type": "execute_result",
          "data": {
            "text/plain": [
              "<class 'statsmodels.iolib.summary.Summary'>\n",
              "\"\"\"\n",
              "                     Constant Mean - GARCH Model Results                      \n",
              "==============================================================================\n",
              "Dep. Variable:                returns   R-squared:                       0.000\n",
              "Mean Model:             Constant Mean   Adj. R-squared:                  0.000\n",
              "Vol Model:                      GARCH   Log-Likelihood:               -1400.93\n",
              "Distribution:                  Normal   AIC:                           2813.86\n",
              "Method:            Maximum Likelihood   BIC:                           2843.28\n",
              "                                        No. Observations:                  995\n",
              "Date:                Sat, Oct 14 2023   Df Residuals:                      994\n",
              "Time:                        01:18:17   Df Model:                            1\n",
              "                                  Mean Model                                 \n",
              "=============================================================================\n",
              "                 coef    std err          t      P>|t|       95.0% Conf. Int.\n",
              "-----------------------------------------------------------------------------\n",
              "mu             0.0252  2.640e-02      0.954      0.340 [-2.656e-02,7.693e-02]\n",
              "                              Volatility Model                             \n",
              "===========================================================================\n",
              "                 coef    std err          t      P>|t|     95.0% Conf. Int.\n",
              "---------------------------------------------------------------------------\n",
              "omega          0.0796  3.440e-02      2.314  2.067e-02  [1.218e-02,  0.147]\n",
              "alpha[1]       0.1214  5.239e-02      2.317  2.051e-02  [1.870e-02,  0.224]\n",
              "alpha[2]   8.6048e-14  7.212e-02  1.193e-12      1.000    [ -0.141,  0.141]\n",
              "alpha[3]       0.0467  6.565e-02      0.711      0.477 [-8.200e-02,  0.175]\n",
              "beta[1]        0.7673  6.973e-02     11.005  3.616e-28    [  0.631,  0.904]\n",
              "===========================================================================\n",
              "\n",
              "Covariance estimator: robust\n",
              "\"\"\""
            ],
            "text/html": [
              "<table class=\"simpletable\">\n",
              "<caption>Constant Mean - GARCH Model Results</caption>\n",
              "<tr>\n",
              "  <th>Dep. Variable:</th>       <td>returns</td>      <th>  R-squared:         </th>  <td>   0.000</td> \n",
              "</tr>\n",
              "<tr>\n",
              "  <th>Mean Model:</th>       <td>Constant Mean</td>   <th>  Adj. R-squared:    </th>  <td>   0.000</td> \n",
              "</tr>\n",
              "<tr>\n",
              "  <th>Vol Model:</th>            <td>GARCH</td>       <th>  Log-Likelihood:    </th> <td>  -1400.93</td>\n",
              "</tr>\n",
              "<tr>\n",
              "  <th>Distribution:</th>        <td>Normal</td>       <th>  AIC:               </th> <td>   2813.86</td>\n",
              "</tr>\n",
              "<tr>\n",
              "  <th>Method:</th>        <td>Maximum Likelihood</td> <th>  BIC:               </th> <td>   2843.28</td>\n",
              "</tr>\n",
              "<tr>\n",
              "  <th></th>                        <td></td>          <th>  No. Observations:  </th>     <td>995</td>   \n",
              "</tr>\n",
              "<tr>\n",
              "  <th>Date:</th>           <td>Sat, Oct 14 2023</td>  <th>  Df Residuals:      </th>     <td>994</td>   \n",
              "</tr>\n",
              "<tr>\n",
              "  <th>Time:</th>               <td>01:18:17</td>      <th>  Df Model:          </th>      <td>1</td>    \n",
              "</tr>\n",
              "</table>\n",
              "<table class=\"simpletable\">\n",
              "<caption>Mean Model</caption>\n",
              "<tr>\n",
              "   <td></td>     <th>coef</th>     <th>std err</th>      <th>t</th>       <th>P>|t|</th>      <th>95.0% Conf. Int.</th>   \n",
              "</tr>\n",
              "<tr>\n",
              "  <th>mu</th> <td>    0.0252</td> <td>2.640e-02</td> <td>    0.954</td> <td>    0.340</td> <td>[-2.656e-02,7.693e-02]</td>\n",
              "</tr>\n",
              "</table>\n",
              "<table class=\"simpletable\">\n",
              "<caption>Volatility Model</caption>\n",
              "<tr>\n",
              "      <td></td>        <th>coef</th>     <th>std err</th>      <th>t</th>       <th>P>|t|</th>     <th>95.0% Conf. Int.</th>  \n",
              "</tr>\n",
              "<tr>\n",
              "  <th>omega</th>    <td>    0.0796</td> <td>3.440e-02</td> <td>    2.314</td> <td>2.067e-02</td>  <td>[1.218e-02,  0.147]</td>\n",
              "</tr>\n",
              "<tr>\n",
              "  <th>alpha[1]</th> <td>    0.1214</td> <td>5.239e-02</td> <td>    2.317</td> <td>2.051e-02</td>  <td>[1.870e-02,  0.224]</td>\n",
              "</tr>\n",
              "<tr>\n",
              "  <th>alpha[2]</th> <td>8.6048e-14</td> <td>7.212e-02</td> <td>1.193e-12</td> <td>    1.000</td>   <td>[ -0.141,  0.141]</td> \n",
              "</tr>\n",
              "<tr>\n",
              "  <th>alpha[3]</th> <td>    0.0467</td> <td>6.565e-02</td> <td>    0.711</td> <td>    0.477</td> <td>[-8.200e-02,  0.175]</td>\n",
              "</tr>\n",
              "<tr>\n",
              "  <th>beta[1]</th>  <td>    0.7673</td> <td>6.973e-02</td> <td>   11.005</td> <td>3.616e-28</td>   <td>[  0.631,  0.904]</td> \n",
              "</tr>\n",
              "</table><br/><br/>Covariance estimator: robust"
            ],
            "text/latex": "\\begin{center}\n\\begin{tabular}{lclc}\n\\toprule\n\\textbf{Dep. Variable:} &      returns       & \\textbf{  R-squared:         } &     0.000   \\\\\n\\textbf{Mean Model:}    &   Constant Mean    & \\textbf{  Adj. R-squared:    } &     0.000   \\\\\n\\textbf{Vol Model:}     &       GARCH        & \\textbf{  Log-Likelihood:    } &   -1400.93  \\\\\n\\textbf{Distribution:}  &       Normal       & \\textbf{  AIC:               } &    2813.86  \\\\\n\\textbf{Method:}        & Maximum Likelihood & \\textbf{  BIC:               } &    2843.28  \\\\\n\\textbf{}               &                    & \\textbf{  No. Observations:  } &    995      \\\\\n\\textbf{Date:}          &  Sat, Oct 14 2023  & \\textbf{  Df Residuals:      } &    994      \\\\\n\\textbf{Time:}          &      01:18:17      & \\textbf{  Df Model:          } &     1       \\\\\n\\bottomrule\n\\end{tabular}\n\\begin{tabular}{lccccc}\n            & \\textbf{coef} & \\textbf{std err} & \\textbf{t} & \\textbf{P$> |$t$|$} & \\textbf{95.0\\% Conf. Int.}  \\\\\n\\midrule\n\\textbf{mu} &       0.0252  &    2.640e-02     &     0.954  &          0.340       &   [-2.656e-02,7.693e-02]    \\\\\n                  & \\textbf{coef} & \\textbf{std err} & \\textbf{t} & \\textbf{P$> |$t$|$} & \\textbf{95.0\\% Conf. Int.}  \\\\\n\\midrule\n\\textbf{omega}    &       0.0796  &    3.440e-02     &     2.314  &      2.067e-02       &    [1.218e-02,  0.147]      \\\\\n\\textbf{alpha[1]} &       0.1214  &    5.239e-02     &     2.317  &      2.051e-02       &    [1.870e-02,  0.224]      \\\\\n\\textbf{alpha[2]} &   8.6048e-14  &    7.212e-02     & 1.193e-12  &          1.000       &     [ -0.141,  0.141]       \\\\\n\\textbf{alpha[3]} &       0.0467  &    6.565e-02     &     0.711  &          0.477       &    [-8.200e-02,  0.175]     \\\\\n\\textbf{beta[1]}  &       0.7673  &    6.973e-02     &    11.005  &      3.616e-28       &     [  0.631,  0.904]       \\\\\n\\bottomrule\n\\end{tabular}\n%\\caption{Constant Mean - GARCH Model Results}\n\\end{center}\n\nCovariance estimator: robust"
          },
          "metadata": {},
          "execution_count": 12
        }
      ]
    }
  ]
}